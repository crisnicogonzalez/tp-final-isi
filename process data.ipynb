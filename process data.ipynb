{
 "cells": [
  {
   "cell_type": "code",
   "execution_count": 13,
   "id": "2747a3bd",
   "metadata": {},
   "outputs": [
    {
     "name": "stdout",
     "output_type": "stream",
     "text": [
      "initial len df 1000000\n",
      "len of caba 255028\n",
      "len of caba venta dto 126268\n",
      "105.62022282754832\n",
      "85.3710296077409\n"
     ]
    },
    {
     "data": {
      "text/html": [
       "<div>\n",
       "<style scoped>\n",
       "    .dataframe tbody tr th:only-of-type {\n",
       "        vertical-align: middle;\n",
       "    }\n",
       "\n",
       "    .dataframe tbody tr th {\n",
       "        vertical-align: top;\n",
       "    }\n",
       "\n",
       "    .dataframe thead th {\n",
       "        text-align: right;\n",
       "    }\n",
       "</style>\n",
       "<table border=\"1\" class=\"dataframe\">\n",
       "  <thead>\n",
       "    <tr style=\"text-align: right;\">\n",
       "      <th></th>\n",
       "      <th>ad_type</th>\n",
       "      <th>start_date</th>\n",
       "      <th>end_date</th>\n",
       "      <th>created_on</th>\n",
       "      <th>lat</th>\n",
       "      <th>lon</th>\n",
       "      <th>l1</th>\n",
       "      <th>l2</th>\n",
       "      <th>l3</th>\n",
       "      <th>l4</th>\n",
       "      <th>rooms</th>\n",
       "      <th>bedrooms</th>\n",
       "      <th>bathrooms</th>\n",
       "      <th>surface_total</th>\n",
       "      <th>surface_covered</th>\n",
       "      <th>price</th>\n",
       "      <th>currency</th>\n",
       "      <th>property_type</th>\n",
       "      <th>operation_type</th>\n",
       "    </tr>\n",
       "  </thead>\n",
       "  <tbody>\n",
       "    <tr>\n",
       "      <th>43</th>\n",
       "      <td>Propiedad</td>\n",
       "      <td>2020-12-26</td>\n",
       "      <td>9999-12-31</td>\n",
       "      <td>2020-12-26</td>\n",
       "      <td>-34.643163</td>\n",
       "      <td>-58.494823</td>\n",
       "      <td>Argentina</td>\n",
       "      <td>Capital Federal</td>\n",
       "      <td>Villa Luro</td>\n",
       "      <td>NaN</td>\n",
       "      <td>2.0</td>\n",
       "      <td>NaN</td>\n",
       "      <td>1.0</td>\n",
       "      <td>105.620223</td>\n",
       "      <td>85.37103</td>\n",
       "      <td>100000.0</td>\n",
       "      <td>USD</td>\n",
       "      <td>Departamento</td>\n",
       "      <td>Venta</td>\n",
       "    </tr>\n",
       "    <tr>\n",
       "      <th>68</th>\n",
       "      <td>Propiedad</td>\n",
       "      <td>2020-12-26</td>\n",
       "      <td>9999-12-31</td>\n",
       "      <td>2020-12-26</td>\n",
       "      <td>-34.579185</td>\n",
       "      <td>-58.434970</td>\n",
       "      <td>Argentina</td>\n",
       "      <td>Capital Federal</td>\n",
       "      <td>Palermo</td>\n",
       "      <td>Palermo Hollywood</td>\n",
       "      <td>NaN</td>\n",
       "      <td>NaN</td>\n",
       "      <td>1.0</td>\n",
       "      <td>33.000000</td>\n",
       "      <td>29.00000</td>\n",
       "      <td>105000.0</td>\n",
       "      <td>USD</td>\n",
       "      <td>Departamento</td>\n",
       "      <td>Venta</td>\n",
       "    </tr>\n",
       "    <tr>\n",
       "      <th>69</th>\n",
       "      <td>Propiedad</td>\n",
       "      <td>2020-12-26</td>\n",
       "      <td>2021-02-11</td>\n",
       "      <td>2020-12-26</td>\n",
       "      <td>-34.556279</td>\n",
       "      <td>-58.462507</td>\n",
       "      <td>Argentina</td>\n",
       "      <td>Capital Federal</td>\n",
       "      <td>Belgrano</td>\n",
       "      <td>NaN</td>\n",
       "      <td>1.0</td>\n",
       "      <td>NaN</td>\n",
       "      <td>1.0</td>\n",
       "      <td>40.000000</td>\n",
       "      <td>85.37103</td>\n",
       "      <td>110000.0</td>\n",
       "      <td>USD</td>\n",
       "      <td>Departamento</td>\n",
       "      <td>Venta</td>\n",
       "    </tr>\n",
       "    <tr>\n",
       "      <th>72</th>\n",
       "      <td>Propiedad</td>\n",
       "      <td>2020-12-26</td>\n",
       "      <td>2020-12-29</td>\n",
       "      <td>2020-12-26</td>\n",
       "      <td>-34.592565</td>\n",
       "      <td>-58.445352</td>\n",
       "      <td>Argentina</td>\n",
       "      <td>Capital Federal</td>\n",
       "      <td>Villa Crespo</td>\n",
       "      <td>NaN</td>\n",
       "      <td>1.0</td>\n",
       "      <td>NaN</td>\n",
       "      <td>1.0</td>\n",
       "      <td>27.000000</td>\n",
       "      <td>25.00000</td>\n",
       "      <td>84900.0</td>\n",
       "      <td>USD</td>\n",
       "      <td>Departamento</td>\n",
       "      <td>Venta</td>\n",
       "    </tr>\n",
       "    <tr>\n",
       "      <th>75</th>\n",
       "      <td>Propiedad</td>\n",
       "      <td>2020-12-26</td>\n",
       "      <td>2021-04-10</td>\n",
       "      <td>2020-12-26</td>\n",
       "      <td>-34.606791</td>\n",
       "      <td>-58.469843</td>\n",
       "      <td>Argentina</td>\n",
       "      <td>Capital Federal</td>\n",
       "      <td>Villa General Mitre</td>\n",
       "      <td>NaN</td>\n",
       "      <td>NaN</td>\n",
       "      <td>NaN</td>\n",
       "      <td>1.0</td>\n",
       "      <td>27.000000</td>\n",
       "      <td>24.00000</td>\n",
       "      <td>68000.0</td>\n",
       "      <td>USD</td>\n",
       "      <td>Departamento</td>\n",
       "      <td>Venta</td>\n",
       "    </tr>\n",
       "  </tbody>\n",
       "</table>\n",
       "</div>"
      ],
      "text/plain": [
       "      ad_type  start_date    end_date created_on        lat        lon  \\\n",
       "43  Propiedad  2020-12-26  9999-12-31 2020-12-26 -34.643163 -58.494823   \n",
       "68  Propiedad  2020-12-26  9999-12-31 2020-12-26 -34.579185 -58.434970   \n",
       "69  Propiedad  2020-12-26  2021-02-11 2020-12-26 -34.556279 -58.462507   \n",
       "72  Propiedad  2020-12-26  2020-12-29 2020-12-26 -34.592565 -58.445352   \n",
       "75  Propiedad  2020-12-26  2021-04-10 2020-12-26 -34.606791 -58.469843   \n",
       "\n",
       "           l1               l2                   l3                 l4  rooms  \\\n",
       "43  Argentina  Capital Federal           Villa Luro                NaN    2.0   \n",
       "68  Argentina  Capital Federal              Palermo  Palermo Hollywood    NaN   \n",
       "69  Argentina  Capital Federal             Belgrano                NaN    1.0   \n",
       "72  Argentina  Capital Federal         Villa Crespo                NaN    1.0   \n",
       "75  Argentina  Capital Federal  Villa General Mitre                NaN    NaN   \n",
       "\n",
       "    bedrooms  bathrooms  surface_total  surface_covered     price currency  \\\n",
       "43       NaN        1.0     105.620223         85.37103  100000.0      USD   \n",
       "68       NaN        1.0      33.000000         29.00000  105000.0      USD   \n",
       "69       NaN        1.0      40.000000         85.37103  110000.0      USD   \n",
       "72       NaN        1.0      27.000000         25.00000   84900.0      USD   \n",
       "75       NaN        1.0      27.000000         24.00000   68000.0      USD   \n",
       "\n",
       "   property_type operation_type  \n",
       "43  Departamento          Venta  \n",
       "68  Departamento          Venta  \n",
       "69  Departamento          Venta  \n",
       "72  Departamento          Venta  \n",
       "75  Departamento          Venta  "
      ]
     },
     "execution_count": 13,
     "metadata": {},
     "output_type": "execute_result"
    }
   ],
   "source": [
    "import pandas as pd\n",
    "\n",
    "df = pd.read_csv('data.csv')\n",
    "\n",
    "df.head()\n",
    "\n",
    "# Convert create_on to Date\n",
    "import calendar\n",
    "\n",
    "df['created_on'] = pd.to_datetime(df['created_on'])\n",
    "\n",
    "del df['description']\n",
    "\n",
    "del df['title']\n",
    "del df['price_period']\n",
    "del df['l6']\n",
    "del df['l5']\n",
    "del df['id']\n",
    "# df = df[df['l2'] == 'Capital Federal']\n",
    "print(\"initial len df\",len(df))\n",
    "df = df.loc[df['l2'] == 'Capital Federal']\n",
    "print(\"len of caba\", len(df))\n",
    "df = df.loc[df['operation_type'] == 'Venta']\n",
    "df = df.loc[df['property_type'] == 'Departamento']\n",
    "print(\"len of caba venta dto\", len(df))\n",
    "\n",
    "\n",
    "print(df['surface_total'].mean())\n",
    "print(df['surface_covered'].mean())\n",
    "\n",
    "\n",
    "# fill surface_total\n",
    "df['surface_total'].fillna((df['surface_total'].mean()), inplace=True)\n",
    "# fill surface_covered\n",
    "df['surface_covered'].fillna((df['surface_covered'].mean()), inplace=True)\n",
    "\n",
    "# clean bedrooms\n",
    "df_one_bedroom = df.loc[df['bedrooms'] == 1.0]\n",
    "\n",
    "\n",
    "#df_caba_venta.to_csv('cleaned_data.csv', index=False)\n",
    "df.head()"
   ]
  },
  {
   "cell_type": "code",
   "execution_count": 10,
   "id": "56d1f7bc",
   "metadata": {},
   "outputs": [
    {
     "data": {
      "text/plain": [
       "array([ nan,   0.,   1.,   2.,   3.,   4.,   5.,   6.,   7.,  32.,   8.,\n",
       "        77.,   9.,  36.,  70.,  10., 153.,  22.,  12.,  11.,  21.,  20.,\n",
       "        -1.,  13.,  14.,  16.])"
      ]
     },
     "execution_count": 10,
     "metadata": {},
     "output_type": "execute_result"
    }
   ],
   "source": [
    "df['bedrooms'].unique()"
   ]
  },
  {
   "cell_type": "code",
   "execution_count": 12,
   "id": "a8e33f76",
   "metadata": {},
   "outputs": [
    {
     "data": {
      "text/plain": [
       "21716"
      ]
     },
     "execution_count": 12,
     "metadata": {},
     "output_type": "execute_result"
    }
   ],
   "source": [
    "df['bedrooms'].isnull().values.ravel().sum()"
   ]
  },
  {
   "cell_type": "code",
   "execution_count": 21,
   "id": "3add024c",
   "metadata": {},
   "outputs": [
    {
     "data": {
      "text/plain": [
       "85.37102960774088"
      ]
     },
     "execution_count": 21,
     "metadata": {},
     "output_type": "execute_result"
    }
   ],
   "source": [
    "df_zero_bedroom = df.loc[df['bedrooms'] == 0.0]\n",
    "df_zero_bedroom['surface_covered'].mean()\n"
   ]
  },
  {
   "cell_type": "code",
   "execution_count": 22,
   "id": "bbe24ce2",
   "metadata": {},
   "outputs": [
    {
     "data": {
      "text/plain": [
       "62.80081627426867"
      ]
     },
     "execution_count": 22,
     "metadata": {},
     "output_type": "execute_result"
    }
   ],
   "source": [
    "df_one_bedroom = df.loc[df['bedrooms'] == 1.0]\n",
    "df_one_bedroom['surface_covered'].mean()\n",
    "\n"
   ]
  },
  {
   "cell_type": "code",
   "execution_count": 23,
   "id": "f363b42c",
   "metadata": {},
   "outputs": [
    {
     "data": {
      "text/plain": [
       "91.35325069851427"
      ]
     },
     "execution_count": 23,
     "metadata": {},
     "output_type": "execute_result"
    }
   ],
   "source": [
    "df_two_bedroom = df.loc[df['bedrooms'] == 2.0]\n",
    "df_two_bedroom['surface_covered'].mean()"
   ]
  },
  {
   "cell_type": "code",
   "execution_count": null,
   "id": "486eaf15",
   "metadata": {},
   "outputs": [],
   "source": []
  }
 ],
 "metadata": {
  "kernelspec": {
   "display_name": "Python 3 (ipykernel)",
   "language": "python",
   "name": "python3"
  },
  "language_info": {
   "codemirror_mode": {
    "name": "ipython",
    "version": 3
   },
   "file_extension": ".py",
   "mimetype": "text/x-python",
   "name": "python",
   "nbconvert_exporter": "python",
   "pygments_lexer": "ipython3",
   "version": "3.8.10"
  }
 },
 "nbformat": 4,
 "nbformat_minor": 5
}
