{
 "cells": [
  {
   "cell_type": "code",
   "execution_count": 8,
   "id": "2747a3bd",
   "metadata": {},
   "outputs": [],
   "source": [
    "import pandas as pd\n",
    "import calendar\n",
    "\n",
    "df = pd.read_csv('data.csv')\n",
    "\n",
    "\n"
   ]
  },
  {
   "cell_type": "markdown",
   "id": "ffc3cbef",
   "metadata": {},
   "source": [
    "Eliminando atributos"
   ]
  },
  {
   "cell_type": "code",
   "execution_count": 9,
   "id": "5de5d5e9",
   "metadata": {},
   "outputs": [],
   "source": [
    "del df['description']\n",
    "del df['title']\n",
    "del df['price_period']\n",
    "del df['l6']\n",
    "del df['l5']\n",
    "del df['id']"
   ]
  },
  {
   "cell_type": "markdown",
   "id": "5687f16c",
   "metadata": {},
   "source": [
    "Discriminando data"
   ]
  },
  {
   "cell_type": "code",
   "execution_count": 10,
   "id": "cd85382c",
   "metadata": {},
   "outputs": [
    {
     "data": {
      "text/html": [
       "<div>\n",
       "<style scoped>\n",
       "    .dataframe tbody tr th:only-of-type {\n",
       "        vertical-align: middle;\n",
       "    }\n",
       "\n",
       "    .dataframe tbody tr th {\n",
       "        vertical-align: top;\n",
       "    }\n",
       "\n",
       "    .dataframe thead th {\n",
       "        text-align: right;\n",
       "    }\n",
       "</style>\n",
       "<table border=\"1\" class=\"dataframe\">\n",
       "  <thead>\n",
       "    <tr style=\"text-align: right;\">\n",
       "      <th></th>\n",
       "      <th>ad_type</th>\n",
       "      <th>start_date</th>\n",
       "      <th>end_date</th>\n",
       "      <th>created_on</th>\n",
       "      <th>lat</th>\n",
       "      <th>lon</th>\n",
       "      <th>l1</th>\n",
       "      <th>l2</th>\n",
       "      <th>l3</th>\n",
       "      <th>l4</th>\n",
       "      <th>rooms</th>\n",
       "      <th>bedrooms</th>\n",
       "      <th>bathrooms</th>\n",
       "      <th>surface_total</th>\n",
       "      <th>surface_covered</th>\n",
       "      <th>price</th>\n",
       "      <th>currency</th>\n",
       "      <th>property_type</th>\n",
       "      <th>operation_type</th>\n",
       "    </tr>\n",
       "  </thead>\n",
       "  <tbody>\n",
       "    <tr>\n",
       "      <th>43</th>\n",
       "      <td>Propiedad</td>\n",
       "      <td>2020-12-26</td>\n",
       "      <td>9999-12-31</td>\n",
       "      <td>2020-12-26</td>\n",
       "      <td>-34.643163</td>\n",
       "      <td>-58.494823</td>\n",
       "      <td>Argentina</td>\n",
       "      <td>Capital Federal</td>\n",
       "      <td>Villa Luro</td>\n",
       "      <td>NaN</td>\n",
       "      <td>2.0</td>\n",
       "      <td>NaN</td>\n",
       "      <td>1.0</td>\n",
       "      <td>NaN</td>\n",
       "      <td>NaN</td>\n",
       "      <td>100000.0</td>\n",
       "      <td>USD</td>\n",
       "      <td>Departamento</td>\n",
       "      <td>Venta</td>\n",
       "    </tr>\n",
       "    <tr>\n",
       "      <th>68</th>\n",
       "      <td>Propiedad</td>\n",
       "      <td>2020-12-26</td>\n",
       "      <td>9999-12-31</td>\n",
       "      <td>2020-12-26</td>\n",
       "      <td>-34.579185</td>\n",
       "      <td>-58.434970</td>\n",
       "      <td>Argentina</td>\n",
       "      <td>Capital Federal</td>\n",
       "      <td>Palermo</td>\n",
       "      <td>Palermo Hollywood</td>\n",
       "      <td>NaN</td>\n",
       "      <td>NaN</td>\n",
       "      <td>1.0</td>\n",
       "      <td>33.0</td>\n",
       "      <td>29.0</td>\n",
       "      <td>105000.0</td>\n",
       "      <td>USD</td>\n",
       "      <td>Departamento</td>\n",
       "      <td>Venta</td>\n",
       "    </tr>\n",
       "    <tr>\n",
       "      <th>69</th>\n",
       "      <td>Propiedad</td>\n",
       "      <td>2020-12-26</td>\n",
       "      <td>2021-02-11</td>\n",
       "      <td>2020-12-26</td>\n",
       "      <td>-34.556279</td>\n",
       "      <td>-58.462507</td>\n",
       "      <td>Argentina</td>\n",
       "      <td>Capital Federal</td>\n",
       "      <td>Belgrano</td>\n",
       "      <td>NaN</td>\n",
       "      <td>1.0</td>\n",
       "      <td>NaN</td>\n",
       "      <td>1.0</td>\n",
       "      <td>40.0</td>\n",
       "      <td>NaN</td>\n",
       "      <td>110000.0</td>\n",
       "      <td>USD</td>\n",
       "      <td>Departamento</td>\n",
       "      <td>Venta</td>\n",
       "    </tr>\n",
       "    <tr>\n",
       "      <th>72</th>\n",
       "      <td>Propiedad</td>\n",
       "      <td>2020-12-26</td>\n",
       "      <td>2020-12-29</td>\n",
       "      <td>2020-12-26</td>\n",
       "      <td>-34.592565</td>\n",
       "      <td>-58.445352</td>\n",
       "      <td>Argentina</td>\n",
       "      <td>Capital Federal</td>\n",
       "      <td>Villa Crespo</td>\n",
       "      <td>NaN</td>\n",
       "      <td>1.0</td>\n",
       "      <td>NaN</td>\n",
       "      <td>1.0</td>\n",
       "      <td>27.0</td>\n",
       "      <td>25.0</td>\n",
       "      <td>84900.0</td>\n",
       "      <td>USD</td>\n",
       "      <td>Departamento</td>\n",
       "      <td>Venta</td>\n",
       "    </tr>\n",
       "    <tr>\n",
       "      <th>75</th>\n",
       "      <td>Propiedad</td>\n",
       "      <td>2020-12-26</td>\n",
       "      <td>2021-04-10</td>\n",
       "      <td>2020-12-26</td>\n",
       "      <td>-34.606791</td>\n",
       "      <td>-58.469843</td>\n",
       "      <td>Argentina</td>\n",
       "      <td>Capital Federal</td>\n",
       "      <td>Villa General Mitre</td>\n",
       "      <td>NaN</td>\n",
       "      <td>NaN</td>\n",
       "      <td>NaN</td>\n",
       "      <td>1.0</td>\n",
       "      <td>27.0</td>\n",
       "      <td>24.0</td>\n",
       "      <td>68000.0</td>\n",
       "      <td>USD</td>\n",
       "      <td>Departamento</td>\n",
       "      <td>Venta</td>\n",
       "    </tr>\n",
       "  </tbody>\n",
       "</table>\n",
       "</div>"
      ],
      "text/plain": [
       "      ad_type  start_date    end_date  created_on        lat        lon  \\\n",
       "43  Propiedad  2020-12-26  9999-12-31  2020-12-26 -34.643163 -58.494823   \n",
       "68  Propiedad  2020-12-26  9999-12-31  2020-12-26 -34.579185 -58.434970   \n",
       "69  Propiedad  2020-12-26  2021-02-11  2020-12-26 -34.556279 -58.462507   \n",
       "72  Propiedad  2020-12-26  2020-12-29  2020-12-26 -34.592565 -58.445352   \n",
       "75  Propiedad  2020-12-26  2021-04-10  2020-12-26 -34.606791 -58.469843   \n",
       "\n",
       "           l1               l2                   l3                 l4  rooms  \\\n",
       "43  Argentina  Capital Federal           Villa Luro                NaN    2.0   \n",
       "68  Argentina  Capital Federal              Palermo  Palermo Hollywood    NaN   \n",
       "69  Argentina  Capital Federal             Belgrano                NaN    1.0   \n",
       "72  Argentina  Capital Federal         Villa Crespo                NaN    1.0   \n",
       "75  Argentina  Capital Federal  Villa General Mitre                NaN    NaN   \n",
       "\n",
       "    bedrooms  bathrooms  surface_total  surface_covered     price currency  \\\n",
       "43       NaN        1.0            NaN              NaN  100000.0      USD   \n",
       "68       NaN        1.0           33.0             29.0  105000.0      USD   \n",
       "69       NaN        1.0           40.0              NaN  110000.0      USD   \n",
       "72       NaN        1.0           27.0             25.0   84900.0      USD   \n",
       "75       NaN        1.0           27.0             24.0   68000.0      USD   \n",
       "\n",
       "   property_type operation_type  \n",
       "43  Departamento          Venta  \n",
       "68  Departamento          Venta  \n",
       "69  Departamento          Venta  \n",
       "72  Departamento          Venta  \n",
       "75  Departamento          Venta  "
      ]
     },
     "execution_count": 10,
     "metadata": {},
     "output_type": "execute_result"
    }
   ],
   "source": [
    "df = df.loc[df['l2'] == 'Capital Federal']\n",
    "df = df.loc[df['operation_type'] == 'Venta']\n",
    "df = df.loc[df['property_type'] == 'Departamento']\n",
    "df = df.loc[df['currency'] == 'USD']\n",
    "df.head()"
   ]
  },
  {
   "cell_type": "markdown",
   "id": "f62a33a0",
   "metadata": {},
   "source": [
    "Transform & clean"
   ]
  },
  {
   "cell_type": "code",
   "execution_count": 11,
   "id": "5dd9086f",
   "metadata": {},
   "outputs": [],
   "source": [
    "def divide_by_one_thounsans(x):\n",
    "    return x / 1000\n",
    "\n",
    "\n",
    "df['created_on'] = pd.to_datetime(df['created_on'])\n",
    "df['surface_total'].fillna((df['surface_total'].mean()), inplace=True)\n",
    "df['surface_covered'].fillna((df['surface_covered'].mean()), inplace=True)\n",
    "df['bedrooms'].fillna((df['bedrooms'].mean()), inplace=True)\n",
    "df['rooms'].fillna((df['rooms'].mean()), inplace=True)\n",
    "df['price'] = df['price'].apply(divide_by_one_thounsans)\n"
   ]
  },
  {
   "cell_type": "code",
   "execution_count": 12,
   "id": "b2cb26ef",
   "metadata": {},
   "outputs": [
    {
     "data": {
      "text/plain": [
       "<AxesSubplot:>"
      ]
     },
     "execution_count": 12,
     "metadata": {},
     "output_type": "execute_result"
    },
    {
     "data": {
      "image/png": "[encoded data removed]",
      "text/plain": [
       "<Figure size 432x288 with 1 Axes>"
      ]
     },
     "metadata": {
      "needs_background": "light"
     },
     "output_type": "display_data"
    }
   ],
   "source": [
    "df['price'].plot()"
   ]
  },
  {
   "cell_type": "code",
   "execution_count": 15,
   "id": "4cd49d7a",
   "metadata": {},
   "outputs": [
    {
     "data": {
      "text/plain": [
       "<AxesSubplot:>"
      ]
     },
     "execution_count": 15,
     "metadata": {},
     "output_type": "execute_result"
    },
    {
     "data": {
      "image/png": "[encoded data removed]",
      "text/plain": [
       "<Figure size 432x288 with 1 Axes>"
      ]
     },
     "metadata": {
      "needs_background": "light"
     },
     "output_type": "display_data"
    }
   ],
   "source": [
    "df['price'] = df['price'].loc[df['price'] < 1000]\n",
    "df['price'].plot()"
   ]
  },
  {
   "cell_type": "code",
   "execution_count": 16,
   "id": "d47afd4b",
   "metadata": {},
   "outputs": [
    {
     "data": {
      "text/plain": [
       "array([[<AxesSubplot:title={'center':'price'}>]], dtype=object)"
      ]
     },
     "execution_count": 16,
     "metadata": {},
     "output_type": "execute_result"
    },
    {
     "data": {
      "image/png": "[encoded data removed]",
      "text/plain": [
       "<Figure size 432x288 with 1 Axes>"
      ]
     },
     "metadata": {
      "needs_background": "light"
     },
     "output_type": "display_data"
    }
   ],
   "source": [
    "df.hist(column='price')"
   ]
  },
  {
   "cell_type": "code",
   "execution_count": null,
   "id": "0db3897c",
   "metadata": {},
   "outputs": [],
   "source": []
  }
 ],
 "metadata": {
  "kernelspec": {
   "display_name": "Python 3 (ipykernel)",
   "language": "python",
   "name": "python3"
  },
  "language_info": {
   "codemirror_mode": {
    "name": "ipython",
    "version": 3
   },
   "file_extension": ".py",
   "mimetype": "text/x-python",
   "name": "python",
   "nbconvert_exporter": "python",
   "pygments_lexer": "ipython3",
   "version": "3.8.10"
  }
 },
 "nbformat": 4,
 "nbformat_minor": 5
}
