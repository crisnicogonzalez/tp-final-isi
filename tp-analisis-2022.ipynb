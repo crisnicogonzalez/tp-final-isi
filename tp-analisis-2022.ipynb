{
 "cells": [
  {
   "cell_type": "code",
   "execution_count": 61,
   "id": "2747a3bd",
   "metadata": {},
   "outputs": [],
   "source": [
    "import pandas as pd\n",
    "import calendar\n",
    "from pandas import Series\n",
    "import matplotlib.pyplot as plt\n",
    "\n",
    "df = pd.read_csv('ar_properties.csv')\n",
    "#df = pd.read_csv('data_old.csv')"
   ]
  },
  {
   "cell_type": "code",
   "execution_count": 4,
   "id": "84f8bd0b",
   "metadata": {},
   "outputs": [
    {
     "data": {
      "text/html": [
       "<div>\n",
       "<style scoped>\n",
       "    .dataframe tbody tr th:only-of-type {\n",
       "        vertical-align: middle;\n",
       "    }\n",
       "\n",
       "    .dataframe tbody tr th {\n",
       "        vertical-align: top;\n",
       "    }\n",
       "\n",
       "    .dataframe thead th {\n",
       "        text-align: right;\n",
       "    }\n",
       "</style>\n",
       "<table border=\"1\" class=\"dataframe\">\n",
       "  <thead>\n",
       "    <tr style=\"text-align: right;\">\n",
       "      <th></th>\n",
       "      <th>id</th>\n",
       "      <th>ad_type</th>\n",
       "      <th>start_date</th>\n",
       "      <th>end_date</th>\n",
       "      <th>created_on</th>\n",
       "      <th>lat</th>\n",
       "      <th>lon</th>\n",
       "      <th>l1</th>\n",
       "      <th>l2</th>\n",
       "      <th>l3</th>\n",
       "      <th>...</th>\n",
       "      <th>bathrooms</th>\n",
       "      <th>surface_total</th>\n",
       "      <th>surface_covered</th>\n",
       "      <th>price</th>\n",
       "      <th>currency</th>\n",
       "      <th>price_period</th>\n",
       "      <th>title</th>\n",
       "      <th>description</th>\n",
       "      <th>property_type</th>\n",
       "      <th>operation_type</th>\n",
       "    </tr>\n",
       "  </thead>\n",
       "  <tbody>\n",
       "    <tr>\n",
       "      <th>0</th>\n",
       "      <td>DyVXfkpKygVBKuUk5olH+A==</td>\n",
       "      <td>Propiedad</td>\n",
       "      <td>2020-08-22</td>\n",
       "      <td>2020-09-03</td>\n",
       "      <td>2020-08-22</td>\n",
       "      <td>-34.407468</td>\n",
       "      <td>-58.957367</td>\n",
       "      <td>Argentina</td>\n",
       "      <td>Bs.As. G.B.A. Zona Norte</td>\n",
       "      <td>Pilar</td>\n",
       "      <td>...</td>\n",
       "      <td>NaN</td>\n",
       "      <td>133139.0</td>\n",
       "      <td>NaN</td>\n",
       "      <td>NaN</td>\n",
       "      <td>NaN</td>\n",
       "      <td>Mensual</td>\n",
       "      <td>VENTA - Lote Industrial 130.000m2 - Parque Ind...</td>\n",
       "      <td>Lote (Nro.50) mide 133.139 m2\\n&lt;br&gt;Valor: U$S ...</td>\n",
       "      <td>Lote</td>\n",
       "      <td>Venta</td>\n",
       "    </tr>\n",
       "    <tr>\n",
       "      <th>1</th>\n",
       "      <td>9naojilaMecJN4jlQiTkGg==</td>\n",
       "      <td>Propiedad</td>\n",
       "      <td>2020-08-22</td>\n",
       "      <td>2020-09-04</td>\n",
       "      <td>2020-08-22</td>\n",
       "      <td>-37.996039</td>\n",
       "      <td>-57.542509</td>\n",
       "      <td>Argentina</td>\n",
       "      <td>Buenos Aires Costa Atlántica</td>\n",
       "      <td>Mar del Plata</td>\n",
       "      <td>...</td>\n",
       "      <td>NaN</td>\n",
       "      <td>687.0</td>\n",
       "      <td>687.0</td>\n",
       "      <td>NaN</td>\n",
       "      <td>NaN</td>\n",
       "      <td>Mensual</td>\n",
       "      <td>Casa - Santa Cecilia</td>\n",
       "      <td>Conjunto edilicio de casa y departamentos en b...</td>\n",
       "      <td>Otro</td>\n",
       "      <td>Venta</td>\n",
       "    </tr>\n",
       "    <tr>\n",
       "      <th>2</th>\n",
       "      <td>tlCPRJPjoDEUzuuCelemAQ==</td>\n",
       "      <td>Propiedad</td>\n",
       "      <td>2020-08-22</td>\n",
       "      <td>2020-08-31</td>\n",
       "      <td>2020-08-22</td>\n",
       "      <td>-31.380187</td>\n",
       "      <td>-58.009182</td>\n",
       "      <td>Argentina</td>\n",
       "      <td>Entre Ríos</td>\n",
       "      <td>Concordia</td>\n",
       "      <td>...</td>\n",
       "      <td>1.0</td>\n",
       "      <td>80.0</td>\n",
       "      <td>80.0</td>\n",
       "      <td>NaN</td>\n",
       "      <td>NaN</td>\n",
       "      <td>Mensual</td>\n",
       "      <td>Casa - Concordia</td>\n",
       "      <td>Casa de un dormitorio, cocina, baño, living co...</td>\n",
       "      <td>Casa</td>\n",
       "      <td>Alquiler</td>\n",
       "    </tr>\n",
       "    <tr>\n",
       "      <th>3</th>\n",
       "      <td>Zw3b91glQUO3HNrM5fPYlQ==</td>\n",
       "      <td>Propiedad</td>\n",
       "      <td>2020-08-22</td>\n",
       "      <td>2020-09-04</td>\n",
       "      <td>2020-08-22</td>\n",
       "      <td>-27.494106</td>\n",
       "      <td>-55.123455</td>\n",
       "      <td>Argentina</td>\n",
       "      <td>Misiones</td>\n",
       "      <td>Oberá</td>\n",
       "      <td>...</td>\n",
       "      <td>1.0</td>\n",
       "      <td>NaN</td>\n",
       "      <td>NaN</td>\n",
       "      <td>NaN</td>\n",
       "      <td>NaN</td>\n",
       "      <td>Mensual</td>\n",
       "      <td>Terreno - Obera</td>\n",
       "      <td>IMPORTANTE PROPIEDAD EN VENTA EN OBERA MISIONE...</td>\n",
       "      <td>Lote</td>\n",
       "      <td>Venta</td>\n",
       "    </tr>\n",
       "    <tr>\n",
       "      <th>4</th>\n",
       "      <td>bsU81gm9JEgtZCbTYgvykg==</td>\n",
       "      <td>Propiedad</td>\n",
       "      <td>2020-08-22</td>\n",
       "      <td>2020-09-04</td>\n",
       "      <td>2020-08-22</td>\n",
       "      <td>-32.948856</td>\n",
       "      <td>-60.630464</td>\n",
       "      <td>Argentina</td>\n",
       "      <td>Santa Fe</td>\n",
       "      <td>Rosario</td>\n",
       "      <td>...</td>\n",
       "      <td>1.0</td>\n",
       "      <td>76.0</td>\n",
       "      <td>66.0</td>\n",
       "      <td>NaN</td>\n",
       "      <td>NaN</td>\n",
       "      <td>Mensual</td>\n",
       "      <td>Departamento - Rosario</td>\n",
       "      <td>PORTAL DE LOS MARINOS&lt;br&gt;Es un complejo de viv...</td>\n",
       "      <td>Departamento</td>\n",
       "      <td>Venta</td>\n",
       "    </tr>\n",
       "  </tbody>\n",
       "</table>\n",
       "<p>5 rows × 25 columns</p>\n",
       "</div>"
      ],
      "text/plain": [
       "                         id    ad_type  start_date    end_date  created_on  \\\n",
       "0  DyVXfkpKygVBKuUk5olH+A==  Propiedad  2020-08-22  2020-09-03  2020-08-22   \n",
       "1  9naojilaMecJN4jlQiTkGg==  Propiedad  2020-08-22  2020-09-04  2020-08-22   \n",
       "2  tlCPRJPjoDEUzuuCelemAQ==  Propiedad  2020-08-22  2020-08-31  2020-08-22   \n",
       "3  Zw3b91glQUO3HNrM5fPYlQ==  Propiedad  2020-08-22  2020-09-04  2020-08-22   \n",
       "4  bsU81gm9JEgtZCbTYgvykg==  Propiedad  2020-08-22  2020-09-04  2020-08-22   \n",
       "\n",
       "         lat        lon         l1                            l2  \\\n",
       "0 -34.407468 -58.957367  Argentina      Bs.As. G.B.A. Zona Norte   \n",
       "1 -37.996039 -57.542509  Argentina  Buenos Aires Costa Atlántica   \n",
       "2 -31.380187 -58.009182  Argentina                    Entre Ríos   \n",
       "3 -27.494106 -55.123455  Argentina                      Misiones   \n",
       "4 -32.948856 -60.630464  Argentina                      Santa Fe   \n",
       "\n",
       "              l3  ... bathrooms surface_total  surface_covered  price  \\\n",
       "0          Pilar  ...       NaN      133139.0              NaN    NaN   \n",
       "1  Mar del Plata  ...       NaN         687.0            687.0    NaN   \n",
       "2      Concordia  ...       1.0          80.0             80.0    NaN   \n",
       "3          Oberá  ...       1.0           NaN              NaN    NaN   \n",
       "4        Rosario  ...       1.0          76.0             66.0    NaN   \n",
       "\n",
       "   currency  price_period                                              title  \\\n",
       "0       NaN       Mensual  VENTA - Lote Industrial 130.000m2 - Parque Ind...   \n",
       "1       NaN       Mensual                               Casa - Santa Cecilia   \n",
       "2       NaN       Mensual                                   Casa - Concordia   \n",
       "3       NaN       Mensual                                    Terreno - Obera   \n",
       "4       NaN       Mensual                             Departamento - Rosario   \n",
       "\n",
       "                                         description  property_type  \\\n",
       "0  Lote (Nro.50) mide 133.139 m2\\n<br>Valor: U$S ...           Lote   \n",
       "1  Conjunto edilicio de casa y departamentos en b...           Otro   \n",
       "2  Casa de un dormitorio, cocina, baño, living co...           Casa   \n",
       "3  IMPORTANTE PROPIEDAD EN VENTA EN OBERA MISIONE...           Lote   \n",
       "4  PORTAL DE LOS MARINOS<br>Es un complejo de viv...   Departamento   \n",
       "\n",
       "  operation_type  \n",
       "0          Venta  \n",
       "1          Venta  \n",
       "2       Alquiler  \n",
       "3          Venta  \n",
       "4          Venta  \n",
       "\n",
       "[5 rows x 25 columns]"
      ]
     },
     "execution_count": 4,
     "metadata": {},
     "output_type": "execute_result"
    }
   ],
   "source": [
    "df.head()"
   ]
  },
  {
   "cell_type": "code",
   "execution_count": 62,
   "id": "4f2759f8",
   "metadata": {},
   "outputs": [
    {
     "name": "stdout",
     "output_type": "stream",
     "text": [
      "<class 'pandas.core.frame.DataFrame'>\n",
      "RangeIndex: 1000000 entries, 0 to 999999\n",
      "Data columns (total 25 columns):\n",
      " #   Column           Non-Null Count    Dtype  \n",
      "---  ------           --------------    -----  \n",
      " 0   id               1000000 non-null  object \n",
      " 1   ad_type          1000000 non-null  object \n",
      " 2   start_date       1000000 non-null  object \n",
      " 3   end_date         1000000 non-null  object \n",
      " 4   created_on       1000000 non-null  object \n",
      " 5   lat              894233 non-null   float64\n",
      " 6   lon              894191 non-null   float64\n",
      " 7   l1               1000000 non-null  object \n",
      " 8   l2               1000000 non-null  object \n",
      " 9   l3               965273 non-null   object \n",
      " 10  l4               306162 non-null   object \n",
      " 11  l5               5530 non-null     object \n",
      " 12  l6               0 non-null        float64\n",
      " 13  rooms            714179 non-null   float64\n",
      " 14  bedrooms         649933 non-null   float64\n",
      " 15  bathrooms        765122 non-null   float64\n",
      " 16  surface_total    477831 non-null   float64\n",
      " 17  surface_covered  487756 non-null   float64\n",
      " 18  price            958243 non-null   float64\n",
      " 19  currency         955491 non-null   object \n",
      " 20  price_period     429870 non-null   object \n",
      " 21  title            999999 non-null   object \n",
      " 22  description      999958 non-null   object \n",
      " 23  property_type    1000000 non-null  object \n",
      " 24  operation_type   1000000 non-null  object \n",
      "dtypes: float64(9), object(16)\n",
      "memory usage: 190.7+ MB\n"
     ]
    }
   ],
   "source": [
    "df.info()"
   ]
  },
  {
   "cell_type": "markdown",
   "id": "572828d4",
   "metadata": {},
   "source": [
    "### Nos quedamos con avisos de venta de departamentos en Capital Federal"
   ]
  },
  {
   "cell_type": "code",
   "execution_count": 70,
   "id": "ec1c26db",
   "metadata": {},
   "outputs": [
    {
     "data": {
      "text/html": [
       "<div>\n",
       "<style scoped>\n",
       "    .dataframe tbody tr th:only-of-type {\n",
       "        vertical-align: middle;\n",
       "    }\n",
       "\n",
       "    .dataframe tbody tr th {\n",
       "        vertical-align: top;\n",
       "    }\n",
       "\n",
       "    .dataframe thead th {\n",
       "        text-align: right;\n",
       "    }\n",
       "</style>\n",
       "<table border=\"1\" class=\"dataframe\">\n",
       "  <thead>\n",
       "    <tr style=\"text-align: right;\">\n",
       "      <th></th>\n",
       "      <th>id</th>\n",
       "      <th>ad_type</th>\n",
       "      <th>start_date</th>\n",
       "      <th>end_date</th>\n",
       "      <th>created_on</th>\n",
       "      <th>lat</th>\n",
       "      <th>lon</th>\n",
       "      <th>l1</th>\n",
       "      <th>l2</th>\n",
       "      <th>l3</th>\n",
       "      <th>...</th>\n",
       "      <th>surface_total</th>\n",
       "      <th>surface_covered</th>\n",
       "      <th>price</th>\n",
       "      <th>currency</th>\n",
       "      <th>price_period</th>\n",
       "      <th>title</th>\n",
       "      <th>description</th>\n",
       "      <th>operation_type</th>\n",
       "      <th>year</th>\n",
       "      <th>month</th>\n",
       "    </tr>\n",
       "  </thead>\n",
       "  <tbody>\n",
       "    <tr>\n",
       "      <th>163</th>\n",
       "      <td>U3qdJMKXnOJm0Y1tWpnnfg==</td>\n",
       "      <td>Propiedad</td>\n",
       "      <td>2020-08-22</td>\n",
       "      <td>2020-09-04</td>\n",
       "      <td>2020-08-22</td>\n",
       "      <td>-34.597364</td>\n",
       "      <td>-58.372987</td>\n",
       "      <td>Argentina</td>\n",
       "      <td>Capital Federal</td>\n",
       "      <td>Retiro</td>\n",
       "      <td>...</td>\n",
       "      <td>NaN</td>\n",
       "      <td>25.0</td>\n",
       "      <td>85000.0</td>\n",
       "      <td>USD</td>\n",
       "      <td>Mensual</td>\n",
       "      <td>Departamento - Capital Federal</td>\n",
       "      <td>EXCELENTE DEPTO MUY LUMINOSO, &lt;br&gt;&lt;br&gt;LAS MEDI...</td>\n",
       "      <td>Venta</td>\n",
       "      <td>2020</td>\n",
       "      <td>8</td>\n",
       "    </tr>\n",
       "    <tr>\n",
       "      <th>164</th>\n",
       "      <td>gsQB/JzLxaQdBLfNcm/DMw==</td>\n",
       "      <td>Propiedad</td>\n",
       "      <td>2020-08-22</td>\n",
       "      <td>2020-09-04</td>\n",
       "      <td>2020-08-22</td>\n",
       "      <td>-34.600004</td>\n",
       "      <td>-58.417191</td>\n",
       "      <td>Argentina</td>\n",
       "      <td>Capital Federal</td>\n",
       "      <td>Almagro</td>\n",
       "      <td>...</td>\n",
       "      <td>38.0</td>\n",
       "      <td>31.0</td>\n",
       "      <td>110000.0</td>\n",
       "      <td>USD</td>\n",
       "      <td>Mensual</td>\n",
       "      <td>Monoambiente c/Cochera Fija Cubierta. Edif c/P...</td>\n",
       "      <td>Monoambiente de 38m² en muy buen estado con Am...</td>\n",
       "      <td>Venta</td>\n",
       "      <td>2020</td>\n",
       "      <td>8</td>\n",
       "    </tr>\n",
       "    <tr>\n",
       "      <th>165</th>\n",
       "      <td>SlPt6GJRjM+cO4rD3n3HFQ==</td>\n",
       "      <td>Propiedad</td>\n",
       "      <td>2020-08-22</td>\n",
       "      <td>2020-09-04</td>\n",
       "      <td>2020-08-22</td>\n",
       "      <td>-34.581699</td>\n",
       "      <td>-58.433547</td>\n",
       "      <td>Argentina</td>\n",
       "      <td>Capital Federal</td>\n",
       "      <td>Palermo</td>\n",
       "      <td>...</td>\n",
       "      <td>35.0</td>\n",
       "      <td>30.0</td>\n",
       "      <td>105000.0</td>\n",
       "      <td>USD</td>\n",
       "      <td>Mensual</td>\n",
       "      <td>Oportunidad!!!!Palermo Hollywood Monoamb amobl...</td>\n",
       "      <td>RETASADO Venta Palermo Niceto Vega y Bonpland ...</td>\n",
       "      <td>Venta</td>\n",
       "      <td>2020</td>\n",
       "      <td>8</td>\n",
       "    </tr>\n",
       "    <tr>\n",
       "      <th>166</th>\n",
       "      <td>ZaH+6DXJ4MLM6QqZXhgWiw==</td>\n",
       "      <td>Propiedad</td>\n",
       "      <td>2020-08-22</td>\n",
       "      <td>2020-09-04</td>\n",
       "      <td>2020-08-22</td>\n",
       "      <td>-34.595044</td>\n",
       "      <td>-58.442538</td>\n",
       "      <td>Argentina</td>\n",
       "      <td>Capital Federal</td>\n",
       "      <td>Palermo</td>\n",
       "      <td>...</td>\n",
       "      <td>51.0</td>\n",
       "      <td>46.0</td>\n",
       "      <td>150000.0</td>\n",
       "      <td>USD</td>\n",
       "      <td>Mensual</td>\n",
       "      <td>2 AMBIENTES CON COCHERA Y PARRILLA EN VILLA CR...</td>\n",
       "      <td>CONTACTO: 11- (LLAMADOS O WHATSAPP)&lt;br&gt;&lt;br&gt;EXC...</td>\n",
       "      <td>Venta</td>\n",
       "      <td>2020</td>\n",
       "      <td>8</td>\n",
       "    </tr>\n",
       "    <tr>\n",
       "      <th>167</th>\n",
       "      <td>r7qrM5xaYo8QImSnqyKyYA==</td>\n",
       "      <td>Propiedad</td>\n",
       "      <td>2020-08-22</td>\n",
       "      <td>2020-09-04</td>\n",
       "      <td>2020-08-22</td>\n",
       "      <td>-34.582549</td>\n",
       "      <td>-58.417350</td>\n",
       "      <td>Argentina</td>\n",
       "      <td>Capital Federal</td>\n",
       "      <td>Palermo</td>\n",
       "      <td>...</td>\n",
       "      <td>53.0</td>\n",
       "      <td>53.0</td>\n",
       "      <td>136500.0</td>\n",
       "      <td>USD</td>\n",
       "      <td>Mensual</td>\n",
       "      <td>2 AMB EN PALERMO</td>\n",
       "      <td>2 AMBIENTES CON 2 BALCÓNES PISO 8&lt;br&gt;&lt;br&gt;Inmej...</td>\n",
       "      <td>Venta</td>\n",
       "      <td>2020</td>\n",
       "      <td>8</td>\n",
       "    </tr>\n",
       "  </tbody>\n",
       "</table>\n",
       "<p>5 rows × 26 columns</p>\n",
       "</div>"
      ],
      "text/plain": [
       "                           id    ad_type  start_date    end_date created_on  \\\n",
       "163  U3qdJMKXnOJm0Y1tWpnnfg==  Propiedad  2020-08-22  2020-09-04 2020-08-22   \n",
       "164  gsQB/JzLxaQdBLfNcm/DMw==  Propiedad  2020-08-22  2020-09-04 2020-08-22   \n",
       "165  SlPt6GJRjM+cO4rD3n3HFQ==  Propiedad  2020-08-22  2020-09-04 2020-08-22   \n",
       "166  ZaH+6DXJ4MLM6QqZXhgWiw==  Propiedad  2020-08-22  2020-09-04 2020-08-22   \n",
       "167  r7qrM5xaYo8QImSnqyKyYA==  Propiedad  2020-08-22  2020-09-04 2020-08-22   \n",
       "\n",
       "           lat        lon         l1               l2       l3  ...  \\\n",
       "163 -34.597364 -58.372987  Argentina  Capital Federal   Retiro  ...   \n",
       "164 -34.600004 -58.417191  Argentina  Capital Federal  Almagro  ...   \n",
       "165 -34.581699 -58.433547  Argentina  Capital Federal  Palermo  ...   \n",
       "166 -34.595044 -58.442538  Argentina  Capital Federal  Palermo  ...   \n",
       "167 -34.582549 -58.417350  Argentina  Capital Federal  Palermo  ...   \n",
       "\n",
       "    surface_total surface_covered     price  currency  price_period  \\\n",
       "163           NaN            25.0   85000.0       USD       Mensual   \n",
       "164          38.0            31.0  110000.0       USD       Mensual   \n",
       "165          35.0            30.0  105000.0       USD       Mensual   \n",
       "166          51.0            46.0  150000.0       USD       Mensual   \n",
       "167          53.0            53.0  136500.0       USD       Mensual   \n",
       "\n",
       "                                                 title  \\\n",
       "163                     Departamento - Capital Federal   \n",
       "164  Monoambiente c/Cochera Fija Cubierta. Edif c/P...   \n",
       "165  Oportunidad!!!!Palermo Hollywood Monoamb amobl...   \n",
       "166  2 AMBIENTES CON COCHERA Y PARRILLA EN VILLA CR...   \n",
       "167                                   2 AMB EN PALERMO   \n",
       "\n",
       "                                           description  operation_type  year  \\\n",
       "163  EXCELENTE DEPTO MUY LUMINOSO, <br><br>LAS MEDI...           Venta  2020   \n",
       "164  Monoambiente de 38m² en muy buen estado con Am...           Venta  2020   \n",
       "165  RETASADO Venta Palermo Niceto Vega y Bonpland ...           Venta  2020   \n",
       "166  CONTACTO: 11- (LLAMADOS O WHATSAPP)<br><br>EXC...           Venta  2020   \n",
       "167  2 AMBIENTES CON 2 BALCÓNES PISO 8<br><br>Inmej...           Venta  2020   \n",
       "\n",
       "    month  \n",
       "163     8  \n",
       "164     8  \n",
       "165     8  \n",
       "166     8  \n",
       "167     8  \n",
       "\n",
       "[5 rows x 26 columns]"
      ]
     },
     "execution_count": 70,
     "metadata": {},
     "output_type": "execute_result"
    }
   ],
   "source": [
    "# hay datos de 2020 y 2021\n",
    "df_caba = df.loc[df['l2'] == 'Capital Federal']\n",
    "df_caba = df_caba.loc[df['operation_type'] == 'Venta']\n",
    "df_caba = df_caba.loc[df['property_type'] == 'Departamento']\n",
    "df_caba = df_caba.loc[df['currency'] == 'USD']\n",
    "df_caba['created_on'] = pd.to_datetime(df_caba['created_on'])\n",
    "df_caba['year'] = df_caba['created_on'].map(lambda x:x.year)\n",
    "df_caba['month'] = df_caba['created_on'].map(lambda x:x.month)\n",
    "del df_caba['property_type']\n",
    "df_caba.head()"
   ]
  },
  {
   "cell_type": "code",
   "execution_count": 64,
   "id": "18233be4",
   "metadata": {},
   "outputs": [
    {
     "name": "stdout",
     "output_type": "stream",
     "text": [
      "<class 'pandas.core.frame.DataFrame'>\n",
      "Int64Index: 131720 entries, 163 to 999978\n",
      "Data columns (total 26 columns):\n",
      " #   Column           Non-Null Count   Dtype         \n",
      "---  ------           --------------   -----         \n",
      " 0   id               131720 non-null  object        \n",
      " 1   ad_type          131720 non-null  object        \n",
      " 2   start_date       131720 non-null  object        \n",
      " 3   end_date         131720 non-null  object        \n",
      " 4   created_on       131720 non-null  datetime64[ns]\n",
      " 5   lat              123428 non-null  float64       \n",
      " 6   lon              123428 non-null  float64       \n",
      " 7   l1               131720 non-null  object        \n",
      " 8   l2               131720 non-null  object        \n",
      " 9   l3               131209 non-null  object        \n",
      " 10  l4               5914 non-null    object        \n",
      " 11  l5               0 non-null       object        \n",
      " 12  l6               0 non-null       float64       \n",
      " 13  rooms            125620 non-null  float64       \n",
      " 14  bedrooms         108655 non-null  float64       \n",
      " 15  bathrooms        125765 non-null  float64       \n",
      " 16  surface_total    89751 non-null   float64       \n",
      " 17  surface_covered  90846 non-null   float64       \n",
      " 18  price            131720 non-null  float64       \n",
      " 19  currency         131720 non-null  object        \n",
      " 20  price_period     62535 non-null   object        \n",
      " 21  title            131720 non-null  object        \n",
      " 22  description      131720 non-null  object        \n",
      " 23  operation_type   131720 non-null  object        \n",
      " 24  year             131720 non-null  int64         \n",
      " 25  month            131720 non-null  int64         \n",
      "dtypes: datetime64[ns](1), float64(9), int64(2), object(14)\n",
      "memory usage: 27.1+ MB\n"
     ]
    }
   ],
   "source": [
    "df_caba.info()"
   ]
  },
  {
   "cell_type": "markdown",
   "id": "a0a3cfdc",
   "metadata": {},
   "source": [
    "Tranformación y limpieza datos"
   ]
  },
  {
   "cell_type": "code",
   "execution_count": 71,
   "id": "8839a3b2",
   "metadata": {},
   "outputs": [
    {
     "name": "stdout",
     "output_type": "stream",
     "text": [
      "<class 'pandas.core.frame.DataFrame'>\n",
      "Int64Index: 131720 entries, 163 to 999978\n",
      "Data columns (total 26 columns):\n",
      " #   Column           Non-Null Count   Dtype         \n",
      "---  ------           --------------   -----         \n",
      " 0   id               131720 non-null  object        \n",
      " 1   ad_type          131720 non-null  object        \n",
      " 2   start_date       131720 non-null  object        \n",
      " 3   end_date         131720 non-null  object        \n",
      " 4   created_on       131720 non-null  datetime64[ns]\n",
      " 5   lat              123428 non-null  float64       \n",
      " 6   lon              123428 non-null  float64       \n",
      " 7   l1               131720 non-null  object        \n",
      " 8   l2               131720 non-null  object        \n",
      " 9   l3               131209 non-null  object        \n",
      " 10  l4               5914 non-null    object        \n",
      " 11  l5               0 non-null       object        \n",
      " 12  l6               0 non-null       float64       \n",
      " 13  rooms            131720 non-null  float64       \n",
      " 14  bedrooms         131720 non-null  float64       \n",
      " 15  bathrooms        125765 non-null  float64       \n",
      " 16  surface_total    131720 non-null  float64       \n",
      " 17  surface_covered  131720 non-null  float64       \n",
      " 18  price            131720 non-null  float64       \n",
      " 19  currency         131720 non-null  object        \n",
      " 20  price_period     62535 non-null   object        \n",
      " 21  title            131720 non-null  object        \n",
      " 22  description      131720 non-null  object        \n",
      " 23  operation_type   131720 non-null  object        \n",
      " 24  year             131720 non-null  int64         \n",
      " 25  month            131720 non-null  int64         \n",
      "dtypes: datetime64[ns](1), float64(9), int64(2), object(14)\n",
      "memory usage: 27.1+ MB\n"
     ]
    }
   ],
   "source": [
    "def divide_by_one_thounsans(x):\n",
    "    return x / 1000\n",
    "\n",
    "df_caba['created_on'] = pd.to_datetime(df_caba['created_on'])\n",
    "df_caba['surface_total'].fillna((df_caba['surface_total'].mean()), inplace=True)\n",
    "df_caba['surface_covered'].fillna((df_caba['surface_covered'].mean()), inplace=True)\n",
    "df_caba['bedrooms'].fillna((df_caba['bedrooms'].mean()), inplace=True)\n",
    "df_caba['rooms'].fillna((df_caba['rooms'].mean()), inplace=True)\n",
    "\n",
    "df_caba['price'] = df_caba['price'].apply(divide_by_one_thounsans)\n",
    "df_caba.info()"
   ]
  },
  {
   "cell_type": "markdown",
   "id": "a3b213f5",
   "metadata": {},
   "source": [
    "### Eliminando atributos que no son necesarios para el análisis"
   ]
  },
  {
   "cell_type": "code",
   "execution_count": 67,
   "id": "9205295a",
   "metadata": {},
   "outputs": [],
   "source": [
    "del df_caba['id']\n",
    "del df_caba['description']\n",
    "del df_caba['title']\n",
    "del df_caba['price_period']\n",
    "del df_caba['ad_type']\n",
    "del df_caba['start_date']\n",
    "del df_caba['end_date']\n",
    "del df_caba['lat']\n",
    "del df_caba['lon']\n",
    "del df_caba['currency']\n",
    "\n",
    "del df_caba['l1']\n",
    "del df_caba['l2']"
   ]
  },
  {
   "cell_type": "markdown",
   "id": "66693b6f",
   "metadata": {},
   "source": [
    "### Limpieza de datos"
   ]
  },
  {
   "cell_type": "markdown",
   "id": "3f36150d",
   "metadata": {},
   "source": [
    "#### Analisis de Price"
   ]
  },
  {
   "cell_type": "code",
   "execution_count": 72,
   "id": "d1cec028",
   "metadata": {},
   "outputs": [
    {
     "data": {
      "text/plain": [
       "2588"
      ]
     },
     "execution_count": 72,
     "metadata": {},
     "output_type": "execute_result"
    }
   ],
   "source": [
    "# cantidad de propiedad que valen mas de 1millon de dolares 150 mil.\n",
    "len(df_caba[df_caba['price'] > 1150])"
   ]
  },
  {
   "cell_type": "code",
   "execution_count": 75,
   "id": "949e89a8",
   "metadata": {},
   "outputs": [
    {
     "data": {
      "image/png": "[encoded data removed]",
      "text/plain": [
       "<Figure size 432x288 with 1 Axes>"
      ]
     },
     "metadata": {
      "needs_background": "light"
     },
     "output_type": "display_data"
    }
   ],
   "source": [
    "import matplotlib.pyplot as plt\n",
    "\n",
    "\n",
    "fig, ax = plt.subplots()\n",
    "df_caba['price'].plot(ax=ax).get_figure().savefig('price.png')\n",
    "ax.legend([\"prices\"]);\n",
    "\n"
   ]
  },
  {
   "cell_type": "markdown",
   "id": "e68284fd",
   "metadata": {},
   "source": [
    "### Nos quedamos con el percentil 98 que son propiedades que valen mas de un 1 millon de dolares"
   ]
  },
  {
   "cell_type": "code",
   "execution_count": 74,
   "id": "5f2eef32",
   "metadata": {},
   "outputs": [],
   "source": [
    "df_caba = df_caba.loc[df_caba['price'] < 1150]\n"
   ]
  },
  {
   "cell_type": "code",
   "execution_count": 76,
   "id": "ea7b3be4",
   "metadata": {},
   "outputs": [
    {
     "data": {
      "text/plain": [
       "<AxesSubplot:>"
      ]
     },
     "execution_count": 76,
     "metadata": {},
     "output_type": "execute_result"
    },
    {
     "data": {
      "image/png": "[encoded data removed]",
      "text/plain": [
       "<Figure size 432x288 with 1 Axes>"
      ]
     },
     "metadata": {
      "needs_background": "light"
     },
     "output_type": "display_data"
    }
   ],
   "source": [
    "df_caba['surface_covered'].plot()"
   ]
  },
  {
   "cell_type": "code",
   "execution_count": 77,
   "id": "8112eabe",
   "metadata": {},
   "outputs": [
    {
     "data": {
      "text/plain": [
       "<AxesSubplot:>"
      ]
     },
     "execution_count": 77,
     "metadata": {},
     "output_type": "execute_result"
    },
    {
     "data": {
      "image/png": "[encoded data removed]",
      "text/plain": [
       "<Figure size 432x288 with 1 Axes>"
      ]
     },
     "metadata": {
      "needs_background": "light"
     },
     "output_type": "display_data"
    }
   ],
   "source": [
    "df_caba['surface_covered'] = df_caba['surface_covered'].loc[df_caba['surface_covered'] < 10000]\n",
    "df_caba['surface_covered'].plot()"
   ]
  },
  {
   "cell_type": "code",
   "execution_count": 78,
   "id": "2b0c8514",
   "metadata": {},
   "outputs": [
    {
     "data": {
      "text/plain": [
       "<AxesSubplot:>"
      ]
     },
     "execution_count": 78,
     "metadata": {},
     "output_type": "execute_result"
    },
    {
     "data": {
      "image/png": "[encoded data removed]",
      "text/plain": [
       "<Figure size 432x288 with 1 Axes>"
      ]
     },
     "metadata": {
      "needs_background": "light"
     },
     "output_type": "display_data"
    }
   ],
   "source": [
    "df_caba['surface_covered'] = df_caba['surface_covered'].loc[df_caba['surface_covered'] < 4000]\n",
    "df_caba['surface_covered'].plot()"
   ]
  },
  {
   "cell_type": "code",
   "execution_count": 79,
   "id": "249f9da0",
   "metadata": {},
   "outputs": [
    {
     "data": {
      "text/plain": [
       "<AxesSubplot:>"
      ]
     },
     "execution_count": 79,
     "metadata": {},
     "output_type": "execute_result"
    },
    {
     "data": {
      "image/png": "[encoded data removed]",
      "text/plain": [
       "<Figure size 432x288 with 1 Axes>"
      ]
     },
     "metadata": {
      "needs_background": "light"
     },
     "output_type": "display_data"
    }
   ],
   "source": [
    "df_caba['surface_covered'] = df_caba['surface_covered'].loc[df_caba['surface_covered'] < 750]\n",
    "df_caba['surface_covered'].plot()"
   ]
  },
  {
   "cell_type": "code",
   "execution_count": 80,
   "id": "3b3bb253",
   "metadata": {},
   "outputs": [
    {
     "data": {
      "text/plain": [
       "<AxesSubplot:>"
      ]
     },
     "execution_count": 80,
     "metadata": {},
     "output_type": "execute_result"
    },
    {
     "data": {
      "image/png": "[encoded data removed]",
      "text/plain": [
       "<Figure size 432x288 with 1 Axes>"
      ]
     },
     "metadata": {
      "needs_background": "light"
     },
     "output_type": "display_data"
    }
   ],
   "source": [
    "df_caba['surface_total'].plot()"
   ]
  },
  {
   "cell_type": "code",
   "execution_count": 81,
   "id": "7aaccfad",
   "metadata": {},
   "outputs": [
    {
     "data": {
      "text/plain": [
       "<AxesSubplot:>"
      ]
     },
     "execution_count": 81,
     "metadata": {},
     "output_type": "execute_result"
    },
    {
     "data": {
      "image/png": "[encoded data removed]",
      "text/plain": [
       "<Figure size 432x288 with 1 Axes>"
      ]
     },
     "metadata": {
      "needs_background": "light"
     },
     "output_type": "display_data"
    }
   ],
   "source": [
    "df_caba['surface_total'] = df_caba['surface_total'].loc[df_caba['surface_total'] < 20000]\n",
    "df_caba['surface_total'].plot()"
   ]
  },
  {
   "cell_type": "code",
   "execution_count": 82,
   "id": "83267ee7",
   "metadata": {},
   "outputs": [
    {
     "data": {
      "text/plain": [
       "<AxesSubplot:>"
      ]
     },
     "execution_count": 82,
     "metadata": {},
     "output_type": "execute_result"
    },
    {
     "data": {
      "image/png": "[encoded data removed]",
      "text/plain": [
       "<Figure size 432x288 with 1 Axes>"
      ]
     },
     "metadata": {
      "needs_background": "light"
     },
     "output_type": "display_data"
    }
   ],
   "source": [
    "df_caba['surface_total'] = df_caba['surface_total'].loc[df_caba['surface_total'] < 750]\n",
    "df_caba['surface_total'].plot()"
   ]
  },
  {
   "cell_type": "code",
   "execution_count": 83,
   "id": "bc9e2596",
   "metadata": {},
   "outputs": [
    {
     "data": {
      "text/plain": [
       "<AxesSubplot:xlabel='surface_covered'>"
      ]
     },
     "execution_count": 83,
     "metadata": {},
     "output_type": "execute_result"
    },
    {
     "data": {
      "image/png": "[encoded data removed]",
      "text/plain": [
       "<Figure size 432x288 with 1 Axes>"
      ]
     },
     "metadata": {
      "needs_background": "light"
     },
     "output_type": "display_data"
    }
   ],
   "source": [
    "df_caba.plot(x='surface_covered', y='price', style='o')"
   ]
  },
  {
   "cell_type": "code",
   "execution_count": null,
   "id": "06638646",
   "metadata": {},
   "outputs": [],
   "source": [
    "df_caba.plot(x='surface_total', y='price', style='o')"
   ]
  },
  {
   "cell_type": "code",
   "execution_count": null,
   "id": "b09e39a6",
   "metadata": {},
   "outputs": [],
   "source": [
    "df_caba.to_csv('cleaned_data_caba.csv', index=False)"
   ]
  },
  {
   "cell_type": "markdown",
   "id": "1ad48adb",
   "metadata": {},
   "source": [
    "### algunas comparativas"
   ]
  },
  {
   "cell_type": "code",
   "execution_count": null,
   "id": "1dabbbcc",
   "metadata": {},
   "outputs": [],
   "source": [
    "# directamente queda muy disperso por datos que pueden estar mal cargados\n",
    "df.plot(x='rooms', y='price', style='o')\n",
    "#df.plot(x='price', y='surface_covered', style='o')"
   ]
  },
  {
   "cell_type": "markdown",
   "id": "7f92e06f",
   "metadata": {},
   "source": [
    "### Distribuciones de las clases"
   ]
  },
  {
   "cell_type": "code",
   "execution_count": null,
   "id": "25d2ee49",
   "metadata": {},
   "outputs": [],
   "source": []
  },
  {
   "cell_type": "markdown",
   "id": "e4f8d7b5",
   "metadata": {},
   "source": [
    "### ¿Cómo influye la comuna en el precio por m2?"
   ]
  },
  {
   "cell_type": "code",
   "execution_count": null,
   "id": "8dfe05f8",
   "metadata": {},
   "outputs": [],
   "source": [
    "# corren antes de \"Transform & clean\"\n",
    "df_caba['surface_total'].fillna((df_caba['surface_total']), inplace=True)\n",
    "df_caba['price'].fillna((df_caba['price']), inplace=True)\n",
    "\n",
    "df_caba[\"price_usd_per_m2\"] = df_caba[\"price\"] / df_caba[\"surface_total\"]"
   ]
  },
  {
   "cell_type": "code",
   "execution_count": null,
   "id": "75ed93de",
   "metadata": {},
   "outputs": [],
   "source": [
    "def getComunaByBarrio(x):\n",
    "    comuna1 = ['Retiro','San Nicolás','Puerto Madero','San Telmo','Montserrat', 'Constitución']\n",
    "    comuna2 = ['Recoleta']\n",
    "    comuna3 = ['Balvanera','San Cristóbal']\n",
    "    comuna4 = ['La Boca', 'Barracas', 'Parque Patricios', 'Nueva Pompeya']\n",
    "    comuna5 = ['Almagro', 'Boedo']\n",
    "    comuna6 = ['Caballito']\n",
    "    comuna7 = ['Flores','Parque Chacabuco']\n",
    "    comuna8 = ['Villa Soldati', 'Villa Riachuelo', 'Villa Lugano']\n",
    "    comuna9 = ['Liniers', 'Mataderos', 'Parque Avellaneda']\n",
    "    comuna10 = ['Villa Real', 'Monte Castro', 'Versalles', 'Floresta','Vélez Sarsfield','Villa Luro']\n",
    "    comuna11 = ['Villa General Mitre', 'Villa Devoto', 'Villa del Parque', 'Villa Santa Rita']\n",
    "    comuna12 = ['Coghlan', 'Saavedra', 'Villa Urquiza','Villa Pueyrredón']\n",
    "    comuna13 = ['Núñez', 'Belgrano', 'Colegiales']\n",
    "    comuna14 = ['Palermo']\n",
    "    comuna15 = ['Chacarita', 'Villa Crespo', 'La Paternal','Villa Ortúzar', 'Agronomía', 'Parque Chas']\n",
    "    \n",
    "    if x in comuna1:\n",
    "        return 'COMUNA 1'\n",
    "    elif x in comuna2:\n",
    "        return 'COMUNA 2'\n",
    "    elif x in comuna3:\n",
    "        return 'COMUNA 3'\n",
    "    elif x in comuna4:\n",
    "        return 'COMUNA 4'\n",
    "    elif x in comuna5:\n",
    "        return 'COMUNA 5'\n",
    "    elif x in comuna6:\n",
    "        return 'COMUNA 6'\n",
    "    elif x in comuna7:\n",
    "        return 'COMUNA 7'\n",
    "    elif x in comuna8:\n",
    "        return 'COMUNA 8'\n",
    "    elif x in comuna9:\n",
    "        return 'COMUNA 9'\n",
    "    elif x in comuna10:\n",
    "        return 'COMUNA 10'\n",
    "    elif x in comuna11:\n",
    "        return 'COMUNA 11'\n",
    "    elif x in comuna12:\n",
    "        return 'COMUNA 12'\n",
    "    elif x in comuna13:\n",
    "        return 'COMUNA 13'\n",
    "    elif x in comuna14:\n",
    "        return 'COMUNA 14'\n",
    "    elif x in comuna15:\n",
    "        return 'COMUNA 15'\n",
    "    \n",
    "      "
   ]
  },
  {
   "cell_type": "code",
   "execution_count": null,
   "id": "1022199c",
   "metadata": {},
   "outputs": [],
   "source": [
    "df_caba['COMUNA'] = df_caba['l3'].apply(getComunaByBarrio)"
   ]
  },
  {
   "cell_type": "code",
   "execution_count": null,
   "id": "e042d7bc",
   "metadata": {},
   "outputs": [],
   "source": [
    "df_caba['COMUNA'].describe"
   ]
  },
  {
   "cell_type": "markdown",
   "id": "615eee1c",
   "metadata": {},
   "source": [
    "### Cantidad de avisos por comuna"
   ]
  },
  {
   "cell_type": "code",
   "execution_count": null,
   "id": "9381b00c",
   "metadata": {},
   "outputs": [],
   "source": [
    "df_caba['COMUNA'].value_counts().head(15).plot(kind='bar',rot=60, figsize=(14,4), color='darkred' ,fontsize=12);\n",
    "plt.title('Cantidad de avisos por Comuna', fontsize=20);\n",
    "plt.xlabel('Comuna', fontsize=16);\n",
    "plt.ylabel('Cantidad de avisos', fontsize=16);"
   ]
  },
  {
   "cell_type": "code",
   "execution_count": null,
   "id": "4429d220",
   "metadata": {},
   "outputs": [],
   "source": [
    "def get_comuna_price_m2(df, num, cheapest):\n",
    "    return df.groupby(['COMUNA'])['price_usd_per_m2'].mean().sort_values(ascending=cheapest).head(num)\n",
    "    \n",
    "def plot_comuna_price_m2(df, num, cheapest,colour,title):\n",
    "    graph = get_comuna_price_m2(df, num, cheapest).sort_values().plot.barh(figsize=(15,5),color=colour,fontsize=12)\n",
    "    graph.set_title(title, fontsize=20)\n",
    "    graph.set_ylabel(\"Comuna\", fontsize=16)\n",
    "    graph.set_xlabel(\"USD/m2\", fontsize=16)\n",
    "    plt.show()"
   ]
  },
  {
   "cell_type": "code",
   "execution_count": null,
   "id": "bb7037bc",
   "metadata": {
    "scrolled": false
   },
   "outputs": [],
   "source": [
    "cantidad_comunas_a_mostrar = 15\n",
    "plot_comuna_price_m2(df_caba,cantidad_comunas_a_mostrar, False,'blue',\"Precio del m2 según la comuna\")"
   ]
  },
  {
   "cell_type": "code",
   "execution_count": null,
   "id": "25ad8b65",
   "metadata": {
    "scrolled": false
   },
   "outputs": [],
   "source": [
    "def get_comuna_price_m2(df, num, cheapest):\n",
    "    return df.groupby(['COMUNA'])['price_usd_per_m2'].mean().sort_values(ascending=cheapest).head(num)\n",
    "\n",
    "top5_cheap_CABA = get_comuna_price_m2(df_caba,5, True)\n",
    "\n",
    "graph = top5_cheap_CABA.sort_values().plot.barh(figsize=(15,5),color='blue',edgecolor='darkred',lineWidth = 1.5,fontsize=15)\n",
    "graph.set_title(\"Las 5 comunas más económicas por m2\", fontsize=20)\n",
    "graph.set_ylabel(\"Comuna\", fontsize=18)\n",
    "graph.set_xlabel(\"USD/m2\", fontsize=18)\n",
    "plt.show()"
   ]
  },
  {
   "cell_type": "markdown",
   "id": "4c7eeabe",
   "metadata": {},
   "source": [
    "### relación de comuna y la cantidad de ambientes"
   ]
  },
  {
   "cell_type": "code",
   "execution_count": null,
   "id": "e906390a",
   "metadata": {},
   "outputs": [],
   "source": [
    "import matplotlib.pyplot as plt\n",
    "def get_comuna_rooms(df, num, cheapest):\n",
    "    return df.groupby(['COMUNA'])['rooms'].mean().sort_values(ascending=cheapest).head(num)\n",
    "    \n",
    "def plot_comuna_rooms(df, num, cheapest,colour,title):\n",
    "    graph = get_comuna_rooms(df, num, cheapest).sort_values().plot.barh(figsize=(15,5),color=colour,fontsize=12)\n",
    "    graph.set_title(title, fontsize=20)\n",
    "    graph.set_ylabel(\"Comuna\", fontsize=15)\n",
    "    graph.set_xlabel(\"ambientes\", fontsize=15)\n",
    "    plt.show()"
   ]
  },
  {
   "cell_type": "code",
   "execution_count": null,
   "id": "971597af",
   "metadata": {},
   "outputs": [],
   "source": [
    "cantidad_comunas_a_mostrar = 15\n",
    "plot_comuna_rooms(df_caba,cantidad_comunas_a_mostrar, False,'darkred',\"Cantidad de ambientes en promedio según la comuna\")"
   ]
  },
  {
   "cell_type": "markdown",
   "id": "4f636dbc",
   "metadata": {},
   "source": [
    "### relación de comuna y la superficie total"
   ]
  },
  {
   "cell_type": "code",
   "execution_count": null,
   "id": "4f938e84",
   "metadata": {},
   "outputs": [],
   "source": [
    "import matplotlib.pyplot as plt\n",
    "def get_comuna_superficie(df, num, cheapest):\n",
    "    return df.groupby(['COMUNA'])['surface_total'].mean().sort_values(ascending=cheapest).head(num)\n",
    "    \n",
    "def plot_comuna_superficie(df, num, cheapest,colour,title):\n",
    "    graph = get_comuna_superficie(df, num, cheapest).sort_values().plot.barh(figsize=(15,5),color=colour,fontsize=12)\n",
    "    graph.set_title(title, fontsize=20)\n",
    "    graph.set_ylabel(\"Comuna\", fontsize=16)\n",
    "    graph.set_xlabel(\"surface_total\", fontsize=16)\n",
    "    plt.show()"
   ]
  },
  {
   "cell_type": "code",
   "execution_count": null,
   "id": "3ca19e99",
   "metadata": {},
   "outputs": [],
   "source": [
    "plot_comuna_rooms(df_caba,15, False,'blue',\"Superficie total por Comuna\")"
   ]
  },
  {
   "cell_type": "markdown",
   "id": "04d57259",
   "metadata": {},
   "source": [
    "### Discretización del precio\n",
    "##### lo discreticé en target para que luego lo podamos usar en eureka "
   ]
  },
  {
   "cell_type": "code",
   "execution_count": null,
   "id": "35ae2e3f",
   "metadata": {},
   "outputs": [],
   "source": [
    "df_caba['price'].describe()"
   ]
  },
  {
   "cell_type": "code",
   "execution_count": null,
   "id": "a748be05",
   "metadata": {},
   "outputs": [],
   "source": [
    "df_caba['price'] = df_caba['price'].loc[df_caba['price'] > 1]"
   ]
  },
  {
   "cell_type": "code",
   "execution_count": null,
   "id": "499e8df9",
   "metadata": {},
   "outputs": [],
   "source": [
    "df_caba['price'].describe()"
   ]
  },
  {
   "cell_type": "code",
   "execution_count": null,
   "id": "ffd8e372",
   "metadata": {},
   "outputs": [],
   "source": [
    "df_caba['price'].plot()"
   ]
  },
  {
   "cell_type": "code",
   "execution_count": null,
   "id": "97da1e20",
   "metadata": {},
   "outputs": [],
   "source": [
    "import math\n",
    "\n",
    "def map_price(x):\n",
    "    isNan = math.isnan(x)\n",
    "    x = 0 if isNan else int(x)\n",
    "    if x < 100:\n",
    "        return 0\n",
    "    if x < 200:\n",
    "        return 1\n",
    "    if x < 300:\n",
    "        return 2\n",
    "    if x < 400:\n",
    "        return 3\n",
    "    if x < 500:\n",
    "        return 4\n",
    "    if x < 600:\n",
    "        return 5\n",
    "    if x < 700:\n",
    "        return 6\n",
    "    if x < 800:\n",
    "        return 7\n",
    "    if x < 900:\n",
    "        return 8\n",
    "    return 9\n",
    "\n",
    "\n",
    "df_caba['target'] = df_caba['price'].map(map_price)\n",
    "df_caba.hist(column='price')"
   ]
  },
  {
   "cell_type": "code",
   "execution_count": null,
   "id": "d2a4c1ae",
   "metadata": {},
   "outputs": [],
   "source": [
    "df_caba['target'].value_counts().head(15).plot(kind='bar',rot=60, figsize=(14,4), color='green' ,fontsize=12);\n",
    "plt.title('Cantidad de avisos por rango de precio', fontsize=20);\n",
    "plt.xlabel('Rango de precios', fontsize=16);\n",
    "plt.ylabel('Cantidad de avisos', fontsize=16);"
   ]
  },
  {
   "cell_type": "markdown",
   "id": "557df1a8",
   "metadata": {},
   "source": [
    "Se puede observar que la mayor cantidad de avisos son para los departamentos que tienen un precio menor a 200.000 Usd"
   ]
  },
  {
   "cell_type": "markdown",
   "id": "e451b565",
   "metadata": {},
   "source": [
    "### ###### Esto no va.  Es solo de prueba "
   ]
  },
  {
   "cell_type": "code",
   "execution_count": null,
   "id": "332f62b4",
   "metadata": {},
   "outputs": [],
   "source": [
    "df.groupby(['year']).count()['created_on'].plot(kind='bar', rot = 90, figsize=(24,4), color='grey' ,fontsize=12)\n",
    "plt.title('Cantidad de ventas', fontsize=20);\n",
    "plt.xlabel('Año', fontsize=16);\n",
    "plt.ylabel('Cantidad de operaciones', fontsize=16);"
   ]
  },
  {
   "cell_type": "code",
   "execution_count": null,
   "id": "d4c9d018",
   "metadata": {},
   "outputs": [],
   "source": [
    "df = df.loc[df['year'] == 2021]\n",
    "df.head()"
   ]
  },
  {
   "cell_type": "code",
   "execution_count": null,
   "id": "7fc34e6e",
   "metadata": {},
   "outputs": [],
   "source": [
    "df.groupby(['year','month']).count()['created_on'].plot(kind='bar', rot = 90, figsize=(24,4), color='grey' ,fontsize=12)\n",
    "plt.title('Cantidad de ventas', fontsize=20);\n",
    "plt.xlabel('Año', fontsize=16);\n",
    "plt.ylabel('Cantidad de operaciones', fontsize=16);"
   ]
  },
  {
   "cell_type": "code",
   "execution_count": null,
   "id": "e71cce1b",
   "metadata": {},
   "outputs": [],
   "source": [
    "df['created_on'] = pd.to_datetime(df['created_on'])\n",
    "df['year'] = df['created_on'].map(lambda x:x.year)\n",
    "df.groupby(['year']).count()"
   ]
  }
 ],
 "metadata": {
  "kernelspec": {
   "display_name": "Python 3 (ipykernel)",
   "language": "python",
   "name": "python3"
  },
  "language_info": {
   "codemirror_mode": {
    "name": "ipython",
    "version": 3
   },
   "file_extension": ".py",
   "mimetype": "text/x-python",
   "name": "python",
   "nbconvert_exporter": "python",
   "pygments_lexer": "ipython3",
   "version": "3.9.13"
  }
 },
 "nbformat": 4,
 "nbformat_minor": 5
}
