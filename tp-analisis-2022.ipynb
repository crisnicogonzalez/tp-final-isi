{
 "cells": [
  {
   "cell_type": "code",
   "execution_count": 1,
   "id": "2747a3bd",
   "metadata": {},
   "outputs": [
    {
     "name": "stdout",
     "output_type": "stream",
     "text": [
      "\u001b[33mDEPRECATION: Configuring installation scheme with distutils config files is deprecated and will no longer work in the near future. If you are using a Homebrew or Linuxbrew Python, please see discussion at https://github.com/Homebrew/homebrew-core/issues/76621\u001b[0m\u001b[33m\n",
      "\u001b[0mCollecting seaborn\n",
      "  Using cached seaborn-0.11.2-py3-none-any.whl (292 kB)\n",
      "Requirement already satisfied: numpy>=1.15 in /opt/homebrew/lib/python3.9/site-packages (from seaborn) (1.23.1)\n",
      "Requirement already satisfied: matplotlib>=2.2 in /opt/homebrew/lib/python3.9/site-packages (from seaborn) (3.5.3)\n",
      "Collecting scipy>=1.0\n",
      "  Using cached scipy-1.9.0.tar.gz (42.0 MB)\n",
      "  Installing build dependencies ... \u001b[?25ldone\n",
      "\u001b[?25h  Getting requirements to build wheel ... \u001b[?25lerror\n",
      "  \u001b[1;31merror\u001b[0m: \u001b[1msubprocess-exited-with-error\u001b[0m\n",
      "  \n",
      "  \u001b[31m×\u001b[0m \u001b[32mGetting requirements to build wheel\u001b[0m did not run successfully.\n",
      "  \u001b[31m│\u001b[0m exit code: \u001b[1;36m1\u001b[0m\n",
      "  \u001b[31m╰─>\u001b[0m \u001b[31m[61 lines of output]\u001b[0m\n",
      "  \u001b[31m   \u001b[0m The Meson build system\n",
      "  \u001b[31m   \u001b[0m Version: 0.62.2\n",
      "  \u001b[31m   \u001b[0m Source dir: /private/var/folders/1_/jpj76jfx76xgsj5rszclwt1w0000gn/T/pip-install-3bf0kyb4/scipy_bdac55c931f142dab92a6e10c0904a2d\n",
      "  \u001b[31m   \u001b[0m Build dir: /private/var/folders/1_/jpj76jfx76xgsj5rszclwt1w0000gn/T/pip-install-3bf0kyb4/scipy_bdac55c931f142dab92a6e10c0904a2d/.mesonpy-1s5gktf8/build\n",
      "  \u001b[31m   \u001b[0m Build type: native build\n",
      "  \u001b[31m   \u001b[0m Project name: SciPy\n",
      "  \u001b[31m   \u001b[0m Project version: 1.9.0\n",
      "  \u001b[31m   \u001b[0m C compiler for the host machine: cc (clang 13.0.0 \"Apple clang version 13.0.0 (clang-1300.0.29.3)\")\n",
      "  \u001b[31m   \u001b[0m C linker for the host machine: cc ld64 711\n",
      "  \u001b[31m   \u001b[0m C++ compiler for the host machine: c++ (clang 13.0.0 \"Apple clang version 13.0.0 (clang-1300.0.29.3)\")\n",
      "  \u001b[31m   \u001b[0m C++ linker for the host machine: c++ ld64 711\n",
      "  \u001b[31m   \u001b[0m Host machine cpu family: aarch64\n",
      "  \u001b[31m   \u001b[0m Host machine cpu: arm64\n",
      "  \u001b[31m   \u001b[0m Compiler for C supports arguments -Wno-unused-but-set-variable: NO\n",
      "  \u001b[31m   \u001b[0m Library m found: YES\n",
      "  \u001b[31m   \u001b[0m \n",
      "  \u001b[31m   \u001b[0m ../../meson.build:41:0: ERROR: Unknown compiler(s): [['gfortran'], ['flang'], ['nvfortran'], ['pgfortran'], ['ifort'], ['g95']]\n",
      "  \u001b[31m   \u001b[0m The following exception(s) were encountered:\n",
      "  \u001b[31m   \u001b[0m Running \"gfortran --version\" gave \"[Errno 2] No such file or directory: 'gfortran'\"\n",
      "  \u001b[31m   \u001b[0m Running \"gfortran -V\" gave \"[Errno 2] No such file or directory: 'gfortran'\"\n",
      "  \u001b[31m   \u001b[0m Running \"flang --version\" gave \"[Errno 2] No such file or directory: 'flang'\"\n",
      "  \u001b[31m   \u001b[0m Running \"flang -V\" gave \"[Errno 2] No such file or directory: 'flang'\"\n",
      "  \u001b[31m   \u001b[0m Running \"nvfortran --version\" gave \"[Errno 2] No such file or directory: 'nvfortran'\"\n",
      "  \u001b[31m   \u001b[0m Running \"nvfortran -V\" gave \"[Errno 2] No such file or directory: 'nvfortran'\"\n",
      "  \u001b[31m   \u001b[0m Running \"pgfortran --version\" gave \"[Errno 2] No such file or directory: 'pgfortran'\"\n",
      "  \u001b[31m   \u001b[0m Running \"pgfortran -V\" gave \"[Errno 2] No such file or directory: 'pgfortran'\"\n",
      "  \u001b[31m   \u001b[0m Running \"ifort --version\" gave \"[Errno 2] No such file or directory: 'ifort'\"\n",
      "  \u001b[31m   \u001b[0m Running \"ifort -V\" gave \"[Errno 2] No such file or directory: 'ifort'\"\n",
      "  \u001b[31m   \u001b[0m Running \"g95 --version\" gave \"[Errno 2] No such file or directory: 'g95'\"\n",
      "  \u001b[31m   \u001b[0m Running \"g95 -V\" gave \"[Errno 2] No such file or directory: 'g95'\"\n",
      "  \u001b[31m   \u001b[0m \n",
      "  \u001b[31m   \u001b[0m A full log can be found at /private/var/folders/1_/jpj76jfx76xgsj5rszclwt1w0000gn/T/pip-install-3bf0kyb4/scipy_bdac55c931f142dab92a6e10c0904a2d/.mesonpy-1s5gktf8/build/meson-logs/meson-log.txt\n",
      "  \u001b[31m   \u001b[0m + meson setup --native-file=/private/var/folders/1_/jpj76jfx76xgsj5rszclwt1w0000gn/T/pip-install-3bf0kyb4/scipy_bdac55c931f142dab92a6e10c0904a2d/.mesonpy-native-file.ini -Ddebug=false -Doptimization=2 --prefix=/opt/homebrew/Cellar/python@3.9/3.9.13_1/Frameworks/Python.framework/Versions/3.9 /private/var/folders/1_/jpj76jfx76xgsj5rszclwt1w0000gn/T/pip-install-3bf0kyb4/scipy_bdac55c931f142dab92a6e10c0904a2d /private/var/folders/1_/jpj76jfx76xgsj5rszclwt1w0000gn/T/pip-install-3bf0kyb4/scipy_bdac55c931f142dab92a6e10c0904a2d/.mesonpy-1s5gktf8/build\n",
      "  \u001b[31m   \u001b[0m Traceback (most recent call last):\n",
      "  \u001b[31m   \u001b[0m   File \"/opt/homebrew/lib/python3.9/site-packages/pip/_vendor/pep517/in_process/_in_process.py\", line 363, in <module>\n",
      "  \u001b[31m   \u001b[0m     main()\n",
      "  \u001b[31m   \u001b[0m   File \"/opt/homebrew/lib/python3.9/site-packages/pip/_vendor/pep517/in_process/_in_process.py\", line 345, in main\n",
      "  \u001b[31m   \u001b[0m     json_out['return_val'] = hook(**hook_input['kwargs'])\n",
      "  \u001b[31m   \u001b[0m   File \"/opt/homebrew/lib/python3.9/site-packages/pip/_vendor/pep517/in_process/_in_process.py\", line 130, in get_requires_for_build_wheel\n",
      "  \u001b[31m   \u001b[0m     return hook(config_settings)\n",
      "  \u001b[31m   \u001b[0m   File \"/private/var/folders/1_/jpj76jfx76xgsj5rszclwt1w0000gn/T/pip-build-env-alaml781/overlay/lib/python3.9/site-packages/mesonpy/__init__.py\", line 909, in get_requires_for_build_wheel\n",
      "  \u001b[31m   \u001b[0m     with _project(config_settings) as project:\n",
      "  \u001b[31m   \u001b[0m   File \"/opt/homebrew/Cellar/python@3.9/3.9.13_1/Frameworks/Python.framework/Versions/3.9/lib/python3.9/contextlib.py\", line 119, in __enter__\n",
      "  \u001b[31m   \u001b[0m     return next(self.gen)\n",
      "  \u001b[31m   \u001b[0m   File \"/private/var/folders/1_/jpj76jfx76xgsj5rszclwt1w0000gn/T/pip-build-env-alaml781/overlay/lib/python3.9/site-packages/mesonpy/__init__.py\", line 888, in _project\n",
      "  \u001b[31m   \u001b[0m     with Project.with_temp_working_dir(\n",
      "  \u001b[31m   \u001b[0m   File \"/opt/homebrew/Cellar/python@3.9/3.9.13_1/Frameworks/Python.framework/Versions/3.9/lib/python3.9/contextlib.py\", line 119, in __enter__\n",
      "  \u001b[31m   \u001b[0m     return next(self.gen)\n",
      "  \u001b[31m   \u001b[0m   File \"/private/var/folders/1_/jpj76jfx76xgsj5rszclwt1w0000gn/T/pip-build-env-alaml781/overlay/lib/python3.9/site-packages/mesonpy/__init__.py\", line 547, in with_temp_working_dir\n",
      "  \u001b[31m   \u001b[0m     yield cls(source_dir, tmpdir, build_dir)\n",
      "  \u001b[31m   \u001b[0m   File \"/private/var/folders/1_/jpj76jfx76xgsj5rszclwt1w0000gn/T/pip-build-env-alaml781/overlay/lib/python3.9/site-packages/mesonpy/__init__.py\", line 463, in __init__\n",
      "  \u001b[31m   \u001b[0m     self._configure(reconfigure=bool(build_dir) and not native_file_mismatch)\n",
      "  \u001b[31m   \u001b[0m   File \"/private/var/folders/1_/jpj76jfx76xgsj5rszclwt1w0000gn/T/pip-build-env-alaml781/overlay/lib/python3.9/site-packages/mesonpy/__init__.py\", line 494, in _configure\n",
      "  \u001b[31m   \u001b[0m     self._meson(\n",
      "  \u001b[31m   \u001b[0m   File \"/private/var/folders/1_/jpj76jfx76xgsj5rszclwt1w0000gn/T/pip-build-env-alaml781/overlay/lib/python3.9/site-packages/mesonpy/__init__.py\", line 477, in _meson\n",
      "  \u001b[31m   \u001b[0m     return self._proc('meson', *args)\n",
      "  \u001b[31m   \u001b[0m   File \"/private/var/folders/1_/jpj76jfx76xgsj5rszclwt1w0000gn/T/pip-build-env-alaml781/overlay/lib/python3.9/site-packages/mesonpy/__init__.py\", line 472, in _proc\n",
      "  \u001b[31m   \u001b[0m     subprocess.check_call(list(args))\n",
      "  \u001b[31m   \u001b[0m   File \"/opt/homebrew/Cellar/python@3.9/3.9.13_1/Frameworks/Python.framework/Versions/3.9/lib/python3.9/subprocess.py\", line 373, in check_call\n",
      "  \u001b[31m   \u001b[0m     raise CalledProcessError(retcode, cmd)\n",
      "  \u001b[31m   \u001b[0m subprocess.CalledProcessError: Command '['meson', 'setup', '--native-file=/private/var/folders/1_/jpj76jfx76xgsj5rszclwt1w0000gn/T/pip-install-3bf0kyb4/scipy_bdac55c931f142dab92a6e10c0904a2d/.mesonpy-native-file.ini', '-Ddebug=false', '-Doptimization=2', '--prefix=/opt/homebrew/Cellar/python@3.9/3.9.13_1/Frameworks/Python.framework/Versions/3.9', '/private/var/folders/1_/jpj76jfx76xgsj5rszclwt1w0000gn/T/pip-install-3bf0kyb4/scipy_bdac55c931f142dab92a6e10c0904a2d', '/private/var/folders/1_/jpj76jfx76xgsj5rszclwt1w0000gn/T/pip-install-3bf0kyb4/scipy_bdac55c931f142dab92a6e10c0904a2d/.mesonpy-1s5gktf8/build']' returned non-zero exit status 1.\n",
      "  \u001b[31m   \u001b[0m \u001b[31m[end of output]\u001b[0m\n",
      "  \n",
      "  \u001b[1;35mnote\u001b[0m: This error originates from a subprocess, and is likely not a problem with pip.\n",
      "\u001b[1;31merror\u001b[0m: \u001b[1msubprocess-exited-with-error\u001b[0m\n",
      "\n",
      "\u001b[31m×\u001b[0m \u001b[32mGetting requirements to build wheel\u001b[0m did not run successfully.\n",
      "\u001b[31m│\u001b[0m exit code: \u001b[1;36m1\u001b[0m\n",
      "\u001b[31m╰─>\u001b[0m See above for output.\n",
      "\n",
      "\u001b[1;35mnote\u001b[0m: This error originates from a subprocess, and is likely not a problem with pip.\n"
     ]
    },
    {
     "name": "stdout",
     "output_type": "stream",
     "text": [
      "\u001b[?25hNote: you may need to restart the kernel to use updated packages.\n"
     ]
    },
    {
     "ename": "ModuleNotFoundError",
     "evalue": "No module named 'seaborn'",
     "output_type": "error",
     "traceback": [
      "\u001b[0;31m---------------------------------------------------------------------------\u001b[0m",
      "\u001b[0;31mModuleNotFoundError\u001b[0m                       Traceback (most recent call last)",
      "Input \u001b[0;32mIn [1]\u001b[0m, in \u001b[0;36m<cell line: 8>\u001b[0;34m()\u001b[0m\n\u001b[1;32m      5\u001b[0m \u001b[38;5;28;01mimport\u001b[39;00m \u001b[38;5;21;01mmath\u001b[39;00m\n\u001b[1;32m      7\u001b[0m get_ipython()\u001b[38;5;241m.\u001b[39mrun_line_magic(\u001b[38;5;124m'\u001b[39m\u001b[38;5;124mpip\u001b[39m\u001b[38;5;124m'\u001b[39m, \u001b[38;5;124m'\u001b[39m\u001b[38;5;124minstall seaborn\u001b[39m\u001b[38;5;124m'\u001b[39m)\n\u001b[0;32m----> 8\u001b[0m \u001b[38;5;28;01mimport\u001b[39;00m \u001b[38;5;21;01mseaborn\u001b[39;00m \u001b[38;5;28;01mas\u001b[39;00m \u001b[38;5;21;01msns\u001b[39;00m\n\u001b[1;32m     13\u001b[0m df \u001b[38;5;241m=\u001b[39m pd\u001b[38;5;241m.\u001b[39mread_csv(\u001b[38;5;124m'\u001b[39m\u001b[38;5;124mar_properties.csv\u001b[39m\u001b[38;5;124m'\u001b[39m)\n\u001b[1;32m     14\u001b[0m df\u001b[38;5;241m.\u001b[39mhead()\n",
      "\u001b[0;31mModuleNotFoundError\u001b[0m: No module named 'seaborn'"
     ]
    }
   ],
   "source": [
    "import pandas as pd\n",
    "import calendar\n",
    "from pandas import Series\n",
    "import matplotlib.pyplot as plt\n",
    "import math\n",
    "\n",
    "%pip install seaborn\n",
    "import seaborn as sns\n",
    "\n",
    "\n",
    "\n",
    "\n",
    "df = pd.read_csv('ar_properties.csv')\n",
    "df.head()"
   ]
  },
  {
   "cell_type": "code",
   "execution_count": 5,
   "id": "5b536856",
   "metadata": {},
   "outputs": [
    {
     "name": "stderr",
     "output_type": "stream",
     "text": [
      "DEPRECATION: Python 2.7 reached the end of its life on January 1st, 2020. Please upgrade your Python as Python 2.7 is no longer maintained. pip 21.0 will drop support for Python 2.7 in January 2021. More details about Python 2 support in pip can be found at https://pip.pypa.io/en/latest/development/release-process/#python-2-support pip 21.0 will remove support for this functionality.\n"
     ]
    },
    {
     "name": "stdout",
     "output_type": "stream",
     "text": [
      "Defaulting to user installation because normal site-packages is not writeable\n",
      "Collecting seaborn\n",
      "  Using cached seaborn-0.9.1-py2.py3-none-any.whl (216 kB)\n",
      "Collecting pandas>=0.17.1\n",
      "  Using cached pandas-0.24.2.tar.gz (11.8 MB)\n"
     ]
    },
    {
     "name": "stderr",
     "output_type": "stream",
     "text": [
      "    ERROR: Command errored out with exit status 1:\n",
      "     command: /System/Library/Frameworks/Python.framework/Versions/2.7/Resources/Python.app/Contents/MacOS/Python -c 'import sys, setuptools, tokenize; sys.argv[0] = '\"'\"'/private/var/folders/1_/jpj76jfx76xgsj5rszclwt1w0000gn/T/pip-install-MVwmTN/pandas/setup.py'\"'\"'; __file__='\"'\"'/private/var/folders/1_/jpj76jfx76xgsj5rszclwt1w0000gn/T/pip-install-MVwmTN/pandas/setup.py'\"'\"';f=getattr(tokenize, '\"'\"'open'\"'\"', open)(__file__);code=f.read().replace('\"'\"'\\r\\n'\"'\"', '\"'\"'\\n'\"'\"');f.close();exec(compile(code, __file__, '\"'\"'exec'\"'\"'))' egg_info --egg-base /private/var/folders/1_/jpj76jfx76xgsj5rszclwt1w0000gn/T/pip-pip-egg-info-snTlVB\n",
      "         cwd: /private/var/folders/1_/jpj76jfx76xgsj5rszclwt1w0000gn/T/pip-install-MVwmTN/pandas/\n",
      "    Complete output (52 lines):\n",
      "    Traceback (most recent call last):\n",
      "      File \"<string>\", line 1, in <module>\n",
      "      File \"/private/var/folders/1_/jpj76jfx76xgsj5rszclwt1w0000gn/T/pip-install-MVwmTN/pandas/setup.py\", line 746, in <module>\n",
      "        **setuptools_kwargs)\n",
      "      File \"/System/Library/Frameworks/Python.framework/Versions/2.7/Extras/lib/python/setuptools/__init__.py\", line 144, in setup\n",
      "        _install_setup_requires(attrs)\n",
      "      File \"/System/Library/Frameworks/Python.framework/Versions/2.7/Extras/lib/python/setuptools/__init__.py\", line 139, in _install_setup_requires\n",
      "        dist.fetch_build_eggs(dist.setup_requires)\n",
      "      File \"/System/Library/Frameworks/Python.framework/Versions/2.7/Extras/lib/python/setuptools/dist.py\", line 717, in fetch_build_eggs\n",
      "        replace_conflicting=True,\n",
      "      File \"/System/Library/Frameworks/Python.framework/Versions/2.7/Extras/lib/python/pkg_resources/__init__.py\", line 782, in resolve\n",
      "        replace_conflicting=replace_conflicting\n",
      "      File \"/System/Library/Frameworks/Python.framework/Versions/2.7/Extras/lib/python/pkg_resources/__init__.py\", line 1065, in best_match\n",
      "        return self.obtain(req, installer)\n",
      "      File \"/System/Library/Frameworks/Python.framework/Versions/2.7/Extras/lib/python/pkg_resources/__init__.py\", line 1077, in obtain\n",
      "        return installer(requirement)\n",
      "      File \"/System/Library/Frameworks/Python.framework/Versions/2.7/Extras/lib/python/setuptools/dist.py\", line 784, in fetch_build_egg\n",
      "        return cmd.easy_install(req)\n",
      "      File \"/System/Library/Frameworks/Python.framework/Versions/2.7/Extras/lib/python/setuptools/command/easy_install.py\", line 679, in easy_install\n",
      "        return self.install_item(spec, dist.location, tmpdir, deps)\n",
      "      File \"/System/Library/Frameworks/Python.framework/Versions/2.7/Extras/lib/python/setuptools/command/easy_install.py\", line 705, in install_item\n",
      "        dists = self.install_eggs(spec, download, tmpdir)\n",
      "      File \"/System/Library/Frameworks/Python.framework/Versions/2.7/Extras/lib/python/setuptools/command/easy_install.py\", line 890, in install_eggs\n",
      "        return self.build_and_install(setup_script, setup_base)\n",
      "      File \"/System/Library/Frameworks/Python.framework/Versions/2.7/Extras/lib/python/setuptools/command/easy_install.py\", line 1158, in build_and_install\n",
      "        self.run_setup(setup_script, setup_base, args)\n",
      "      File \"/System/Library/Frameworks/Python.framework/Versions/2.7/Extras/lib/python/setuptools/command/easy_install.py\", line 1144, in run_setup\n",
      "        run_setup(setup_script, args)\n",
      "      File \"/System/Library/Frameworks/Python.framework/Versions/2.7/Extras/lib/python/setuptools/sandbox.py\", line 253, in run_setup\n",
      "        raise\n",
      "      File \"/System/Library/Frameworks/Python.framework/Versions/2.7/lib/python2.7/contextlib.py\", line 35, in __exit__\n",
      "        self.gen.throw(type, value, traceback)\n",
      "      File \"/System/Library/Frameworks/Python.framework/Versions/2.7/Extras/lib/python/setuptools/sandbox.py\", line 195, in setup_context\n",
      "        yield\n",
      "      File \"/System/Library/Frameworks/Python.framework/Versions/2.7/lib/python2.7/contextlib.py\", line 35, in __exit__\n",
      "        self.gen.throw(type, value, traceback)\n",
      "      File \"/System/Library/Frameworks/Python.framework/Versions/2.7/Extras/lib/python/setuptools/sandbox.py\", line 166, in save_modules\n",
      "        saved_exc.resume()\n",
      "      File \"/System/Library/Frameworks/Python.framework/Versions/2.7/Extras/lib/python/setuptools/sandbox.py\", line 141, in resume\n",
      "        six.reraise(type, exc, self._tb)\n",
      "      File \"/System/Library/Frameworks/Python.framework/Versions/2.7/Extras/lib/python/setuptools/sandbox.py\", line 154, in save_modules\n",
      "        yield saved\n",
      "      File \"/System/Library/Frameworks/Python.framework/Versions/2.7/Extras/lib/python/setuptools/sandbox.py\", line 195, in setup_context\n",
      "        yield\n",
      "      File \"/System/Library/Frameworks/Python.framework/Versions/2.7/Extras/lib/python/setuptools/sandbox.py\", line 250, in run_setup\n",
      "        _execfile(setup_script, ns)\n",
      "      File \"/System/Library/Frameworks/Python.framework/Versions/2.7/Extras/lib/python/setuptools/sandbox.py\", line 44, in _execfile\n",
      "        code = compile(script, filename, 'exec')\n",
      "      File \"/var/folders/1_/jpj76jfx76xgsj5rszclwt1w0000gn/T/easy_install-rH0LXP/numpy-1.23.2/setup.py\", line 64\n",
      "        raise RuntimeError(f'Cannot parse version {FULLVERSION}')\n",
      "                                                               ^\n",
      "    SyntaxError: invalid syntax\n",
      "    ----------------------------------------\n",
      "ERROR: Command errored out with exit status 1: python setup.py egg_info Check the logs for full command output.\n"
     ]
    },
    {
     "ename": "CalledProcessError",
     "evalue": "Command 'b'pip install seaborn\\n'' returned non-zero exit status 1.",
     "output_type": "error",
     "traceback": [
      "\u001b[0;31m---------------------------------------------------------------------------\u001b[0m",
      "\u001b[0;31mCalledProcessError\u001b[0m                        Traceback (most recent call last)",
      "Input \u001b[0;32mIn [5]\u001b[0m, in \u001b[0;36m<cell line: 1>\u001b[0;34m()\u001b[0m\n\u001b[0;32m----> 1\u001b[0m \u001b[43mget_ipython\u001b[49m\u001b[43m(\u001b[49m\u001b[43m)\u001b[49m\u001b[38;5;241;43m.\u001b[39;49m\u001b[43mrun_cell_magic\u001b[49m\u001b[43m(\u001b[49m\u001b[38;5;124;43m'\u001b[39;49m\u001b[38;5;124;43mbash\u001b[39;49m\u001b[38;5;124;43m'\u001b[39;49m\u001b[43m,\u001b[49m\u001b[43m \u001b[49m\u001b[38;5;124;43m'\u001b[39;49m\u001b[38;5;124;43m'\u001b[39;49m\u001b[43m,\u001b[49m\u001b[43m \u001b[49m\u001b[38;5;124;43m'\u001b[39;49m\u001b[38;5;124;43mpip install seaborn\u001b[39;49m\u001b[38;5;130;43;01m\\n\u001b[39;49;00m\u001b[38;5;124;43m'\u001b[39;49m\u001b[43m)\u001b[49m\n",
      "File \u001b[0;32m/opt/homebrew/lib/python3.9/site-packages/IPython/core/interactiveshell.py:2358\u001b[0m, in \u001b[0;36mInteractiveShell.run_cell_magic\u001b[0;34m(self, magic_name, line, cell)\u001b[0m\n\u001b[1;32m   2356\u001b[0m \u001b[38;5;28;01mwith\u001b[39;00m \u001b[38;5;28mself\u001b[39m\u001b[38;5;241m.\u001b[39mbuiltin_trap:\n\u001b[1;32m   2357\u001b[0m     args \u001b[38;5;241m=\u001b[39m (magic_arg_s, cell)\n\u001b[0;32m-> 2358\u001b[0m     result \u001b[38;5;241m=\u001b[39m \u001b[43mfn\u001b[49m\u001b[43m(\u001b[49m\u001b[38;5;241;43m*\u001b[39;49m\u001b[43margs\u001b[49m\u001b[43m,\u001b[49m\u001b[43m \u001b[49m\u001b[38;5;241;43m*\u001b[39;49m\u001b[38;5;241;43m*\u001b[39;49m\u001b[43mkwargs\u001b[49m\u001b[43m)\u001b[49m\n\u001b[1;32m   2359\u001b[0m \u001b[38;5;28;01mreturn\u001b[39;00m result\n",
      "File \u001b[0;32m/opt/homebrew/lib/python3.9/site-packages/IPython/core/magics/script.py:153\u001b[0m, in \u001b[0;36mScriptMagics._make_script_magic.<locals>.named_script_magic\u001b[0;34m(line, cell)\u001b[0m\n\u001b[1;32m    151\u001b[0m \u001b[38;5;28;01melse\u001b[39;00m:\n\u001b[1;32m    152\u001b[0m     line \u001b[38;5;241m=\u001b[39m script\n\u001b[0;32m--> 153\u001b[0m \u001b[38;5;28;01mreturn\u001b[39;00m \u001b[38;5;28;43mself\u001b[39;49m\u001b[38;5;241;43m.\u001b[39;49m\u001b[43mshebang\u001b[49m\u001b[43m(\u001b[49m\u001b[43mline\u001b[49m\u001b[43m,\u001b[49m\u001b[43m \u001b[49m\u001b[43mcell\u001b[49m\u001b[43m)\u001b[49m\n",
      "File \u001b[0;32m/opt/homebrew/lib/python3.9/site-packages/IPython/core/magics/script.py:305\u001b[0m, in \u001b[0;36mScriptMagics.shebang\u001b[0;34m(self, line, cell)\u001b[0m\n\u001b[1;32m    300\u001b[0m \u001b[38;5;28;01mif\u001b[39;00m args\u001b[38;5;241m.\u001b[39mraise_error \u001b[38;5;129;01mand\u001b[39;00m p\u001b[38;5;241m.\u001b[39mreturncode \u001b[38;5;241m!=\u001b[39m \u001b[38;5;241m0\u001b[39m:\n\u001b[1;32m    301\u001b[0m     \u001b[38;5;66;03m# If we get here and p.returncode is still None, we must have\u001b[39;00m\n\u001b[1;32m    302\u001b[0m     \u001b[38;5;66;03m# killed it but not yet seen its return code. We don't wait for it,\u001b[39;00m\n\u001b[1;32m    303\u001b[0m     \u001b[38;5;66;03m# in case it's stuck in uninterruptible sleep. -9 = SIGKILL\u001b[39;00m\n\u001b[1;32m    304\u001b[0m     rc \u001b[38;5;241m=\u001b[39m p\u001b[38;5;241m.\u001b[39mreturncode \u001b[38;5;129;01mor\u001b[39;00m \u001b[38;5;241m-\u001b[39m\u001b[38;5;241m9\u001b[39m\n\u001b[0;32m--> 305\u001b[0m     \u001b[38;5;28;01mraise\u001b[39;00m CalledProcessError(rc, cell)\n",
      "\u001b[0;31mCalledProcessError\u001b[0m: Command 'b'pip install seaborn\\n'' returned non-zero exit status 1."
     ]
    }
   ],
   "source": [
    "%%bash\n",
    "pip install seaborn"
   ]
  },
  {
   "cell_type": "code",
   "execution_count": 3,
   "id": "4f2759f8",
   "metadata": {},
   "outputs": [
    {
     "name": "stdout",
     "output_type": "stream",
     "text": [
      "<class 'pandas.core.frame.DataFrame'>\n",
      "RangeIndex: 1000000 entries, 0 to 999999\n",
      "Data columns (total 25 columns):\n",
      " #   Column           Non-Null Count    Dtype  \n",
      "---  ------           --------------    -----  \n",
      " 0   id               1000000 non-null  object \n",
      " 1   ad_type          1000000 non-null  object \n",
      " 2   start_date       1000000 non-null  object \n",
      " 3   end_date         1000000 non-null  object \n",
      " 4   created_on       1000000 non-null  object \n",
      " 5   lat              894233 non-null   float64\n",
      " 6   lon              894191 non-null   float64\n",
      " 7   l1               1000000 non-null  object \n",
      " 8   l2               1000000 non-null  object \n",
      " 9   l3               965273 non-null   object \n",
      " 10  l4               306162 non-null   object \n",
      " 11  l5               5530 non-null     object \n",
      " 12  l6               0 non-null        float64\n",
      " 13  rooms            714179 non-null   float64\n",
      " 14  bedrooms         649933 non-null   float64\n",
      " 15  bathrooms        765122 non-null   float64\n",
      " 16  surface_total    477831 non-null   float64\n",
      " 17  surface_covered  487756 non-null   float64\n",
      " 18  price            958243 non-null   float64\n",
      " 19  currency         955491 non-null   object \n",
      " 20  price_period     429870 non-null   object \n",
      " 21  title            999999 non-null   object \n",
      " 22  description      999958 non-null   object \n",
      " 23  property_type    1000000 non-null  object \n",
      " 24  operation_type   1000000 non-null  object \n",
      "dtypes: float64(9), object(16)\n",
      "memory usage: 190.7+ MB\n"
     ]
    }
   ],
   "source": [
    "df.info()"
   ]
  },
  {
   "cell_type": "markdown",
   "id": "572828d4",
   "metadata": {},
   "source": [
    "### Nos quedamos con avisos de venta de departamentos en Capital Federal"
   ]
  },
  {
   "cell_type": "code",
   "execution_count": 53,
   "id": "ec1c26db",
   "metadata": {},
   "outputs": [
    {
     "data": {
      "text/html": [
       "<div>\n",
       "<style scoped>\n",
       "    .dataframe tbody tr th:only-of-type {\n",
       "        vertical-align: middle;\n",
       "    }\n",
       "\n",
       "    .dataframe tbody tr th {\n",
       "        vertical-align: top;\n",
       "    }\n",
       "\n",
       "    .dataframe thead th {\n",
       "        text-align: right;\n",
       "    }\n",
       "</style>\n",
       "<table border=\"1\" class=\"dataframe\">\n",
       "  <thead>\n",
       "    <tr style=\"text-align: right;\">\n",
       "      <th></th>\n",
       "      <th>id</th>\n",
       "      <th>ad_type</th>\n",
       "      <th>start_date</th>\n",
       "      <th>end_date</th>\n",
       "      <th>created_on</th>\n",
       "      <th>lat</th>\n",
       "      <th>lon</th>\n",
       "      <th>l1</th>\n",
       "      <th>l2</th>\n",
       "      <th>l3</th>\n",
       "      <th>...</th>\n",
       "      <th>surface_total</th>\n",
       "      <th>surface_covered</th>\n",
       "      <th>price</th>\n",
       "      <th>currency</th>\n",
       "      <th>price_period</th>\n",
       "      <th>title</th>\n",
       "      <th>description</th>\n",
       "      <th>operation_type</th>\n",
       "      <th>year</th>\n",
       "      <th>month</th>\n",
       "    </tr>\n",
       "  </thead>\n",
       "  <tbody>\n",
       "    <tr>\n",
       "      <th>163</th>\n",
       "      <td>U3qdJMKXnOJm0Y1tWpnnfg==</td>\n",
       "      <td>Propiedad</td>\n",
       "      <td>2020-08-22</td>\n",
       "      <td>2020-09-04</td>\n",
       "      <td>2020-08-22</td>\n",
       "      <td>-34.597364</td>\n",
       "      <td>-58.372987</td>\n",
       "      <td>Argentina</td>\n",
       "      <td>Capital Federal</td>\n",
       "      <td>Retiro</td>\n",
       "      <td>...</td>\n",
       "      <td>NaN</td>\n",
       "      <td>25.0</td>\n",
       "      <td>85000.0</td>\n",
       "      <td>USD</td>\n",
       "      <td>Mensual</td>\n",
       "      <td>Departamento - Capital Federal</td>\n",
       "      <td>EXCELENTE DEPTO MUY LUMINOSO, &lt;br&gt;&lt;br&gt;LAS MEDI...</td>\n",
       "      <td>Venta</td>\n",
       "      <td>2020</td>\n",
       "      <td>8</td>\n",
       "    </tr>\n",
       "    <tr>\n",
       "      <th>164</th>\n",
       "      <td>gsQB/JzLxaQdBLfNcm/DMw==</td>\n",
       "      <td>Propiedad</td>\n",
       "      <td>2020-08-22</td>\n",
       "      <td>2020-09-04</td>\n",
       "      <td>2020-08-22</td>\n",
       "      <td>-34.600004</td>\n",
       "      <td>-58.417191</td>\n",
       "      <td>Argentina</td>\n",
       "      <td>Capital Federal</td>\n",
       "      <td>Almagro</td>\n",
       "      <td>...</td>\n",
       "      <td>38.0</td>\n",
       "      <td>31.0</td>\n",
       "      <td>110000.0</td>\n",
       "      <td>USD</td>\n",
       "      <td>Mensual</td>\n",
       "      <td>Monoambiente c/Cochera Fija Cubierta. Edif c/P...</td>\n",
       "      <td>Monoambiente de 38m² en muy buen estado con Am...</td>\n",
       "      <td>Venta</td>\n",
       "      <td>2020</td>\n",
       "      <td>8</td>\n",
       "    </tr>\n",
       "    <tr>\n",
       "      <th>165</th>\n",
       "      <td>SlPt6GJRjM+cO4rD3n3HFQ==</td>\n",
       "      <td>Propiedad</td>\n",
       "      <td>2020-08-22</td>\n",
       "      <td>2020-09-04</td>\n",
       "      <td>2020-08-22</td>\n",
       "      <td>-34.581699</td>\n",
       "      <td>-58.433547</td>\n",
       "      <td>Argentina</td>\n",
       "      <td>Capital Federal</td>\n",
       "      <td>Palermo</td>\n",
       "      <td>...</td>\n",
       "      <td>35.0</td>\n",
       "      <td>30.0</td>\n",
       "      <td>105000.0</td>\n",
       "      <td>USD</td>\n",
       "      <td>Mensual</td>\n",
       "      <td>Oportunidad!!!!Palermo Hollywood Monoamb amobl...</td>\n",
       "      <td>RETASADO Venta Palermo Niceto Vega y Bonpland ...</td>\n",
       "      <td>Venta</td>\n",
       "      <td>2020</td>\n",
       "      <td>8</td>\n",
       "    </tr>\n",
       "    <tr>\n",
       "      <th>166</th>\n",
       "      <td>ZaH+6DXJ4MLM6QqZXhgWiw==</td>\n",
       "      <td>Propiedad</td>\n",
       "      <td>2020-08-22</td>\n",
       "      <td>2020-09-04</td>\n",
       "      <td>2020-08-22</td>\n",
       "      <td>-34.595044</td>\n",
       "      <td>-58.442538</td>\n",
       "      <td>Argentina</td>\n",
       "      <td>Capital Federal</td>\n",
       "      <td>Palermo</td>\n",
       "      <td>...</td>\n",
       "      <td>51.0</td>\n",
       "      <td>46.0</td>\n",
       "      <td>150000.0</td>\n",
       "      <td>USD</td>\n",
       "      <td>Mensual</td>\n",
       "      <td>2 AMBIENTES CON COCHERA Y PARRILLA EN VILLA CR...</td>\n",
       "      <td>CONTACTO: 11- (LLAMADOS O WHATSAPP)&lt;br&gt;&lt;br&gt;EXC...</td>\n",
       "      <td>Venta</td>\n",
       "      <td>2020</td>\n",
       "      <td>8</td>\n",
       "    </tr>\n",
       "    <tr>\n",
       "      <th>167</th>\n",
       "      <td>r7qrM5xaYo8QImSnqyKyYA==</td>\n",
       "      <td>Propiedad</td>\n",
       "      <td>2020-08-22</td>\n",
       "      <td>2020-09-04</td>\n",
       "      <td>2020-08-22</td>\n",
       "      <td>-34.582549</td>\n",
       "      <td>-58.417350</td>\n",
       "      <td>Argentina</td>\n",
       "      <td>Capital Federal</td>\n",
       "      <td>Palermo</td>\n",
       "      <td>...</td>\n",
       "      <td>53.0</td>\n",
       "      <td>53.0</td>\n",
       "      <td>136500.0</td>\n",
       "      <td>USD</td>\n",
       "      <td>Mensual</td>\n",
       "      <td>2 AMB EN PALERMO</td>\n",
       "      <td>2 AMBIENTES CON 2 BALCÓNES PISO 8&lt;br&gt;&lt;br&gt;Inmej...</td>\n",
       "      <td>Venta</td>\n",
       "      <td>2020</td>\n",
       "      <td>8</td>\n",
       "    </tr>\n",
       "  </tbody>\n",
       "</table>\n",
       "<p>5 rows × 26 columns</p>\n",
       "</div>"
      ],
      "text/plain": [
       "                           id    ad_type  start_date    end_date created_on  \\\n",
       "163  U3qdJMKXnOJm0Y1tWpnnfg==  Propiedad  2020-08-22  2020-09-04 2020-08-22   \n",
       "164  gsQB/JzLxaQdBLfNcm/DMw==  Propiedad  2020-08-22  2020-09-04 2020-08-22   \n",
       "165  SlPt6GJRjM+cO4rD3n3HFQ==  Propiedad  2020-08-22  2020-09-04 2020-08-22   \n",
       "166  ZaH+6DXJ4MLM6QqZXhgWiw==  Propiedad  2020-08-22  2020-09-04 2020-08-22   \n",
       "167  r7qrM5xaYo8QImSnqyKyYA==  Propiedad  2020-08-22  2020-09-04 2020-08-22   \n",
       "\n",
       "           lat        lon         l1               l2       l3  ...  \\\n",
       "163 -34.597364 -58.372987  Argentina  Capital Federal   Retiro  ...   \n",
       "164 -34.600004 -58.417191  Argentina  Capital Federal  Almagro  ...   \n",
       "165 -34.581699 -58.433547  Argentina  Capital Federal  Palermo  ...   \n",
       "166 -34.595044 -58.442538  Argentina  Capital Federal  Palermo  ...   \n",
       "167 -34.582549 -58.417350  Argentina  Capital Federal  Palermo  ...   \n",
       "\n",
       "    surface_total surface_covered     price  currency  price_period  \\\n",
       "163           NaN            25.0   85000.0       USD       Mensual   \n",
       "164          38.0            31.0  110000.0       USD       Mensual   \n",
       "165          35.0            30.0  105000.0       USD       Mensual   \n",
       "166          51.0            46.0  150000.0       USD       Mensual   \n",
       "167          53.0            53.0  136500.0       USD       Mensual   \n",
       "\n",
       "                                                 title  \\\n",
       "163                     Departamento - Capital Federal   \n",
       "164  Monoambiente c/Cochera Fija Cubierta. Edif c/P...   \n",
       "165  Oportunidad!!!!Palermo Hollywood Monoamb amobl...   \n",
       "166  2 AMBIENTES CON COCHERA Y PARRILLA EN VILLA CR...   \n",
       "167                                   2 AMB EN PALERMO   \n",
       "\n",
       "                                           description  operation_type  year  \\\n",
       "163  EXCELENTE DEPTO MUY LUMINOSO, <br><br>LAS MEDI...           Venta  2020   \n",
       "164  Monoambiente de 38m² en muy buen estado con Am...           Venta  2020   \n",
       "165  RETASADO Venta Palermo Niceto Vega y Bonpland ...           Venta  2020   \n",
       "166  CONTACTO: 11- (LLAMADOS O WHATSAPP)<br><br>EXC...           Venta  2020   \n",
       "167  2 AMBIENTES CON 2 BALCÓNES PISO 8<br><br>Inmej...           Venta  2020   \n",
       "\n",
       "    month  \n",
       "163     8  \n",
       "164     8  \n",
       "165     8  \n",
       "166     8  \n",
       "167     8  \n",
       "\n",
       "[5 rows x 26 columns]"
      ]
     },
     "execution_count": 53,
     "metadata": {},
     "output_type": "execute_result"
    }
   ],
   "source": [
    "# hay datos de 2020 y 2021\n",
    "df_caba = df.loc[df['l2'] == 'Capital Federal']\n",
    "df_caba = df_caba.loc[df['operation_type'] == 'Venta']\n",
    "df_caba = df_caba.loc[df['property_type'] == 'Departamento']\n",
    "df_caba = df_caba.loc[df['currency'] == 'USD']\n",
    "df_caba['created_on'] = pd.to_datetime(df_caba['created_on'])\n",
    "df_caba['year'] = df_caba['created_on'].map(lambda x:x.year)\n",
    "df_caba['month'] = df_caba['created_on'].map(lambda x:x.month)\n",
    "del df_caba['property_type']\n",
    "df_caba.head()"
   ]
  },
  {
   "cell_type": "code",
   "execution_count": 54,
   "id": "18233be4",
   "metadata": {},
   "outputs": [
    {
     "name": "stdout",
     "output_type": "stream",
     "text": [
      "<class 'pandas.core.frame.DataFrame'>\n",
      "Int64Index: 131720 entries, 163 to 999978\n",
      "Data columns (total 26 columns):\n",
      " #   Column           Non-Null Count   Dtype         \n",
      "---  ------           --------------   -----         \n",
      " 0   id               131720 non-null  object        \n",
      " 1   ad_type          131720 non-null  object        \n",
      " 2   start_date       131720 non-null  object        \n",
      " 3   end_date         131720 non-null  object        \n",
      " 4   created_on       131720 non-null  datetime64[ns]\n",
      " 5   lat              123428 non-null  float64       \n",
      " 6   lon              123428 non-null  float64       \n",
      " 7   l1               131720 non-null  object        \n",
      " 8   l2               131720 non-null  object        \n",
      " 9   l3               131209 non-null  object        \n",
      " 10  l4               5914 non-null    object        \n",
      " 11  l5               0 non-null       object        \n",
      " 12  l6               0 non-null       float64       \n",
      " 13  rooms            125620 non-null  float64       \n",
      " 14  bedrooms         108655 non-null  float64       \n",
      " 15  bathrooms        125765 non-null  float64       \n",
      " 16  surface_total    89751 non-null   float64       \n",
      " 17  surface_covered  90846 non-null   float64       \n",
      " 18  price            131720 non-null  float64       \n",
      " 19  currency         131720 non-null  object        \n",
      " 20  price_period     62535 non-null   object        \n",
      " 21  title            131720 non-null  object        \n",
      " 22  description      131720 non-null  object        \n",
      " 23  operation_type   131720 non-null  object        \n",
      " 24  year             131720 non-null  int64         \n",
      " 25  month            131720 non-null  int64         \n",
      "dtypes: datetime64[ns](1), float64(9), int64(2), object(14)\n",
      "memory usage: 27.1+ MB\n"
     ]
    }
   ],
   "source": [
    "df_caba.info()"
   ]
  },
  {
   "cell_type": "markdown",
   "id": "a0a3cfdc",
   "metadata": {},
   "source": [
    "### Tranformación y limpieza datos"
   ]
  },
  {
   "cell_type": "code",
   "execution_count": 55,
   "id": "8839a3b2",
   "metadata": {},
   "outputs": [],
   "source": [
    "df_caba['created_on'] = pd.to_datetime(df_caba['created_on'])\n",
    "df_caba['surface_total'].fillna((df_caba['surface_total'].mean()), inplace=True)\n",
    "df_caba['surface_covered'].fillna((df_caba['surface_covered'].mean()), inplace=True)\n",
    "df_caba['bedrooms'].fillna((df_caba['bedrooms'].mean()), inplace=True)\n",
    "df_caba['rooms'].fillna((df_caba['rooms'].mean()), inplace=True)\n",
    "# corren antes de \"Transform & clean\"\n",
    "df_caba['price'].fillna((df_caba['price']), inplace=True)\n",
    "\n",
    "df_caba['price'] = df_caba['price'].apply(lambda x: x/1000)"
   ]
  },
  {
   "cell_type": "markdown",
   "id": "a3b213f5",
   "metadata": {},
   "source": [
    "### Eliminando atributos que no son necesarios para el análisis"
   ]
  },
  {
   "cell_type": "code",
   "execution_count": 56,
   "id": "9205295a",
   "metadata": {},
   "outputs": [],
   "source": [
    "del df_caba['id']\n",
    "del df_caba['description']\n",
    "del df_caba['title']\n",
    "del df_caba['price_period']\n",
    "del df_caba['ad_type']\n",
    "del df_caba['start_date']\n",
    "del df_caba['end_date']\n",
    "del df_caba['lat']\n",
    "del df_caba['lon']\n",
    "del df_caba['currency']\n",
    "del df_caba['operation_type']\n",
    "\n",
    "del df_caba['l1']\n",
    "del df_caba['l2']\n",
    "del df_caba['l6']\n",
    "del df_caba['l5']\n",
    "del df_caba['l4']\n"
   ]
  },
  {
   "cell_type": "markdown",
   "id": "66693b6f",
   "metadata": {},
   "source": [
    "### Limpieza de datos"
   ]
  },
  {
   "cell_type": "code",
   "execution_count": 57,
   "id": "d1cec028",
   "metadata": {},
   "outputs": [
    {
     "data": {
      "text/plain": [
       "<AxesSubplot:>"
      ]
     },
     "execution_count": 57,
     "metadata": {},
     "output_type": "execute_result"
    },
    {
     "data": {
      "image/png": "[encoded data removed]",
      "text/plain": [
       "<Figure size 432x288 with 1 Axes>"
      ]
     },
     "metadata": {
      "needs_background": "light"
     },
     "output_type": "display_data"
    }
   ],
   "source": [
    "df_caba['price'].plot()"
   ]
  },
  {
   "cell_type": "code",
   "execution_count": 58,
   "id": "949e89a8",
   "metadata": {},
   "outputs": [],
   "source": [
    "### nos quedamos con las propiedades que valen menos de 1millon de dolares\n",
    "df_caba['price'] = df_caba['price'].loc[df_caba['price'] < 1000]"
   ]
  },
  {
   "cell_type": "code",
   "execution_count": 59,
   "id": "eed5e55d",
   "metadata": {},
   "outputs": [
    {
     "data": {
      "text/plain": [
       "Text(0.5, 0, 'Precio en unidades miles de dolares')"
      ]
     },
     "execution_count": 59,
     "metadata": {},
     "output_type": "execute_result"
    },
    {
     "data": {
      "image/png": "[encoded data removed]",
      "text/plain": [
       "<Figure size 432x288 with 1 Axes>"
      ]
     },
     "metadata": {
      "needs_background": "light"
     },
     "output_type": "display_data"
    }
   ],
   "source": [
    "df_caba.hist(column='price',grid=False,bins=10,color='#A0E8AF')\n",
    "plt.xlabel('Precio en unidades miles de dolares')"
   ]
  },
  {
   "cell_type": "code",
   "execution_count": 60,
   "id": "ea7b3be4",
   "metadata": {},
   "outputs": [
    {
     "data": {
      "text/plain": [
       "<AxesSubplot:xlabel='surface_covered'>"
      ]
     },
     "execution_count": 60,
     "metadata": {},
     "output_type": "execute_result"
    },
    {
     "data": {
      "image/png": "[encoded data removed]",
      "text/plain": [
       "<Figure size 432x288 with 1 Axes>"
      ]
     },
     "metadata": {
      "needs_background": "light"
     },
     "output_type": "display_data"
    }
   ],
   "source": [
    "df_caba.plot(x='surface_covered', y='price', style='o',color='#A0E8AF')"
   ]
  },
  {
   "cell_type": "code",
   "execution_count": 61,
   "id": "249f9da0",
   "metadata": {},
   "outputs": [
    {
     "data": {
      "text/plain": [
       "<AxesSubplot:xlabel='surface_covered'>"
      ]
     },
     "execution_count": 61,
     "metadata": {},
     "output_type": "execute_result"
    },
    {
     "data": {
      "image/png": "[encoded data removed]",
      "text/plain": [
       "<Figure size 432x288 with 1 Axes>"
      ]
     },
     "metadata": {
      "needs_background": "light"
     },
     "output_type": "display_data"
    }
   ],
   "source": [
    "df_caba['surface_covered'] = df_caba['surface_covered'].loc[df_caba['surface_covered'] < 750]\n",
    "df_caba.plot(x='surface_covered', y='price', style='o',color='#A0E8AF')"
   ]
  },
  {
   "cell_type": "code",
   "execution_count": 62,
   "id": "bc9e2596",
   "metadata": {},
   "outputs": [
    {
     "data": {
      "text/plain": [
       "<AxesSubplot:xlabel='surface_covered'>"
      ]
     },
     "execution_count": 62,
     "metadata": {},
     "output_type": "execute_result"
    },
    {
     "data": {
      "image/png": "[encoded data removed]",
      "text/plain": [
       "<Figure size 432x288 with 1 Axes>"
      ]
     },
     "metadata": {
      "needs_background": "light"
     },
     "output_type": "display_data"
    }
   ],
   "source": [
    "df_caba_with_surface_covered_less_than_200 = df_caba.loc[df_caba['surface_covered'] < 200]\n",
    "\n",
    "\n",
    "df_caba_with_surface_covered_less_than_200.plot(x='surface_covered', y='price', style='o',color='#A0E8AF')"
   ]
  },
  {
   "cell_type": "code",
   "execution_count": 63,
   "id": "06638646",
   "metadata": {},
   "outputs": [
    {
     "data": {
      "text/plain": [
       "<AxesSubplot:xlabel='surface_covered'>"
      ]
     },
     "execution_count": 63,
     "metadata": {},
     "output_type": "execute_result"
    },
    {
     "data": {
      "image/png": "[encoded data removed]",
      "text/plain": [
       "<Figure size 432x288 with 1 Axes>"
      ]
     },
     "metadata": {
      "needs_background": "light"
     },
     "output_type": "display_data"
    }
   ],
   "source": [
    "df_caba.plot(x='surface_covered', y='price', style='o',color='#A0E8AF')"
   ]
  },
  {
   "cell_type": "markdown",
   "id": "1ad48adb",
   "metadata": {},
   "source": [
    "### algunas comparativas"
   ]
  },
  {
   "cell_type": "code",
   "execution_count": 64,
   "id": "1dabbbcc",
   "metadata": {},
   "outputs": [
    {
     "data": {
      "text/plain": [
       "<AxesSubplot:xlabel='rooms'>"
      ]
     },
     "execution_count": 64,
     "metadata": {},
     "output_type": "execute_result"
    },
    {
     "data": {
      "image/png": "[encoded data removed]",
      "text/plain": [
       "<Figure size 432x288 with 1 Axes>"
      ]
     },
     "metadata": {
      "needs_background": "light"
     },
     "output_type": "display_data"
    }
   ],
   "source": [
    "# se filtran hasta 10 habitaciones para que no haya mucho dispersion\n",
    "df_caba['rooms'] = df_caba['rooms'].loc[df_caba['rooms'] <=10]\n",
    "\n",
    "df_caba.plot(x='rooms', y='price', style='o', color='#A0E8AF')\n",
    "#df.plot(x='price', y='surface_covered', style='o')"
   ]
  },
  {
   "cell_type": "markdown",
   "id": "7f92e06f",
   "metadata": {},
   "source": [
    "### Distribuciones de las clases"
   ]
  },
  {
   "cell_type": "markdown",
   "id": "e4f8d7b5",
   "metadata": {},
   "source": [
    "### ¿Cómo influye la comuna en el precio por m2?"
   ]
  },
  {
   "cell_type": "code",
   "execution_count": 65,
   "id": "8dfe05f8",
   "metadata": {},
   "outputs": [],
   "source": [
    "df_caba[\"price_usd_per_m2\"] = df_caba[\"price\"] / df_caba[\"surface_total\"]"
   ]
  },
  {
   "cell_type": "code",
   "execution_count": 67,
   "id": "75ed93de",
   "metadata": {},
   "outputs": [
    {
     "data": {
      "text/plain": [
       "<bound method NDFrame.describe of 163        COMUNA 1\n",
       "164        COMUNA 5\n",
       "165       COMUNA 14\n",
       "166       COMUNA 14\n",
       "167       COMUNA 14\n",
       "            ...    \n",
       "999928     COMUNA 3\n",
       "999931         None\n",
       "999932         None\n",
       "999977    COMUNA 14\n",
       "999978    COMUNA 13\n",
       "Name: COMUNA, Length: 131720, dtype: object>"
      ]
     },
     "execution_count": 67,
     "metadata": {},
     "output_type": "execute_result"
    }
   ],
   "source": [
    "def getComunaByBarrio(x):\n",
    "    comuna1 = ['Retiro','San Nicolás','Puerto Madero','San Telmo','Montserrat', 'Constitución']\n",
    "    comuna2 = ['Recoleta']\n",
    "    comuna3 = ['Balvanera','San Cristóbal']\n",
    "    comuna4 = ['La Boca', 'Barracas', 'Parque Patricios', 'Nueva Pompeya']\n",
    "    comuna5 = ['Almagro', 'Boedo']\n",
    "    comuna6 = ['Caballito']\n",
    "    comuna7 = ['Flores','Parque Chacabuco']\n",
    "    comuna8 = ['Villa Soldati', 'Villa Riachuelo', 'Villa Lugano']\n",
    "    comuna9 = ['Liniers', 'Mataderos', 'Parque Avellaneda']\n",
    "    comuna10 = ['Villa Real', 'Monte Castro', 'Versalles', 'Floresta','Vélez Sarsfield','Villa Luro']\n",
    "    comuna11 = ['Villa General Mitre', 'Villa Devoto', 'Villa del Parque', 'Villa Santa Rita']\n",
    "    comuna12 = ['Coghlan', 'Saavedra', 'Villa Urquiza','Villa Pueyrredón']\n",
    "    comuna13 = ['Núñez', 'Belgrano', 'Colegiales']\n",
    "    comuna14 = ['Palermo']\n",
    "    comuna15 = ['Chacarita', 'Villa Crespo', 'La Paternal','Villa Ortúzar', 'Agronomía', 'Parque Chas']\n",
    "    \n",
    "    if x in comuna1:\n",
    "        return 'COMUNA 1'\n",
    "    elif x in comuna2:\n",
    "        return 'COMUNA 2'\n",
    "    elif x in comuna3:\n",
    "        return 'COMUNA 3'\n",
    "    elif x in comuna4:\n",
    "        return 'COMUNA 4'\n",
    "    elif x in comuna5:\n",
    "        return 'COMUNA 5'\n",
    "    elif x in comuna6:\n",
    "        return 'COMUNA 6'\n",
    "    elif x in comuna7:\n",
    "        return 'COMUNA 7'\n",
    "    elif x in comuna8:\n",
    "        return 'COMUNA 8'\n",
    "    elif x in comuna9:\n",
    "        return 'COMUNA 9'\n",
    "    elif x in comuna10:\n",
    "        return 'COMUNA 10'\n",
    "    elif x in comuna11:\n",
    "        return 'COMUNA 11'\n",
    "    elif x in comuna12:\n",
    "        return 'COMUNA 12'\n",
    "    elif x in comuna13:\n",
    "        return 'COMUNA 13'\n",
    "    elif x in comuna14:\n",
    "        return 'COMUNA 14'\n",
    "    elif x in comuna15:\n",
    "        return 'COMUNA 15'\n",
    "\n",
    "\n",
    "df_caba['COMUNA'] = df_caba['l3'].apply(getComunaByBarrio)\n",
    "df_caba['COMUNA'].describe"
   ]
  },
  {
   "cell_type": "markdown",
   "id": "615eee1c",
   "metadata": {},
   "source": [
    "### Cantidad de avisos por comuna"
   ]
  },
  {
   "cell_type": "code",
   "execution_count": 68,
   "id": "9381b00c",
   "metadata": {},
   "outputs": [
    {
     "data": {
      "image/png": "[encoded data removed]",
      "text/plain": [
       "<Figure size 1008x288 with 1 Axes>"
      ]
     },
     "metadata": {
      "needs_background": "light"
     },
     "output_type": "display_data"
    }
   ],
   "source": [
    "df_caba['COMUNA'].value_counts().head(15).plot(kind='bar',rot=60, figsize=(14,4), color='#A0E8AF' ,fontsize=12);\n",
    "plt.title('Cantidad de avisos por Comuna', fontsize=20);\n",
    "plt.xlabel('Comuna', fontsize=16);\n",
    "plt.ylabel('Cantidad de avisos', fontsize=16);"
   ]
  },
  {
   "cell_type": "code",
   "execution_count": 71,
   "id": "4429d220",
   "metadata": {},
   "outputs": [],
   "source": [
    "def get_comuna_price_m2(df, num, cheapest):\n",
    "    return df.groupby(['COMUNA'])['price_usd_per_m2'].mean().sort_values(ascending=cheapest).head(num)\n",
    "    \n",
    "def plot_comuna_price_m2(df, num, cheapest,colour,title):\n",
    "    graph = get_comuna_price_m2(df, num, cheapest).sort_values().plot.barh(figsize=(15,5),color='#A0E8AF',fontsize=12)\n",
    "    graph.set_title(title, fontsize=20)\n",
    "    graph.set_ylabel(\"Comuna\", fontsize=16)\n",
    "    graph.set_xlabel(\"1000 USD/m2\", fontsize=16)\n",
    "    plt.show()"
   ]
  },
  {
   "cell_type": "code",
   "execution_count": 72,
   "id": "bb7037bc",
   "metadata": {
    "scrolled": false
   },
   "outputs": [
    {
     "data": {
      "image/png": "[encoded data removed]",
      "text/plain": [
       "<Figure size 1080x360 with 1 Axes>"
      ]
     },
     "metadata": {
      "needs_background": "light"
     },
     "output_type": "display_data"
    }
   ],
   "source": [
    "cantidad_comunas_a_mostrar = 15\n",
    "plot_comuna_price_m2(df_caba,cantidad_comunas_a_mostrar, False,'blue',\"Precio del m2 según la comuna\")"
   ]
  },
  {
   "cell_type": "code",
   "execution_count": 73,
   "id": "25ad8b65",
   "metadata": {
    "scrolled": false
   },
   "outputs": [
    {
     "ename": "AttributeError",
     "evalue": "'Rectangle' object has no property 'lineWidth'",
     "output_type": "error",
     "traceback": [
      "\u001b[0;31m---------------------------------------------------------------------------\u001b[0m",
      "\u001b[0;31mAttributeError\u001b[0m                            Traceback (most recent call last)",
      "Input \u001b[0;32mIn [73]\u001b[0m, in \u001b[0;36m<cell line: 6>\u001b[0;34m()\u001b[0m\n\u001b[1;32m      2\u001b[0m     \u001b[38;5;28;01mreturn\u001b[39;00m df\u001b[38;5;241m.\u001b[39mgroupby([\u001b[38;5;124m'\u001b[39m\u001b[38;5;124mCOMUNA\u001b[39m\u001b[38;5;124m'\u001b[39m])[\u001b[38;5;124m'\u001b[39m\u001b[38;5;124mprice_usd_per_m2\u001b[39m\u001b[38;5;124m'\u001b[39m]\u001b[38;5;241m.\u001b[39mmean()\u001b[38;5;241m.\u001b[39msort_values(ascending\u001b[38;5;241m=\u001b[39mcheapest)\u001b[38;5;241m.\u001b[39mhead(num)\n\u001b[1;32m      4\u001b[0m top5_cheap_CABA \u001b[38;5;241m=\u001b[39m get_comuna_price_m2(df_caba,\u001b[38;5;241m5\u001b[39m, \u001b[38;5;28;01mTrue\u001b[39;00m)\n\u001b[0;32m----> 6\u001b[0m graph \u001b[38;5;241m=\u001b[39m \u001b[43mtop5_cheap_CABA\u001b[49m\u001b[38;5;241;43m.\u001b[39;49m\u001b[43msort_values\u001b[49m\u001b[43m(\u001b[49m\u001b[43m)\u001b[49m\u001b[38;5;241;43m.\u001b[39;49m\u001b[43mplot\u001b[49m\u001b[38;5;241;43m.\u001b[39;49m\u001b[43mbarh\u001b[49m\u001b[43m(\u001b[49m\u001b[43mfigsize\u001b[49m\u001b[38;5;241;43m=\u001b[39;49m\u001b[43m(\u001b[49m\u001b[38;5;241;43m15\u001b[39;49m\u001b[43m,\u001b[49m\u001b[38;5;241;43m5\u001b[39;49m\u001b[43m)\u001b[49m\u001b[43m,\u001b[49m\u001b[43mcolor\u001b[49m\u001b[38;5;241;43m=\u001b[39;49m\u001b[38;5;124;43m'\u001b[39;49m\u001b[38;5;124;43mblue\u001b[39;49m\u001b[38;5;124;43m'\u001b[39;49m\u001b[43m,\u001b[49m\u001b[43medgecolor\u001b[49m\u001b[38;5;241;43m=\u001b[39;49m\u001b[38;5;124;43m'\u001b[39;49m\u001b[38;5;124;43mdarkred\u001b[39;49m\u001b[38;5;124;43m'\u001b[39;49m\u001b[43m,\u001b[49m\u001b[43mlineWidth\u001b[49m\u001b[43m \u001b[49m\u001b[38;5;241;43m=\u001b[39;49m\u001b[43m \u001b[49m\u001b[38;5;241;43m1.5\u001b[39;49m\u001b[43m,\u001b[49m\u001b[43mfontsize\u001b[49m\u001b[38;5;241;43m=\u001b[39;49m\u001b[38;5;241;43m15\u001b[39;49m\u001b[43m)\u001b[49m\n\u001b[1;32m      7\u001b[0m graph\u001b[38;5;241m.\u001b[39mset_title(\u001b[38;5;124m\"\u001b[39m\u001b[38;5;124mLas 5 comunas más económicas por m2\u001b[39m\u001b[38;5;124m\"\u001b[39m, fontsize\u001b[38;5;241m=\u001b[39m\u001b[38;5;241m20\u001b[39m)\n\u001b[1;32m      8\u001b[0m graph\u001b[38;5;241m.\u001b[39mset_ylabel(\u001b[38;5;124m\"\u001b[39m\u001b[38;5;124mComuna\u001b[39m\u001b[38;5;124m\"\u001b[39m, fontsize\u001b[38;5;241m=\u001b[39m\u001b[38;5;241m18\u001b[39m)\n",
      "File \u001b[0;32m/opt/homebrew/lib/python3.9/site-packages/pandas/plotting/_core.py:1217\u001b[0m, in \u001b[0;36mPlotAccessor.barh\u001b[0;34m(self, x, y, **kwargs)\u001b[0m\n\u001b[1;32m   1133\u001b[0m \u001b[38;5;129m@Appender\u001b[39m(\n\u001b[1;32m   1134\u001b[0m     \u001b[38;5;124;03m\"\"\"\u001b[39;00m\n\u001b[1;32m   1135\u001b[0m \u001b[38;5;124;03m    See Also\u001b[39;00m\n\u001b[0;32m   (...)\u001b[0m\n\u001b[1;32m   1206\u001b[0m \u001b[38;5;129m@Appender\u001b[39m(_bar_or_line_doc)\n\u001b[1;32m   1207\u001b[0m \u001b[38;5;28;01mdef\u001b[39;00m \u001b[38;5;21mbarh\u001b[39m(\u001b[38;5;28mself\u001b[39m, x\u001b[38;5;241m=\u001b[39m\u001b[38;5;28;01mNone\u001b[39;00m, y\u001b[38;5;241m=\u001b[39m\u001b[38;5;28;01mNone\u001b[39;00m, \u001b[38;5;241m*\u001b[39m\u001b[38;5;241m*\u001b[39mkwargs):\n\u001b[1;32m   1208\u001b[0m     \u001b[38;5;124;03m\"\"\"\u001b[39;00m\n\u001b[1;32m   1209\u001b[0m \u001b[38;5;124;03m    Make a horizontal bar plot.\u001b[39;00m\n\u001b[1;32m   1210\u001b[0m \n\u001b[0;32m   (...)\u001b[0m\n\u001b[1;32m   1215\u001b[0m \u001b[38;5;124;03m    other axis represents a measured value.\u001b[39;00m\n\u001b[1;32m   1216\u001b[0m \u001b[38;5;124;03m    \"\"\"\u001b[39;00m\n\u001b[0;32m-> 1217\u001b[0m     \u001b[38;5;28;01mreturn\u001b[39;00m \u001b[38;5;28;43mself\u001b[39;49m\u001b[43m(\u001b[49m\u001b[43mkind\u001b[49m\u001b[38;5;241;43m=\u001b[39;49m\u001b[38;5;124;43m\"\u001b[39;49m\u001b[38;5;124;43mbarh\u001b[39;49m\u001b[38;5;124;43m\"\u001b[39;49m\u001b[43m,\u001b[49m\u001b[43m \u001b[49m\u001b[43mx\u001b[49m\u001b[38;5;241;43m=\u001b[39;49m\u001b[43mx\u001b[49m\u001b[43m,\u001b[49m\u001b[43m \u001b[49m\u001b[43my\u001b[49m\u001b[38;5;241;43m=\u001b[39;49m\u001b[43my\u001b[49m\u001b[43m,\u001b[49m\u001b[43m \u001b[49m\u001b[38;5;241;43m*\u001b[39;49m\u001b[38;5;241;43m*\u001b[39;49m\u001b[43mkwargs\u001b[49m\u001b[43m)\u001b[49m\n",
      "File \u001b[0;32m/opt/homebrew/lib/python3.9/site-packages/pandas/plotting/_core.py:972\u001b[0m, in \u001b[0;36mPlotAccessor.__call__\u001b[0;34m(self, *args, **kwargs)\u001b[0m\n\u001b[1;32m    969\u001b[0m             label_name \u001b[38;5;241m=\u001b[39m label_kw \u001b[38;5;129;01mor\u001b[39;00m data\u001b[38;5;241m.\u001b[39mcolumns\n\u001b[1;32m    970\u001b[0m             data\u001b[38;5;241m.\u001b[39mcolumns \u001b[38;5;241m=\u001b[39m label_name\n\u001b[0;32m--> 972\u001b[0m \u001b[38;5;28;01mreturn\u001b[39;00m \u001b[43mplot_backend\u001b[49m\u001b[38;5;241;43m.\u001b[39;49m\u001b[43mplot\u001b[49m\u001b[43m(\u001b[49m\u001b[43mdata\u001b[49m\u001b[43m,\u001b[49m\u001b[43m \u001b[49m\u001b[43mkind\u001b[49m\u001b[38;5;241;43m=\u001b[39;49m\u001b[43mkind\u001b[49m\u001b[43m,\u001b[49m\u001b[43m \u001b[49m\u001b[38;5;241;43m*\u001b[39;49m\u001b[38;5;241;43m*\u001b[39;49m\u001b[43mkwargs\u001b[49m\u001b[43m)\u001b[49m\n",
      "File \u001b[0;32m/opt/homebrew/lib/python3.9/site-packages/pandas/plotting/_matplotlib/__init__.py:71\u001b[0m, in \u001b[0;36mplot\u001b[0;34m(data, kind, **kwargs)\u001b[0m\n\u001b[1;32m     69\u001b[0m         kwargs[\u001b[38;5;124m\"\u001b[39m\u001b[38;5;124max\u001b[39m\u001b[38;5;124m\"\u001b[39m] \u001b[38;5;241m=\u001b[39m \u001b[38;5;28mgetattr\u001b[39m(ax, \u001b[38;5;124m\"\u001b[39m\u001b[38;5;124mleft_ax\u001b[39m\u001b[38;5;124m\"\u001b[39m, ax)\n\u001b[1;32m     70\u001b[0m plot_obj \u001b[38;5;241m=\u001b[39m PLOT_CLASSES[kind](data, \u001b[38;5;241m*\u001b[39m\u001b[38;5;241m*\u001b[39mkwargs)\n\u001b[0;32m---> 71\u001b[0m \u001b[43mplot_obj\u001b[49m\u001b[38;5;241;43m.\u001b[39;49m\u001b[43mgenerate\u001b[49m\u001b[43m(\u001b[49m\u001b[43m)\u001b[49m\n\u001b[1;32m     72\u001b[0m plot_obj\u001b[38;5;241m.\u001b[39mdraw()\n\u001b[1;32m     73\u001b[0m \u001b[38;5;28;01mreturn\u001b[39;00m plot_obj\u001b[38;5;241m.\u001b[39mresult\n",
      "File \u001b[0;32m/opt/homebrew/lib/python3.9/site-packages/pandas/plotting/_matplotlib/core.py:329\u001b[0m, in \u001b[0;36mMPLPlot.generate\u001b[0;34m(self)\u001b[0m\n\u001b[1;32m    327\u001b[0m \u001b[38;5;28mself\u001b[39m\u001b[38;5;241m.\u001b[39m_compute_plot_data()\n\u001b[1;32m    328\u001b[0m \u001b[38;5;28mself\u001b[39m\u001b[38;5;241m.\u001b[39m_setup_subplots()\n\u001b[0;32m--> 329\u001b[0m \u001b[38;5;28;43mself\u001b[39;49m\u001b[38;5;241;43m.\u001b[39;49m\u001b[43m_make_plot\u001b[49m\u001b[43m(\u001b[49m\u001b[43m)\u001b[49m\n\u001b[1;32m    330\u001b[0m \u001b[38;5;28mself\u001b[39m\u001b[38;5;241m.\u001b[39m_add_table()\n\u001b[1;32m    331\u001b[0m \u001b[38;5;28mself\u001b[39m\u001b[38;5;241m.\u001b[39m_make_legend()\n",
      "File \u001b[0;32m/opt/homebrew/lib/python3.9/site-packages/pandas/plotting/_matplotlib/core.py:1558\u001b[0m, in \u001b[0;36mBarPlot._make_plot\u001b[0;34m(self)\u001b[0m\n\u001b[1;32m   1556\u001b[0m \u001b[38;5;28;01melse\u001b[39;00m:\n\u001b[1;32m   1557\u001b[0m     w \u001b[38;5;241m=\u001b[39m \u001b[38;5;28mself\u001b[39m\u001b[38;5;241m.\u001b[39mbar_width \u001b[38;5;241m/\u001b[39m K\n\u001b[0;32m-> 1558\u001b[0m     rect \u001b[38;5;241m=\u001b[39m \u001b[38;5;28;43mself\u001b[39;49m\u001b[38;5;241;43m.\u001b[39;49m\u001b[43m_plot\u001b[49m\u001b[43m(\u001b[49m\n\u001b[1;32m   1559\u001b[0m \u001b[43m        \u001b[49m\u001b[43max\u001b[49m\u001b[43m,\u001b[49m\n\u001b[1;32m   1560\u001b[0m \u001b[43m        \u001b[49m\u001b[38;5;28;43mself\u001b[39;49m\u001b[38;5;241;43m.\u001b[39;49m\u001b[43max_pos\u001b[49m\u001b[43m \u001b[49m\u001b[38;5;241;43m+\u001b[39;49m\u001b[43m \u001b[49m\u001b[43m(\u001b[49m\u001b[43mi\u001b[49m\u001b[43m \u001b[49m\u001b[38;5;241;43m+\u001b[39;49m\u001b[43m \u001b[49m\u001b[38;5;241;43m0.5\u001b[39;49m\u001b[43m)\u001b[49m\u001b[43m \u001b[49m\u001b[38;5;241;43m*\u001b[39;49m\u001b[43m \u001b[49m\u001b[43mw\u001b[49m\u001b[43m,\u001b[49m\n\u001b[1;32m   1561\u001b[0m \u001b[43m        \u001b[49m\u001b[43my\u001b[49m\u001b[43m,\u001b[49m\n\u001b[1;32m   1562\u001b[0m \u001b[43m        \u001b[49m\u001b[43mw\u001b[49m\u001b[43m,\u001b[49m\n\u001b[1;32m   1563\u001b[0m \u001b[43m        \u001b[49m\u001b[43mstart\u001b[49m\u001b[38;5;241;43m=\u001b[39;49m\u001b[43mstart\u001b[49m\u001b[43m,\u001b[49m\n\u001b[1;32m   1564\u001b[0m \u001b[43m        \u001b[49m\u001b[43mlabel\u001b[49m\u001b[38;5;241;43m=\u001b[39;49m\u001b[43mlabel\u001b[49m\u001b[43m,\u001b[49m\n\u001b[1;32m   1565\u001b[0m \u001b[43m        \u001b[49m\u001b[43mlog\u001b[49m\u001b[38;5;241;43m=\u001b[39;49m\u001b[38;5;28;43mself\u001b[39;49m\u001b[38;5;241;43m.\u001b[39;49m\u001b[43mlog\u001b[49m\u001b[43m,\u001b[49m\n\u001b[1;32m   1566\u001b[0m \u001b[43m        \u001b[49m\u001b[38;5;241;43m*\u001b[39;49m\u001b[38;5;241;43m*\u001b[39;49m\u001b[43mkwds\u001b[49m\u001b[43m,\u001b[49m\n\u001b[1;32m   1567\u001b[0m \u001b[43m    \u001b[49m\u001b[43m)\u001b[49m\n\u001b[1;32m   1568\u001b[0m \u001b[38;5;28mself\u001b[39m\u001b[38;5;241m.\u001b[39m_append_legend_handles_labels(rect, label)\n",
      "File \u001b[0;32m/opt/homebrew/lib/python3.9/site-packages/pandas/plotting/_matplotlib/core.py:1609\u001b[0m, in \u001b[0;36mBarhPlot._plot\u001b[0;34m(cls, ax, x, y, w, start, log, **kwds)\u001b[0m\n\u001b[1;32m   1605\u001b[0m \u001b[38;5;129m@classmethod\u001b[39m\n\u001b[1;32m   1606\u001b[0m \u001b[38;5;28;01mdef\u001b[39;00m \u001b[38;5;21m_plot\u001b[39m(  \u001b[38;5;66;03m# type: ignore[override]\u001b[39;00m\n\u001b[1;32m   1607\u001b[0m     \u001b[38;5;28mcls\u001b[39m, ax: Axes, x, y, w, start\u001b[38;5;241m=\u001b[39m\u001b[38;5;241m0\u001b[39m, log\u001b[38;5;241m=\u001b[39m\u001b[38;5;28;01mFalse\u001b[39;00m, \u001b[38;5;241m*\u001b[39m\u001b[38;5;241m*\u001b[39mkwds\n\u001b[1;32m   1608\u001b[0m ):\n\u001b[0;32m-> 1609\u001b[0m     \u001b[38;5;28;01mreturn\u001b[39;00m \u001b[43max\u001b[49m\u001b[38;5;241;43m.\u001b[39;49m\u001b[43mbarh\u001b[49m\u001b[43m(\u001b[49m\u001b[43mx\u001b[49m\u001b[43m,\u001b[49m\u001b[43m \u001b[49m\u001b[43my\u001b[49m\u001b[43m,\u001b[49m\u001b[43m \u001b[49m\u001b[43mw\u001b[49m\u001b[43m,\u001b[49m\u001b[43m \u001b[49m\u001b[43mleft\u001b[49m\u001b[38;5;241;43m=\u001b[39;49m\u001b[43mstart\u001b[49m\u001b[43m,\u001b[49m\u001b[43m \u001b[49m\u001b[43mlog\u001b[49m\u001b[38;5;241;43m=\u001b[39;49m\u001b[43mlog\u001b[49m\u001b[43m,\u001b[49m\u001b[43m \u001b[49m\u001b[38;5;241;43m*\u001b[39;49m\u001b[38;5;241;43m*\u001b[39;49m\u001b[43mkwds\u001b[49m\u001b[43m)\u001b[49m\n",
      "File \u001b[0;32m/opt/homebrew/lib/python3.9/site-packages/matplotlib/axes/_axes.py:2554\u001b[0m, in \u001b[0;36mAxes.barh\u001b[0;34m(self, y, width, height, left, align, **kwargs)\u001b[0m\n\u001b[1;32m   2455\u001b[0m \u001b[38;5;124mr\u001b[39m\u001b[38;5;124;03m\"\"\"\u001b[39;00m\n\u001b[1;32m   2456\u001b[0m \u001b[38;5;124;03mMake a horizontal bar plot.\u001b[39;00m\n\u001b[1;32m   2457\u001b[0m \n\u001b[0;32m   (...)\u001b[0m\n\u001b[1;32m   2551\u001b[0m \u001b[38;5;124;03m.\u001b[39;00m\n\u001b[1;32m   2552\u001b[0m \u001b[38;5;124;03m\"\"\"\u001b[39;00m\n\u001b[1;32m   2553\u001b[0m kwargs\u001b[38;5;241m.\u001b[39msetdefault(\u001b[38;5;124m'\u001b[39m\u001b[38;5;124morientation\u001b[39m\u001b[38;5;124m'\u001b[39m, \u001b[38;5;124m'\u001b[39m\u001b[38;5;124mhorizontal\u001b[39m\u001b[38;5;124m'\u001b[39m)\n\u001b[0;32m-> 2554\u001b[0m patches \u001b[38;5;241m=\u001b[39m \u001b[38;5;28;43mself\u001b[39;49m\u001b[38;5;241;43m.\u001b[39;49m\u001b[43mbar\u001b[49m\u001b[43m(\u001b[49m\u001b[43mx\u001b[49m\u001b[38;5;241;43m=\u001b[39;49m\u001b[43mleft\u001b[49m\u001b[43m,\u001b[49m\u001b[43m \u001b[49m\u001b[43mheight\u001b[49m\u001b[38;5;241;43m=\u001b[39;49m\u001b[43mheight\u001b[49m\u001b[43m,\u001b[49m\u001b[43m \u001b[49m\u001b[43mwidth\u001b[49m\u001b[38;5;241;43m=\u001b[39;49m\u001b[43mwidth\u001b[49m\u001b[43m,\u001b[49m\u001b[43m \u001b[49m\u001b[43mbottom\u001b[49m\u001b[38;5;241;43m=\u001b[39;49m\u001b[43my\u001b[49m\u001b[43m,\u001b[49m\n\u001b[1;32m   2555\u001b[0m \u001b[43m                   \u001b[49m\u001b[43malign\u001b[49m\u001b[38;5;241;43m=\u001b[39;49m\u001b[43malign\u001b[49m\u001b[43m,\u001b[49m\u001b[43m \u001b[49m\u001b[38;5;241;43m*\u001b[39;49m\u001b[38;5;241;43m*\u001b[39;49m\u001b[43mkwargs\u001b[49m\u001b[43m)\u001b[49m\n\u001b[1;32m   2556\u001b[0m \u001b[38;5;28;01mreturn\u001b[39;00m patches\n",
      "File \u001b[0;32m/opt/homebrew/lib/python3.9/site-packages/matplotlib/__init__.py:1414\u001b[0m, in \u001b[0;36m_preprocess_data.<locals>.inner\u001b[0;34m(ax, data, *args, **kwargs)\u001b[0m\n\u001b[1;32m   1411\u001b[0m \u001b[38;5;129m@functools\u001b[39m\u001b[38;5;241m.\u001b[39mwraps(func)\n\u001b[1;32m   1412\u001b[0m \u001b[38;5;28;01mdef\u001b[39;00m \u001b[38;5;21minner\u001b[39m(ax, \u001b[38;5;241m*\u001b[39margs, data\u001b[38;5;241m=\u001b[39m\u001b[38;5;28;01mNone\u001b[39;00m, \u001b[38;5;241m*\u001b[39m\u001b[38;5;241m*\u001b[39mkwargs):\n\u001b[1;32m   1413\u001b[0m     \u001b[38;5;28;01mif\u001b[39;00m data \u001b[38;5;129;01mis\u001b[39;00m \u001b[38;5;28;01mNone\u001b[39;00m:\n\u001b[0;32m-> 1414\u001b[0m         \u001b[38;5;28;01mreturn\u001b[39;00m \u001b[43mfunc\u001b[49m\u001b[43m(\u001b[49m\u001b[43max\u001b[49m\u001b[43m,\u001b[49m\u001b[43m \u001b[49m\u001b[38;5;241;43m*\u001b[39;49m\u001b[38;5;28;43mmap\u001b[39;49m\u001b[43m(\u001b[49m\u001b[43msanitize_sequence\u001b[49m\u001b[43m,\u001b[49m\u001b[43m \u001b[49m\u001b[43margs\u001b[49m\u001b[43m)\u001b[49m\u001b[43m,\u001b[49m\u001b[43m \u001b[49m\u001b[38;5;241;43m*\u001b[39;49m\u001b[38;5;241;43m*\u001b[39;49m\u001b[43mkwargs\u001b[49m\u001b[43m)\u001b[49m\n\u001b[1;32m   1416\u001b[0m     bound \u001b[38;5;241m=\u001b[39m new_sig\u001b[38;5;241m.\u001b[39mbind(ax, \u001b[38;5;241m*\u001b[39margs, \u001b[38;5;241m*\u001b[39m\u001b[38;5;241m*\u001b[39mkwargs)\n\u001b[1;32m   1417\u001b[0m     auto_label \u001b[38;5;241m=\u001b[39m (bound\u001b[38;5;241m.\u001b[39marguments\u001b[38;5;241m.\u001b[39mget(label_namer)\n\u001b[1;32m   1418\u001b[0m                   \u001b[38;5;129;01mor\u001b[39;00m bound\u001b[38;5;241m.\u001b[39mkwargs\u001b[38;5;241m.\u001b[39mget(label_namer))\n",
      "File \u001b[0;32m/opt/homebrew/lib/python3.9/site-packages/matplotlib/axes/_axes.py:2406\u001b[0m, in \u001b[0;36mAxes.bar\u001b[0;34m(self, x, height, width, bottom, align, **kwargs)\u001b[0m\n\u001b[1;32m   2397\u001b[0m \u001b[38;5;28;01mfor\u001b[39;00m l, b, w, h, c, e, lw, htch \u001b[38;5;129;01min\u001b[39;00m args:\n\u001b[1;32m   2398\u001b[0m     r \u001b[38;5;241m=\u001b[39m mpatches\u001b[38;5;241m.\u001b[39mRectangle(\n\u001b[1;32m   2399\u001b[0m         xy\u001b[38;5;241m=\u001b[39m(l, b), width\u001b[38;5;241m=\u001b[39mw, height\u001b[38;5;241m=\u001b[39mh,\n\u001b[1;32m   2400\u001b[0m         facecolor\u001b[38;5;241m=\u001b[39mc,\n\u001b[0;32m   (...)\u001b[0m\n\u001b[1;32m   2404\u001b[0m         hatch\u001b[38;5;241m=\u001b[39mhtch,\n\u001b[1;32m   2405\u001b[0m         )\n\u001b[0;32m-> 2406\u001b[0m     \u001b[43mr\u001b[49m\u001b[38;5;241;43m.\u001b[39;49m\u001b[43mupdate\u001b[49m\u001b[43m(\u001b[49m\u001b[43mkwargs\u001b[49m\u001b[43m)\u001b[49m\n\u001b[1;32m   2407\u001b[0m     r\u001b[38;5;241m.\u001b[39mget_path()\u001b[38;5;241m.\u001b[39m_interpolation_steps \u001b[38;5;241m=\u001b[39m \u001b[38;5;241m100\u001b[39m\n\u001b[1;32m   2408\u001b[0m     \u001b[38;5;28;01mif\u001b[39;00m orientation \u001b[38;5;241m==\u001b[39m \u001b[38;5;124m'\u001b[39m\u001b[38;5;124mvertical\u001b[39m\u001b[38;5;124m'\u001b[39m:\n",
      "File \u001b[0;32m/opt/homebrew/lib/python3.9/site-packages/matplotlib/artist.py:1067\u001b[0m, in \u001b[0;36mArtist.update\u001b[0;34m(self, props)\u001b[0m\n\u001b[1;32m   1065\u001b[0m             func \u001b[38;5;241m=\u001b[39m \u001b[38;5;28mgetattr\u001b[39m(\u001b[38;5;28mself\u001b[39m, \u001b[38;5;124mf\u001b[39m\u001b[38;5;124m\"\u001b[39m\u001b[38;5;124mset_\u001b[39m\u001b[38;5;132;01m{\u001b[39;00mk\u001b[38;5;132;01m}\u001b[39;00m\u001b[38;5;124m\"\u001b[39m, \u001b[38;5;28;01mNone\u001b[39;00m)\n\u001b[1;32m   1066\u001b[0m             \u001b[38;5;28;01mif\u001b[39;00m \u001b[38;5;129;01mnot\u001b[39;00m callable(func):\n\u001b[0;32m-> 1067\u001b[0m                 \u001b[38;5;28;01mraise\u001b[39;00m \u001b[38;5;167;01mAttributeError\u001b[39;00m(\u001b[38;5;124mf\u001b[39m\u001b[38;5;124m\"\u001b[39m\u001b[38;5;132;01m{\u001b[39;00m\u001b[38;5;28mtype\u001b[39m(\u001b[38;5;28mself\u001b[39m)\u001b[38;5;241m.\u001b[39m\u001b[38;5;18m__name__\u001b[39m\u001b[38;5;132;01m!r}\u001b[39;00m\u001b[38;5;124m object \u001b[39m\u001b[38;5;124m\"\u001b[39m\n\u001b[1;32m   1068\u001b[0m                                      \u001b[38;5;124mf\u001b[39m\u001b[38;5;124m\"\u001b[39m\u001b[38;5;124mhas no property \u001b[39m\u001b[38;5;132;01m{\u001b[39;00mk\u001b[38;5;132;01m!r}\u001b[39;00m\u001b[38;5;124m\"\u001b[39m)\n\u001b[1;32m   1069\u001b[0m             ret\u001b[38;5;241m.\u001b[39mappend(func(v))\n\u001b[1;32m   1070\u001b[0m \u001b[38;5;28;01mif\u001b[39;00m ret:\n",
      "\u001b[0;31mAttributeError\u001b[0m: 'Rectangle' object has no property 'lineWidth'"
     ]
    },
    {
     "data": {
      "image/png": "[encoded data removed]",
      "text/plain": [
       "<Figure size 1080x360 with 1 Axes>"
      ]
     },
     "metadata": {
      "needs_background": "light"
     },
     "output_type": "display_data"
    }
   ],
   "source": [
    "def get_comuna_price_m2(df, num, cheapest):\n",
    "    return df.groupby(['COMUNA'])['price_usd_per_m2'].mean().sort_values(ascending=cheapest).head(num)\n",
    "\n",
    "top5_cheap_CABA = get_comuna_price_m2(df_caba,5, True)\n",
    "\n",
    "graph = top5_cheap_CABA.sort_values().plot.barh(figsize=(15,5),color='blue',edgecolor='darkred',lineWidth = 1.5,fontsize=15)\n",
    "graph.set_title(\"Las 5 comunas más económicas por m2\", fontsize=20)\n",
    "graph.set_ylabel(\"Comuna\", fontsize=18)\n",
    "graph.set_xlabel(\"USD/m2\", fontsize=18)\n",
    "plt.show()"
   ]
  },
  {
   "cell_type": "markdown",
   "id": "4c7eeabe",
   "metadata": {},
   "source": [
    "### relación de comuna y la cantidad de ambientes"
   ]
  },
  {
   "cell_type": "code",
   "execution_count": 75,
   "id": "e906390a",
   "metadata": {},
   "outputs": [],
   "source": [
    "import matplotlib.pyplot as plt\n",
    "def get_comuna_rooms(df, num, cheapest):\n",
    "    return df.groupby(['COMUNA'])['rooms'].mean().sort_values(ascending=cheapest).head(num)\n",
    "    \n",
    "def plot_comuna_rooms(df, num, cheapest,colour,title):\n",
    "    graph = get_comuna_rooms(df, num, cheapest).sort_values().plot.barh(figsize=(15,5),color='#A0E8AF',fontsize=12)\n",
    "    graph.set_title(title, fontsize=20)\n",
    "    graph.set_ylabel(\"Comuna\", fontsize=15)\n",
    "    graph.set_xlabel(\"ambientes\", fontsize=15)\n",
    "    plt.show()"
   ]
  },
  {
   "cell_type": "code",
   "execution_count": 76,
   "id": "971597af",
   "metadata": {},
   "outputs": [
    {
     "data": {
      "image/png": "[encoded data removed]",
      "text/plain": [
       "<Figure size 1080x360 with 1 Axes>"
      ]
     },
     "metadata": {
      "needs_background": "light"
     },
     "output_type": "display_data"
    }
   ],
   "source": [
    "cantidad_comunas_a_mostrar = 15\n",
    "plot_comuna_rooms(df_caba,cantidad_comunas_a_mostrar, False,'darkred',\"Cantidad de ambientes en promedio según la comuna\")"
   ]
  },
  {
   "cell_type": "markdown",
   "id": "4f636dbc",
   "metadata": {},
   "source": [
    "### relación de comuna y la superficie total"
   ]
  },
  {
   "cell_type": "code",
   "execution_count": 78,
   "id": "4f938e84",
   "metadata": {},
   "outputs": [],
   "source": [
    "import matplotlib.pyplot as plt\n",
    "def get_comuna_superficie(df, num, cheapest):\n",
    "    return df.groupby(['COMUNA'])['surface_total'].mean().sort_values(ascending=cheapest).head(num)\n",
    "    \n",
    "def plot_comuna_superficie(df, num, cheapest,colour,title):\n",
    "    graph = get_comuna_superficie(df, num, cheapest).sort_values().plot.barh(figsize=(15,5),color='#A0E8AF',fontsize=12)\n",
    "    graph.set_title(title, fontsize=20)\n",
    "    graph.set_ylabel(\"Comuna\", fontsize=16)\n",
    "    graph.set_xlabel(\"surface_total\", fontsize=16)\n",
    "    plt.show()"
   ]
  },
  {
   "cell_type": "code",
   "execution_count": 79,
   "id": "3ca19e99",
   "metadata": {},
   "outputs": [
    {
     "data": {
      "image/png": "[encoded data removed]",
      "text/plain": [
       "<Figure size 1080x360 with 1 Axes>"
      ]
     },
     "metadata": {
      "needs_background": "light"
     },
     "output_type": "display_data"
    }
   ],
   "source": [
    "plot_comuna_rooms(df_caba,15, False,'blue',\"Superficie total por Comuna\")"
   ]
  },
  {
   "cell_type": "markdown",
   "id": "04d57259",
   "metadata": {},
   "source": [
    "### Discretización de price"
   ]
  },
  {
   "cell_type": "code",
   "execution_count": 80,
   "id": "35ae2e3f",
   "metadata": {},
   "outputs": [
    {
     "data": {
      "text/plain": [
       "count    128570.000000\n",
       "mean        196.469050\n",
       "std         155.341461\n",
       "min           0.000000\n",
       "25%          98.000000\n",
       "50%         145.000000\n",
       "75%         235.000000\n",
       "max         999.999000\n",
       "Name: price, dtype: float64"
      ]
     },
     "execution_count": 80,
     "metadata": {},
     "output_type": "execute_result"
    }
   ],
   "source": [
    "df_caba['price'].describe()"
   ]
  },
  {
   "cell_type": "code",
   "execution_count": 81,
   "id": "a748be05",
   "metadata": {},
   "outputs": [],
   "source": [
    "df_caba['price'] = df_caba['price'].loc[df_caba['price'] > 1]"
   ]
  },
  {
   "cell_type": "code",
   "execution_count": 82,
   "id": "499e8df9",
   "metadata": {},
   "outputs": [
    {
     "data": {
      "text/plain": [
       "count    128568.000000\n",
       "mean        196.472106\n",
       "std         155.340736\n",
       "min           5.000000\n",
       "25%          98.000000\n",
       "50%         145.000000\n",
       "75%         235.000000\n",
       "max         999.999000\n",
       "Name: price, dtype: float64"
      ]
     },
     "execution_count": 82,
     "metadata": {},
     "output_type": "execute_result"
    }
   ],
   "source": [
    "df_caba['price'].describe()"
   ]
  },
  {
   "cell_type": "code",
   "execution_count": 83,
   "id": "ffd8e372",
   "metadata": {},
   "outputs": [
    {
     "data": {
      "text/plain": [
       "<AxesSubplot:>"
      ]
     },
     "execution_count": 83,
     "metadata": {},
     "output_type": "execute_result"
    },
    {
     "data": {
      "image/png": "[encoded data removed]",
      "text/plain": [
       "<Figure size 432x288 with 1 Axes>"
      ]
     },
     "metadata": {
      "needs_background": "light"
     },
     "output_type": "display_data"
    }
   ],
   "source": [
    "df_caba['price'].plot()"
   ]
  },
  {
   "cell_type": "code",
   "execution_count": 86,
   "id": "97da1e20",
   "metadata": {},
   "outputs": [
    {
     "data": {
      "image/png": "[encoded data removed]",
      "text/plain": [
       "<Figure size 432x288 with 1 Axes>"
      ]
     },
     "metadata": {
      "needs_background": "light"
     },
     "output_type": "display_data"
    }
   ],
   "source": [
    "import math\n",
    "\n",
    "def map_price(x):\n",
    "    isNan = math.isnan(x)\n",
    "    x = 0 if isNan else int(x)\n",
    "    if x < 100:\n",
    "        return 0\n",
    "    if x < 200:\n",
    "        return 1\n",
    "    if x < 300:\n",
    "        return 2\n",
    "    if x < 400:\n",
    "        return 3\n",
    "    if x < 500:\n",
    "        return 4\n",
    "    if x < 600:\n",
    "        return 5\n",
    "    if x < 700:\n",
    "        return 6\n",
    "    if x < 800:\n",
    "        return 7\n",
    "    if x < 900:\n",
    "        return 8\n",
    "    return 9\n",
    "\n",
    "\n",
    "df_caba['target'] = df_caba['price'].map(map_price)\n",
    "df_caba.hist(column='target',color='#A0E8AF')\n",
    "df_caba.to_csv('cleaned_data_caba_SOM.csv', index=False)"
   ]
  },
  {
   "cell_type": "code",
   "execution_count": 87,
   "id": "d2a4c1ae",
   "metadata": {},
   "outputs": [
    {
     "data": {
      "image/png": "[encoded data removed]",
      "text/plain": [
       "<Figure size 1008x288 with 1 Axes>"
      ]
     },
     "metadata": {
      "needs_background": "light"
     },
     "output_type": "display_data"
    }
   ],
   "source": [
    "df_caba['target'].value_counts().head(15).plot(kind='bar',rot=60, figsize=(14,4), color='#A0E8AF' ,fontsize=12);\n",
    "plt.title('Cantidad de avisos por rango de precio', fontsize=20);\n",
    "plt.xlabel('Rango de precios', fontsize=16);\n",
    "plt.ylabel('Cantidad de avisos', fontsize=16);"
   ]
  },
  {
   "cell_type": "code",
   "execution_count": null,
   "id": "208ff537",
   "metadata": {},
   "outputs": [
    {
     "name": "stdout",
     "output_type": "stream",
     "text": [
      "\u001b[33mDEPRECATION: Configuring installation scheme with distutils config files is deprecated and will no longer work in the near future. If you are using a Homebrew or Linuxbrew Python, please see discussion at https://github.com/Homebrew/homebrew-core/issues/76621\u001b[0m\u001b[33m\n",
      "\u001b[0mCollecting seaborn\n",
      "  Using cached seaborn-0.11.2-py3-none-any.whl (292 kB)\n",
      "Collecting scipy>=1.0\n",
      "  Using cached scipy-1.9.0.tar.gz (42.0 MB)\n",
      "  Installing build dependencies ... \u001b[?25ldone\n"
     ]
    }
   ],
   "source": [
    "%pip install seaborn\n",
    "\n",
    "df_caba['rooms'] = df_caba['rooms'].loc[df_caba['rooms'] <=4]\n",
    "\n",
    "\n",
    "first_dimension = \"rooms\"\n",
    "horizontal_label = \"x label\"\n",
    "second_dimension = \"target\"\n",
    "\n",
    "sns.histplot(binwidth=1,\n",
    "            x=first_dimension,\n",
    "            hue=second_dimension,\n",
    "            data=df,\n",
    "            stat=\"count\",\n",
    "            multiple=\"dodge\")"
   ]
  },
  {
   "cell_type": "markdown",
   "id": "557df1a8",
   "metadata": {},
   "source": [
    "Se puede observar que la mayor cantidad de avisos son para los departamentos que tienen un precio menor a 200.000 Usd"
   ]
  },
  {
   "cell_type": "markdown",
   "id": "e451b565",
   "metadata": {},
   "source": [
    "### Discretización para gráfico som"
   ]
  },
  {
   "cell_type": "code",
   "execution_count": 40,
   "id": "d2f5962c",
   "metadata": {},
   "outputs": [
    {
     "data": {
      "text/html": [
       "<div>\n",
       "<style scoped>\n",
       "    .dataframe tbody tr th:only-of-type {\n",
       "        vertical-align: middle;\n",
       "    }\n",
       "\n",
       "    .dataframe tbody tr th {\n",
       "        vertical-align: top;\n",
       "    }\n",
       "\n",
       "    .dataframe thead th {\n",
       "        text-align: right;\n",
       "    }\n",
       "</style>\n",
       "<table border=\"1\" class=\"dataframe\">\n",
       "  <thead>\n",
       "    <tr style=\"text-align: right;\">\n",
       "      <th></th>\n",
       "      <th>created_on</th>\n",
       "      <th>l3</th>\n",
       "      <th>rooms</th>\n",
       "      <th>bedrooms</th>\n",
       "      <th>bathrooms</th>\n",
       "      <th>surface_total</th>\n",
       "      <th>surface_covered</th>\n",
       "      <th>price</th>\n",
       "      <th>year</th>\n",
       "      <th>month</th>\n",
       "      <th>price_usd_per_m2</th>\n",
       "      <th>COMUNA</th>\n",
       "      <th>target</th>\n",
       "    </tr>\n",
       "  </thead>\n",
       "  <tbody>\n",
       "    <tr>\n",
       "      <th>0</th>\n",
       "      <td>2020-08-22</td>\n",
       "      <td>Retiro</td>\n",
       "      <td>2.585114</td>\n",
       "      <td>1.825512</td>\n",
       "      <td>NaN</td>\n",
       "      <td>105.154784</td>\n",
       "      <td>25.0</td>\n",
       "      <td>85.0</td>\n",
       "      <td>2020</td>\n",
       "      <td>8</td>\n",
       "      <td>0.808332</td>\n",
       "      <td>COMUNA 1</td>\n",
       "      <td>0</td>\n",
       "    </tr>\n",
       "    <tr>\n",
       "      <th>1</th>\n",
       "      <td>2020-08-22</td>\n",
       "      <td>Almagro</td>\n",
       "      <td>1.000000</td>\n",
       "      <td>1.825512</td>\n",
       "      <td>1.0</td>\n",
       "      <td>38.000000</td>\n",
       "      <td>31.0</td>\n",
       "      <td>110.0</td>\n",
       "      <td>2020</td>\n",
       "      <td>8</td>\n",
       "      <td>2.894737</td>\n",
       "      <td>COMUNA 5</td>\n",
       "      <td>1</td>\n",
       "    </tr>\n",
       "    <tr>\n",
       "      <th>2</th>\n",
       "      <td>2020-08-22</td>\n",
       "      <td>Palermo</td>\n",
       "      <td>1.000000</td>\n",
       "      <td>1.825512</td>\n",
       "      <td>1.0</td>\n",
       "      <td>35.000000</td>\n",
       "      <td>30.0</td>\n",
       "      <td>105.0</td>\n",
       "      <td>2020</td>\n",
       "      <td>8</td>\n",
       "      <td>3.000000</td>\n",
       "      <td>COMUNA 14</td>\n",
       "      <td>1</td>\n",
       "    </tr>\n",
       "    <tr>\n",
       "      <th>3</th>\n",
       "      <td>2020-08-22</td>\n",
       "      <td>Palermo</td>\n",
       "      <td>2.000000</td>\n",
       "      <td>1.825512</td>\n",
       "      <td>1.0</td>\n",
       "      <td>51.000000</td>\n",
       "      <td>46.0</td>\n",
       "      <td>150.0</td>\n",
       "      <td>2020</td>\n",
       "      <td>8</td>\n",
       "      <td>2.941176</td>\n",
       "      <td>COMUNA 14</td>\n",
       "      <td>1</td>\n",
       "    </tr>\n",
       "    <tr>\n",
       "      <th>4</th>\n",
       "      <td>2020-08-22</td>\n",
       "      <td>Palermo</td>\n",
       "      <td>2.000000</td>\n",
       "      <td>1.825512</td>\n",
       "      <td>1.0</td>\n",
       "      <td>53.000000</td>\n",
       "      <td>53.0</td>\n",
       "      <td>136.5</td>\n",
       "      <td>2020</td>\n",
       "      <td>8</td>\n",
       "      <td>2.575472</td>\n",
       "      <td>COMUNA 14</td>\n",
       "      <td>1</td>\n",
       "    </tr>\n",
       "  </tbody>\n",
       "</table>\n",
       "</div>"
      ],
      "text/plain": [
       "   created_on       l3     rooms  bedrooms  bathrooms  surface_total  \\\n",
       "0  2020-08-22   Retiro  2.585114  1.825512        NaN     105.154784   \n",
       "1  2020-08-22  Almagro  1.000000  1.825512        1.0      38.000000   \n",
       "2  2020-08-22  Palermo  1.000000  1.825512        1.0      35.000000   \n",
       "3  2020-08-22  Palermo  2.000000  1.825512        1.0      51.000000   \n",
       "4  2020-08-22  Palermo  2.000000  1.825512        1.0      53.000000   \n",
       "\n",
       "   surface_covered  price  year  month  price_usd_per_m2     COMUNA  target  \n",
       "0             25.0   85.0  2020      8          0.808332   COMUNA 1       0  \n",
       "1             31.0  110.0  2020      8          2.894737   COMUNA 5       1  \n",
       "2             30.0  105.0  2020      8          3.000000  COMUNA 14       1  \n",
       "3             46.0  150.0  2020      8          2.941176  COMUNA 14       1  \n",
       "4             53.0  136.5  2020      8          2.575472  COMUNA 14       1  "
      ]
     },
     "execution_count": 40,
     "metadata": {},
     "output_type": "execute_result"
    }
   ],
   "source": [
    "\n",
    "df_tpfinal_som = pd.read_csv('cleaned_data_caba_SOM.csv')\n",
    "df_tpfinal_som.head()"
   ]
  },
  {
   "cell_type": "markdown",
   "id": "77bfebf8",
   "metadata": {},
   "source": [
    "discretizamos la comuna"
   ]
  },
  {
   "cell_type": "code",
   "execution_count": 41,
   "id": "b7bcdafd",
   "metadata": {},
   "outputs": [],
   "source": [
    "def discretizar_comuna(x):\n",
    "    if x == 'COMUNA 1':\n",
    "        return 1\n",
    "    elif x == 'COMUNA 2':\n",
    "        return 2\n",
    "    elif x == 'COMUNA 3':\n",
    "        return 3\n",
    "    elif x == 'COMUNA 4':\n",
    "        return 4\n",
    "    elif x == 'COMUNA 5':\n",
    "        return 5\n",
    "    elif x == 'COMUNA 6':\n",
    "        return 6\n",
    "    elif x == 'COMUNA 7':\n",
    "        return 7\n",
    "    elif x == 'COMUNA 8':\n",
    "        return 8\n",
    "    elif x == 'COMUNA 9':\n",
    "        return 9\n",
    "    elif x == 'COMUNA 10':\n",
    "        return 10\n",
    "    elif x == 'COMUNA 11':\n",
    "        return 11\n",
    "    elif x == 'COMUNA 12':\n",
    "        return 12\n",
    "    elif x == 'COMUNA 13':\n",
    "        return 13\n",
    "    elif x == 'COMUNA 14':\n",
    "        return 14\n",
    "    elif x == 'COMUNA 15':\n",
    "        return 15\n",
    "    "
   ]
  },
  {
   "cell_type": "code",
   "execution_count": 42,
   "id": "cb047951",
   "metadata": {},
   "outputs": [
    {
     "data": {
      "text/html": [
       "<div>\n",
       "<style scoped>\n",
       "    .dataframe tbody tr th:only-of-type {\n",
       "        vertical-align: middle;\n",
       "    }\n",
       "\n",
       "    .dataframe tbody tr th {\n",
       "        vertical-align: top;\n",
       "    }\n",
       "\n",
       "    .dataframe thead th {\n",
       "        text-align: right;\n",
       "    }\n",
       "</style>\n",
       "<table border=\"1\" class=\"dataframe\">\n",
       "  <thead>\n",
       "    <tr style=\"text-align: right;\">\n",
       "      <th></th>\n",
       "      <th>created_on</th>\n",
       "      <th>l3</th>\n",
       "      <th>rooms</th>\n",
       "      <th>bedrooms</th>\n",
       "      <th>bathrooms</th>\n",
       "      <th>surface_total</th>\n",
       "      <th>surface_covered</th>\n",
       "      <th>price</th>\n",
       "      <th>year</th>\n",
       "      <th>month</th>\n",
       "      <th>price_usd_per_m2</th>\n",
       "      <th>COMUNA</th>\n",
       "      <th>target</th>\n",
       "    </tr>\n",
       "  </thead>\n",
       "  <tbody>\n",
       "    <tr>\n",
       "      <th>0</th>\n",
       "      <td>2020-08-22</td>\n",
       "      <td>Retiro</td>\n",
       "      <td>2.585114</td>\n",
       "      <td>1.825512</td>\n",
       "      <td>NaN</td>\n",
       "      <td>105.154784</td>\n",
       "      <td>25.0</td>\n",
       "      <td>85.0</td>\n",
       "      <td>2020</td>\n",
       "      <td>8</td>\n",
       "      <td>0.808332</td>\n",
       "      <td>1.0</td>\n",
       "      <td>0</td>\n",
       "    </tr>\n",
       "    <tr>\n",
       "      <th>1</th>\n",
       "      <td>2020-08-22</td>\n",
       "      <td>Almagro</td>\n",
       "      <td>1.000000</td>\n",
       "      <td>1.825512</td>\n",
       "      <td>1.0</td>\n",
       "      <td>38.000000</td>\n",
       "      <td>31.0</td>\n",
       "      <td>110.0</td>\n",
       "      <td>2020</td>\n",
       "      <td>8</td>\n",
       "      <td>2.894737</td>\n",
       "      <td>5.0</td>\n",
       "      <td>1</td>\n",
       "    </tr>\n",
       "    <tr>\n",
       "      <th>2</th>\n",
       "      <td>2020-08-22</td>\n",
       "      <td>Palermo</td>\n",
       "      <td>1.000000</td>\n",
       "      <td>1.825512</td>\n",
       "      <td>1.0</td>\n",
       "      <td>35.000000</td>\n",
       "      <td>30.0</td>\n",
       "      <td>105.0</td>\n",
       "      <td>2020</td>\n",
       "      <td>8</td>\n",
       "      <td>3.000000</td>\n",
       "      <td>14.0</td>\n",
       "      <td>1</td>\n",
       "    </tr>\n",
       "    <tr>\n",
       "      <th>3</th>\n",
       "      <td>2020-08-22</td>\n",
       "      <td>Palermo</td>\n",
       "      <td>2.000000</td>\n",
       "      <td>1.825512</td>\n",
       "      <td>1.0</td>\n",
       "      <td>51.000000</td>\n",
       "      <td>46.0</td>\n",
       "      <td>150.0</td>\n",
       "      <td>2020</td>\n",
       "      <td>8</td>\n",
       "      <td>2.941176</td>\n",
       "      <td>14.0</td>\n",
       "      <td>1</td>\n",
       "    </tr>\n",
       "    <tr>\n",
       "      <th>4</th>\n",
       "      <td>2020-08-22</td>\n",
       "      <td>Palermo</td>\n",
       "      <td>2.000000</td>\n",
       "      <td>1.825512</td>\n",
       "      <td>1.0</td>\n",
       "      <td>53.000000</td>\n",
       "      <td>53.0</td>\n",
       "      <td>136.5</td>\n",
       "      <td>2020</td>\n",
       "      <td>8</td>\n",
       "      <td>2.575472</td>\n",
       "      <td>14.0</td>\n",
       "      <td>1</td>\n",
       "    </tr>\n",
       "  </tbody>\n",
       "</table>\n",
       "</div>"
      ],
      "text/plain": [
       "   created_on       l3     rooms  bedrooms  bathrooms  surface_total  \\\n",
       "0  2020-08-22   Retiro  2.585114  1.825512        NaN     105.154784   \n",
       "1  2020-08-22  Almagro  1.000000  1.825512        1.0      38.000000   \n",
       "2  2020-08-22  Palermo  1.000000  1.825512        1.0      35.000000   \n",
       "3  2020-08-22  Palermo  2.000000  1.825512        1.0      51.000000   \n",
       "4  2020-08-22  Palermo  2.000000  1.825512        1.0      53.000000   \n",
       "\n",
       "   surface_covered  price  year  month  price_usd_per_m2  COMUNA  target  \n",
       "0             25.0   85.0  2020      8          0.808332     1.0       0  \n",
       "1             31.0  110.0  2020      8          2.894737     5.0       1  \n",
       "2             30.0  105.0  2020      8          3.000000    14.0       1  \n",
       "3             46.0  150.0  2020      8          2.941176    14.0       1  \n",
       "4             53.0  136.5  2020      8          2.575472    14.0       1  "
      ]
     },
     "execution_count": 42,
     "metadata": {},
     "output_type": "execute_result"
    }
   ],
   "source": [
    "df_tpfinal_som['COMUNA'] = df_tpfinal_som['COMUNA'].apply(discretizar_comuna)\n",
    "df_tpfinal_som.head()"
   ]
  },
  {
   "cell_type": "markdown",
   "id": "acbeab2e",
   "metadata": {},
   "source": [
    "Discretizamos rooms"
   ]
  },
  {
   "cell_type": "code",
   "execution_count": 43,
   "id": "69164ee4",
   "metadata": {},
   "outputs": [
    {
     "data": {
      "text/plain": [
       "<AxesSubplot:>"
      ]
     },
     "execution_count": 43,
     "metadata": {},
     "output_type": "execute_result"
    },
    {
     "data": {
      "image/png": "[encoded data removed]",
      "text/plain": [
       "<Figure size 432x288 with 1 Axes>"
      ]
     },
     "metadata": {
      "needs_background": "light"
     },
     "output_type": "display_data"
    }
   ],
   "source": [
    "df_tpfinal_som['rooms'].plot()"
   ]
  },
  {
   "cell_type": "code",
   "execution_count": 44,
   "id": "ea6d0432",
   "metadata": {},
   "outputs": [],
   "source": [
    "def map_rooms(x):\n",
    "    isNan = math.isnan(x)\n",
    "    x = 0 if isNan else int(x)\n",
    "    if x < 2:\n",
    "        return 0\n",
    "    if x < 4:\n",
    "        return 1\n",
    "    if x < 6:\n",
    "        return 2\n",
    "    if x < 8:\n",
    "        return 3\n",
    "    if x < 10:\n",
    "        return 4\n",
    "    if x < 12:\n",
    "        return 5\n",
    "    if x < 14:\n",
    "        return 6\n",
    "    if x < 16:\n",
    "        return 7\n",
    "    if x < 18:\n",
    "        return 8\n",
    "    return 9"
   ]
  },
  {
   "cell_type": "code",
   "execution_count": 45,
   "id": "762eafd5",
   "metadata": {},
   "outputs": [
    {
     "data": {
      "text/html": [
       "<div>\n",
       "<style scoped>\n",
       "    .dataframe tbody tr th:only-of-type {\n",
       "        vertical-align: middle;\n",
       "    }\n",
       "\n",
       "    .dataframe tbody tr th {\n",
       "        vertical-align: top;\n",
       "    }\n",
       "\n",
       "    .dataframe thead th {\n",
       "        text-align: right;\n",
       "    }\n",
       "</style>\n",
       "<table border=\"1\" class=\"dataframe\">\n",
       "  <thead>\n",
       "    <tr style=\"text-align: right;\">\n",
       "      <th></th>\n",
       "      <th>created_on</th>\n",
       "      <th>l3</th>\n",
       "      <th>rooms</th>\n",
       "      <th>bedrooms</th>\n",
       "      <th>bathrooms</th>\n",
       "      <th>surface_total</th>\n",
       "      <th>surface_covered</th>\n",
       "      <th>price</th>\n",
       "      <th>year</th>\n",
       "      <th>month</th>\n",
       "      <th>price_usd_per_m2</th>\n",
       "      <th>COMUNA</th>\n",
       "      <th>target</th>\n",
       "    </tr>\n",
       "  </thead>\n",
       "  <tbody>\n",
       "    <tr>\n",
       "      <th>0</th>\n",
       "      <td>2020-08-22</td>\n",
       "      <td>Retiro</td>\n",
       "      <td>1</td>\n",
       "      <td>1.825512</td>\n",
       "      <td>NaN</td>\n",
       "      <td>105.154784</td>\n",
       "      <td>25.0</td>\n",
       "      <td>85.0</td>\n",
       "      <td>2020</td>\n",
       "      <td>8</td>\n",
       "      <td>0.808332</td>\n",
       "      <td>1.0</td>\n",
       "      <td>0</td>\n",
       "    </tr>\n",
       "    <tr>\n",
       "      <th>1</th>\n",
       "      <td>2020-08-22</td>\n",
       "      <td>Almagro</td>\n",
       "      <td>0</td>\n",
       "      <td>1.825512</td>\n",
       "      <td>1.0</td>\n",
       "      <td>38.000000</td>\n",
       "      <td>31.0</td>\n",
       "      <td>110.0</td>\n",
       "      <td>2020</td>\n",
       "      <td>8</td>\n",
       "      <td>2.894737</td>\n",
       "      <td>5.0</td>\n",
       "      <td>1</td>\n",
       "    </tr>\n",
       "    <tr>\n",
       "      <th>2</th>\n",
       "      <td>2020-08-22</td>\n",
       "      <td>Palermo</td>\n",
       "      <td>0</td>\n",
       "      <td>1.825512</td>\n",
       "      <td>1.0</td>\n",
       "      <td>35.000000</td>\n",
       "      <td>30.0</td>\n",
       "      <td>105.0</td>\n",
       "      <td>2020</td>\n",
       "      <td>8</td>\n",
       "      <td>3.000000</td>\n",
       "      <td>14.0</td>\n",
       "      <td>1</td>\n",
       "    </tr>\n",
       "    <tr>\n",
       "      <th>3</th>\n",
       "      <td>2020-08-22</td>\n",
       "      <td>Palermo</td>\n",
       "      <td>1</td>\n",
       "      <td>1.825512</td>\n",
       "      <td>1.0</td>\n",
       "      <td>51.000000</td>\n",
       "      <td>46.0</td>\n",
       "      <td>150.0</td>\n",
       "      <td>2020</td>\n",
       "      <td>8</td>\n",
       "      <td>2.941176</td>\n",
       "      <td>14.0</td>\n",
       "      <td>1</td>\n",
       "    </tr>\n",
       "    <tr>\n",
       "      <th>4</th>\n",
       "      <td>2020-08-22</td>\n",
       "      <td>Palermo</td>\n",
       "      <td>1</td>\n",
       "      <td>1.825512</td>\n",
       "      <td>1.0</td>\n",
       "      <td>53.000000</td>\n",
       "      <td>53.0</td>\n",
       "      <td>136.5</td>\n",
       "      <td>2020</td>\n",
       "      <td>8</td>\n",
       "      <td>2.575472</td>\n",
       "      <td>14.0</td>\n",
       "      <td>1</td>\n",
       "    </tr>\n",
       "  </tbody>\n",
       "</table>\n",
       "</div>"
      ],
      "text/plain": [
       "   created_on       l3  rooms  bedrooms  bathrooms  surface_total  \\\n",
       "0  2020-08-22   Retiro      1  1.825512        NaN     105.154784   \n",
       "1  2020-08-22  Almagro      0  1.825512        1.0      38.000000   \n",
       "2  2020-08-22  Palermo      0  1.825512        1.0      35.000000   \n",
       "3  2020-08-22  Palermo      1  1.825512        1.0      51.000000   \n",
       "4  2020-08-22  Palermo      1  1.825512        1.0      53.000000   \n",
       "\n",
       "   surface_covered  price  year  month  price_usd_per_m2  COMUNA  target  \n",
       "0             25.0   85.0  2020      8          0.808332     1.0       0  \n",
       "1             31.0  110.0  2020      8          2.894737     5.0       1  \n",
       "2             30.0  105.0  2020      8          3.000000    14.0       1  \n",
       "3             46.0  150.0  2020      8          2.941176    14.0       1  \n",
       "4             53.0  136.5  2020      8          2.575472    14.0       1  "
      ]
     },
     "execution_count": 45,
     "metadata": {},
     "output_type": "execute_result"
    }
   ],
   "source": [
    "df_tpfinal_som['rooms'] = df_tpfinal_som['rooms'].apply(map_rooms)\n",
    "df_tpfinal_som.head()"
   ]
  },
  {
   "cell_type": "markdown",
   "id": "5022e4e7",
   "metadata": {},
   "source": [
    "discretizamos bedrooms"
   ]
  },
  {
   "cell_type": "code",
   "execution_count": 46,
   "id": "f3f37a60",
   "metadata": {},
   "outputs": [
    {
     "data": {
      "text/plain": [
       "<AxesSubplot:>"
      ]
     },
     "execution_count": 46,
     "metadata": {},
     "output_type": "execute_result"
    },
    {
     "data": {
      "image/png": "[encoded data removed]",
      "text/plain": [
       "<Figure size 432x288 with 1 Axes>"
      ]
     },
     "metadata": {
      "needs_background": "light"
     },
     "output_type": "display_data"
    }
   ],
   "source": [
    "df_tpfinal_som['bathrooms'].plot()"
   ]
  },
  {
   "cell_type": "code",
   "execution_count": 47,
   "id": "044a57e1",
   "metadata": {},
   "outputs": [],
   "source": [
    "def map_bathrooms(x):\n",
    "    isNan = math.isnan(x)\n",
    "    x = 0 if isNan else int(x)\n",
    "    if x < 1:\n",
    "        return 0\n",
    "    if x < 2:\n",
    "        return 1\n",
    "    if x < 3:\n",
    "        return 2\n",
    "    if x < 4:\n",
    "        return 3\n",
    "    if x < 5:\n",
    "        return 4\n",
    "    if x < 6:\n",
    "        return 5\n",
    "    if x < 7:\n",
    "        return 6\n",
    "    if x < 8:\n",
    "        return 7\n",
    "    if x < 9:\n",
    "        return 8\n",
    "    return 9"
   ]
  },
  {
   "cell_type": "code",
   "execution_count": 48,
   "id": "b70db5d9",
   "metadata": {},
   "outputs": [
    {
     "data": {
      "text/html": [
       "<div>\n",
       "<style scoped>\n",
       "    .dataframe tbody tr th:only-of-type {\n",
       "        vertical-align: middle;\n",
       "    }\n",
       "\n",
       "    .dataframe tbody tr th {\n",
       "        vertical-align: top;\n",
       "    }\n",
       "\n",
       "    .dataframe thead th {\n",
       "        text-align: right;\n",
       "    }\n",
       "</style>\n",
       "<table border=\"1\" class=\"dataframe\">\n",
       "  <thead>\n",
       "    <tr style=\"text-align: right;\">\n",
       "      <th></th>\n",
       "      <th>created_on</th>\n",
       "      <th>l3</th>\n",
       "      <th>rooms</th>\n",
       "      <th>bedrooms</th>\n",
       "      <th>bathrooms</th>\n",
       "      <th>surface_total</th>\n",
       "      <th>surface_covered</th>\n",
       "      <th>price</th>\n",
       "      <th>year</th>\n",
       "      <th>month</th>\n",
       "      <th>price_usd_per_m2</th>\n",
       "      <th>COMUNA</th>\n",
       "      <th>target</th>\n",
       "    </tr>\n",
       "  </thead>\n",
       "  <tbody>\n",
       "    <tr>\n",
       "      <th>0</th>\n",
       "      <td>2020-08-22</td>\n",
       "      <td>Retiro</td>\n",
       "      <td>1</td>\n",
       "      <td>1.825512</td>\n",
       "      <td>0</td>\n",
       "      <td>105.154784</td>\n",
       "      <td>25.0</td>\n",
       "      <td>85.0</td>\n",
       "      <td>2020</td>\n",
       "      <td>8</td>\n",
       "      <td>0.808332</td>\n",
       "      <td>1.0</td>\n",
       "      <td>0</td>\n",
       "    </tr>\n",
       "    <tr>\n",
       "      <th>1</th>\n",
       "      <td>2020-08-22</td>\n",
       "      <td>Almagro</td>\n",
       "      <td>0</td>\n",
       "      <td>1.825512</td>\n",
       "      <td>1</td>\n",
       "      <td>38.000000</td>\n",
       "      <td>31.0</td>\n",
       "      <td>110.0</td>\n",
       "      <td>2020</td>\n",
       "      <td>8</td>\n",
       "      <td>2.894737</td>\n",
       "      <td>5.0</td>\n",
       "      <td>1</td>\n",
       "    </tr>\n",
       "    <tr>\n",
       "      <th>2</th>\n",
       "      <td>2020-08-22</td>\n",
       "      <td>Palermo</td>\n",
       "      <td>0</td>\n",
       "      <td>1.825512</td>\n",
       "      <td>1</td>\n",
       "      <td>35.000000</td>\n",
       "      <td>30.0</td>\n",
       "      <td>105.0</td>\n",
       "      <td>2020</td>\n",
       "      <td>8</td>\n",
       "      <td>3.000000</td>\n",
       "      <td>14.0</td>\n",
       "      <td>1</td>\n",
       "    </tr>\n",
       "    <tr>\n",
       "      <th>3</th>\n",
       "      <td>2020-08-22</td>\n",
       "      <td>Palermo</td>\n",
       "      <td>1</td>\n",
       "      <td>1.825512</td>\n",
       "      <td>1</td>\n",
       "      <td>51.000000</td>\n",
       "      <td>46.0</td>\n",
       "      <td>150.0</td>\n",
       "      <td>2020</td>\n",
       "      <td>8</td>\n",
       "      <td>2.941176</td>\n",
       "      <td>14.0</td>\n",
       "      <td>1</td>\n",
       "    </tr>\n",
       "    <tr>\n",
       "      <th>4</th>\n",
       "      <td>2020-08-22</td>\n",
       "      <td>Palermo</td>\n",
       "      <td>1</td>\n",
       "      <td>1.825512</td>\n",
       "      <td>1</td>\n",
       "      <td>53.000000</td>\n",
       "      <td>53.0</td>\n",
       "      <td>136.5</td>\n",
       "      <td>2020</td>\n",
       "      <td>8</td>\n",
       "      <td>2.575472</td>\n",
       "      <td>14.0</td>\n",
       "      <td>1</td>\n",
       "    </tr>\n",
       "  </tbody>\n",
       "</table>\n",
       "</div>"
      ],
      "text/plain": [
       "   created_on       l3  rooms  bedrooms  bathrooms  surface_total  \\\n",
       "0  2020-08-22   Retiro      1  1.825512          0     105.154784   \n",
       "1  2020-08-22  Almagro      0  1.825512          1      38.000000   \n",
       "2  2020-08-22  Palermo      0  1.825512          1      35.000000   \n",
       "3  2020-08-22  Palermo      1  1.825512          1      51.000000   \n",
       "4  2020-08-22  Palermo      1  1.825512          1      53.000000   \n",
       "\n",
       "   surface_covered  price  year  month  price_usd_per_m2  COMUNA  target  \n",
       "0             25.0   85.0  2020      8          0.808332     1.0       0  \n",
       "1             31.0  110.0  2020      8          2.894737     5.0       1  \n",
       "2             30.0  105.0  2020      8          3.000000    14.0       1  \n",
       "3             46.0  150.0  2020      8          2.941176    14.0       1  \n",
       "4             53.0  136.5  2020      8          2.575472    14.0       1  "
      ]
     },
     "execution_count": 48,
     "metadata": {},
     "output_type": "execute_result"
    }
   ],
   "source": [
    "df_tpfinal_som['bathrooms'] = df_tpfinal_som['bathrooms'].apply(map_bathrooms)\n",
    "df_tpfinal_som.head()"
   ]
  },
  {
   "cell_type": "markdown",
   "id": "5ee7d8b5",
   "metadata": {},
   "source": [
    "Discretizamos bedrooms"
   ]
  },
  {
   "cell_type": "code",
   "execution_count": 49,
   "id": "e4161f68",
   "metadata": {},
   "outputs": [
    {
     "data": {
      "text/plain": [
       "<AxesSubplot:>"
      ]
     },
     "execution_count": 49,
     "metadata": {},
     "output_type": "execute_result"
    },
    {
     "data": {
      "image/png": "[encoded data removed]",
      "text/plain": [
       "<Figure size 432x288 with 1 Axes>"
      ]
     },
     "metadata": {
      "needs_background": "light"
     },
     "output_type": "display_data"
    }
   ],
   "source": [
    "df_tpfinal_som['bedrooms'].plot()"
   ]
  },
  {
   "cell_type": "code",
   "execution_count": 50,
   "id": "a9c940a8",
   "metadata": {},
   "outputs": [
    {
     "data": {
      "text/plain": [
       "<AxesSubplot:>"
      ]
     },
     "execution_count": 50,
     "metadata": {},
     "output_type": "execute_result"
    },
    {
     "data": {
      "image/png": "[encoded data removed]",
      "text/plain": [
       "<Figure size 432x288 with 1 Axes>"
      ]
     },
     "metadata": {
      "needs_background": "light"
     },
     "output_type": "display_data"
    }
   ],
   "source": [
    "df_tpfinal_som['bedrooms'] = df_tpfinal_som['bedrooms'].loc[df_tpfinal_som['bedrooms'] < 20]\n",
    "df_tpfinal_som['bedrooms'].plot()"
   ]
  },
  {
   "cell_type": "code",
   "execution_count": 51,
   "id": "07114753",
   "metadata": {},
   "outputs": [],
   "source": [
    "def map_bedrooms(x):\n",
    "    isNan = math.isnan(x)\n",
    "    x = 0 if isNan else int(x)\n",
    "    if x < 2:\n",
    "        return 0\n",
    "    if x < 4:\n",
    "        return 1\n",
    "    if x < 6:\n",
    "        return 2\n",
    "    if x < 8:\n",
    "        return 3\n",
    "    if x < 10:\n",
    "        return 4\n",
    "    if x < 12:\n",
    "        return 5\n",
    "    if x < 14:\n",
    "        return 6\n",
    "    if x < 16:\n",
    "        return 7\n",
    "    if x < 18:\n",
    "        return 8\n",
    "    return 9"
   ]
  },
  {
   "cell_type": "code",
   "execution_count": 52,
   "id": "10dfba74",
   "metadata": {},
   "outputs": [
    {
     "data": {
      "text/html": [
       "<div>\n",
       "<style scoped>\n",
       "    .dataframe tbody tr th:only-of-type {\n",
       "        vertical-align: middle;\n",
       "    }\n",
       "\n",
       "    .dataframe tbody tr th {\n",
       "        vertical-align: top;\n",
       "    }\n",
       "\n",
       "    .dataframe thead th {\n",
       "        text-align: right;\n",
       "    }\n",
       "</style>\n",
       "<table border=\"1\" class=\"dataframe\">\n",
       "  <thead>\n",
       "    <tr style=\"text-align: right;\">\n",
       "      <th></th>\n",
       "      <th>created_on</th>\n",
       "      <th>l3</th>\n",
       "      <th>rooms</th>\n",
       "      <th>bedrooms</th>\n",
       "      <th>bathrooms</th>\n",
       "      <th>surface_total</th>\n",
       "      <th>surface_covered</th>\n",
       "      <th>price</th>\n",
       "      <th>year</th>\n",
       "      <th>month</th>\n",
       "      <th>price_usd_per_m2</th>\n",
       "      <th>COMUNA</th>\n",
       "      <th>target</th>\n",
       "    </tr>\n",
       "  </thead>\n",
       "  <tbody>\n",
       "    <tr>\n",
       "      <th>0</th>\n",
       "      <td>2020-08-22</td>\n",
       "      <td>Retiro</td>\n",
       "      <td>1</td>\n",
       "      <td>0</td>\n",
       "      <td>0</td>\n",
       "      <td>105.154784</td>\n",
       "      <td>25.0</td>\n",
       "      <td>85.0</td>\n",
       "      <td>2020</td>\n",
       "      <td>8</td>\n",
       "      <td>0.808332</td>\n",
       "      <td>1.0</td>\n",
       "      <td>0</td>\n",
       "    </tr>\n",
       "    <tr>\n",
       "      <th>1</th>\n",
       "      <td>2020-08-22</td>\n",
       "      <td>Almagro</td>\n",
       "      <td>0</td>\n",
       "      <td>0</td>\n",
       "      <td>1</td>\n",
       "      <td>38.000000</td>\n",
       "      <td>31.0</td>\n",
       "      <td>110.0</td>\n",
       "      <td>2020</td>\n",
       "      <td>8</td>\n",
       "      <td>2.894737</td>\n",
       "      <td>5.0</td>\n",
       "      <td>1</td>\n",
       "    </tr>\n",
       "    <tr>\n",
       "      <th>2</th>\n",
       "      <td>2020-08-22</td>\n",
       "      <td>Palermo</td>\n",
       "      <td>0</td>\n",
       "      <td>0</td>\n",
       "      <td>1</td>\n",
       "      <td>35.000000</td>\n",
       "      <td>30.0</td>\n",
       "      <td>105.0</td>\n",
       "      <td>2020</td>\n",
       "      <td>8</td>\n",
       "      <td>3.000000</td>\n",
       "      <td>14.0</td>\n",
       "      <td>1</td>\n",
       "    </tr>\n",
       "    <tr>\n",
       "      <th>3</th>\n",
       "      <td>2020-08-22</td>\n",
       "      <td>Palermo</td>\n",
       "      <td>1</td>\n",
       "      <td>0</td>\n",
       "      <td>1</td>\n",
       "      <td>51.000000</td>\n",
       "      <td>46.0</td>\n",
       "      <td>150.0</td>\n",
       "      <td>2020</td>\n",
       "      <td>8</td>\n",
       "      <td>2.941176</td>\n",
       "      <td>14.0</td>\n",
       "      <td>1</td>\n",
       "    </tr>\n",
       "    <tr>\n",
       "      <th>4</th>\n",
       "      <td>2020-08-22</td>\n",
       "      <td>Palermo</td>\n",
       "      <td>1</td>\n",
       "      <td>0</td>\n",
       "      <td>1</td>\n",
       "      <td>53.000000</td>\n",
       "      <td>53.0</td>\n",
       "      <td>136.5</td>\n",
       "      <td>2020</td>\n",
       "      <td>8</td>\n",
       "      <td>2.575472</td>\n",
       "      <td>14.0</td>\n",
       "      <td>1</td>\n",
       "    </tr>\n",
       "  </tbody>\n",
       "</table>\n",
       "</div>"
      ],
      "text/plain": [
       "   created_on       l3  rooms  bedrooms  bathrooms  surface_total  \\\n",
       "0  2020-08-22   Retiro      1         0          0     105.154784   \n",
       "1  2020-08-22  Almagro      0         0          1      38.000000   \n",
       "2  2020-08-22  Palermo      0         0          1      35.000000   \n",
       "3  2020-08-22  Palermo      1         0          1      51.000000   \n",
       "4  2020-08-22  Palermo      1         0          1      53.000000   \n",
       "\n",
       "   surface_covered  price  year  month  price_usd_per_m2  COMUNA  target  \n",
       "0             25.0   85.0  2020      8          0.808332     1.0       0  \n",
       "1             31.0  110.0  2020      8          2.894737     5.0       1  \n",
       "2             30.0  105.0  2020      8          3.000000    14.0       1  \n",
       "3             46.0  150.0  2020      8          2.941176    14.0       1  \n",
       "4             53.0  136.5  2020      8          2.575472    14.0       1  "
      ]
     },
     "execution_count": 52,
     "metadata": {},
     "output_type": "execute_result"
    }
   ],
   "source": [
    "df_tpfinal_som['bedrooms'] = df_tpfinal_som['bedrooms'].apply(map_bedrooms)\n",
    "df_tpfinal_som.head()"
   ]
  },
  {
   "cell_type": "markdown",
   "id": "0c817740",
   "metadata": {},
   "source": [
    "Discretizamos surface_total"
   ]
  },
  {
   "cell_type": "code",
   "execution_count": 53,
   "id": "e17a7226",
   "metadata": {},
   "outputs": [
    {
     "data": {
      "text/plain": [
       "<AxesSubplot:>"
      ]
     },
     "execution_count": 53,
     "metadata": {},
     "output_type": "execute_result"
    },
    {
     "data": {
      "image/png": "[encoded data removed]",
      "text/plain": [
       "<Figure size 432x288 with 1 Axes>"
      ]
     },
     "metadata": {
      "needs_background": "light"
     },
     "output_type": "display_data"
    }
   ],
   "source": [
    "df_tpfinal_som['surface_total'].plot()"
   ]
  },
  {
   "cell_type": "code",
   "execution_count": 54,
   "id": "3e8cef4a",
   "metadata": {},
   "outputs": [],
   "source": [
    "def map_surface_total(x):\n",
    "    isNan = math.isnan(x)\n",
    "    x = 0 if isNan else int(x)\n",
    "    if x < 100:\n",
    "        return 0\n",
    "    if x < 200:\n",
    "        return 1\n",
    "    if x < 300:\n",
    "        return 2\n",
    "    if x < 400:\n",
    "        return 3\n",
    "    if x < 500:\n",
    "        return 4\n",
    "    if x < 600:\n",
    "        return 5\n",
    "    if x < 700:\n",
    "        return 6\n",
    "    if x < 800:\n",
    "        return 7\n",
    "    if x < 900:\n",
    "        return 8\n",
    "    return 9"
   ]
  },
  {
   "cell_type": "code",
   "execution_count": 55,
   "id": "1513242a",
   "metadata": {},
   "outputs": [
    {
     "data": {
      "text/html": [
       "<div>\n",
       "<style scoped>\n",
       "    .dataframe tbody tr th:only-of-type {\n",
       "        vertical-align: middle;\n",
       "    }\n",
       "\n",
       "    .dataframe tbody tr th {\n",
       "        vertical-align: top;\n",
       "    }\n",
       "\n",
       "    .dataframe thead th {\n",
       "        text-align: right;\n",
       "    }\n",
       "</style>\n",
       "<table border=\"1\" class=\"dataframe\">\n",
       "  <thead>\n",
       "    <tr style=\"text-align: right;\">\n",
       "      <th></th>\n",
       "      <th>created_on</th>\n",
       "      <th>l3</th>\n",
       "      <th>rooms</th>\n",
       "      <th>bedrooms</th>\n",
       "      <th>bathrooms</th>\n",
       "      <th>surface_total</th>\n",
       "      <th>surface_covered</th>\n",
       "      <th>price</th>\n",
       "      <th>year</th>\n",
       "      <th>month</th>\n",
       "      <th>price_usd_per_m2</th>\n",
       "      <th>COMUNA</th>\n",
       "      <th>target</th>\n",
       "    </tr>\n",
       "  </thead>\n",
       "  <tbody>\n",
       "    <tr>\n",
       "      <th>0</th>\n",
       "      <td>2020-08-22</td>\n",
       "      <td>Retiro</td>\n",
       "      <td>1</td>\n",
       "      <td>0</td>\n",
       "      <td>0</td>\n",
       "      <td>1</td>\n",
       "      <td>25.0</td>\n",
       "      <td>85.0</td>\n",
       "      <td>2020</td>\n",
       "      <td>8</td>\n",
       "      <td>0.808332</td>\n",
       "      <td>1.0</td>\n",
       "      <td>0</td>\n",
       "    </tr>\n",
       "    <tr>\n",
       "      <th>1</th>\n",
       "      <td>2020-08-22</td>\n",
       "      <td>Almagro</td>\n",
       "      <td>0</td>\n",
       "      <td>0</td>\n",
       "      <td>1</td>\n",
       "      <td>0</td>\n",
       "      <td>31.0</td>\n",
       "      <td>110.0</td>\n",
       "      <td>2020</td>\n",
       "      <td>8</td>\n",
       "      <td>2.894737</td>\n",
       "      <td>5.0</td>\n",
       "      <td>1</td>\n",
       "    </tr>\n",
       "    <tr>\n",
       "      <th>2</th>\n",
       "      <td>2020-08-22</td>\n",
       "      <td>Palermo</td>\n",
       "      <td>0</td>\n",
       "      <td>0</td>\n",
       "      <td>1</td>\n",
       "      <td>0</td>\n",
       "      <td>30.0</td>\n",
       "      <td>105.0</td>\n",
       "      <td>2020</td>\n",
       "      <td>8</td>\n",
       "      <td>3.000000</td>\n",
       "      <td>14.0</td>\n",
       "      <td>1</td>\n",
       "    </tr>\n",
       "    <tr>\n",
       "      <th>3</th>\n",
       "      <td>2020-08-22</td>\n",
       "      <td>Palermo</td>\n",
       "      <td>1</td>\n",
       "      <td>0</td>\n",
       "      <td>1</td>\n",
       "      <td>0</td>\n",
       "      <td>46.0</td>\n",
       "      <td>150.0</td>\n",
       "      <td>2020</td>\n",
       "      <td>8</td>\n",
       "      <td>2.941176</td>\n",
       "      <td>14.0</td>\n",
       "      <td>1</td>\n",
       "    </tr>\n",
       "    <tr>\n",
       "      <th>4</th>\n",
       "      <td>2020-08-22</td>\n",
       "      <td>Palermo</td>\n",
       "      <td>1</td>\n",
       "      <td>0</td>\n",
       "      <td>1</td>\n",
       "      <td>0</td>\n",
       "      <td>53.0</td>\n",
       "      <td>136.5</td>\n",
       "      <td>2020</td>\n",
       "      <td>8</td>\n",
       "      <td>2.575472</td>\n",
       "      <td>14.0</td>\n",
       "      <td>1</td>\n",
       "    </tr>\n",
       "  </tbody>\n",
       "</table>\n",
       "</div>"
      ],
      "text/plain": [
       "   created_on       l3  rooms  bedrooms  bathrooms  surface_total  \\\n",
       "0  2020-08-22   Retiro      1         0          0              1   \n",
       "1  2020-08-22  Almagro      0         0          1              0   \n",
       "2  2020-08-22  Palermo      0         0          1              0   \n",
       "3  2020-08-22  Palermo      1         0          1              0   \n",
       "4  2020-08-22  Palermo      1         0          1              0   \n",
       "\n",
       "   surface_covered  price  year  month  price_usd_per_m2  COMUNA  target  \n",
       "0             25.0   85.0  2020      8          0.808332     1.0       0  \n",
       "1             31.0  110.0  2020      8          2.894737     5.0       1  \n",
       "2             30.0  105.0  2020      8          3.000000    14.0       1  \n",
       "3             46.0  150.0  2020      8          2.941176    14.0       1  \n",
       "4             53.0  136.5  2020      8          2.575472    14.0       1  "
      ]
     },
     "execution_count": 55,
     "metadata": {},
     "output_type": "execute_result"
    }
   ],
   "source": [
    "df_tpfinal_som['surface_total'] = df_tpfinal_som['surface_total'].apply(map_surface_total)\n",
    "df_tpfinal_som.head()"
   ]
  },
  {
   "cell_type": "markdown",
   "id": "76c09a9e",
   "metadata": {},
   "source": [
    "Discretizamos surface_covered"
   ]
  },
  {
   "cell_type": "code",
   "execution_count": 56,
   "id": "a195ad51",
   "metadata": {},
   "outputs": [
    {
     "data": {
      "text/plain": [
       "<AxesSubplot:>"
      ]
     },
     "execution_count": 56,
     "metadata": {},
     "output_type": "execute_result"
    },
    {
     "data": {
      "image/png": "[encoded data removed]",
      "text/plain": [
       "<Figure size 432x288 with 1 Axes>"
      ]
     },
     "metadata": {
      "needs_background": "light"
     },
     "output_type": "display_data"
    }
   ],
   "source": [
    "df_tpfinal_som['surface_covered'].plot()"
   ]
  },
  {
   "cell_type": "code",
   "execution_count": 57,
   "id": "1965f798",
   "metadata": {},
   "outputs": [
    {
     "data": {
      "text/html": [
       "<div>\n",
       "<style scoped>\n",
       "    .dataframe tbody tr th:only-of-type {\n",
       "        vertical-align: middle;\n",
       "    }\n",
       "\n",
       "    .dataframe tbody tr th {\n",
       "        vertical-align: top;\n",
       "    }\n",
       "\n",
       "    .dataframe thead th {\n",
       "        text-align: right;\n",
       "    }\n",
       "</style>\n",
       "<table border=\"1\" class=\"dataframe\">\n",
       "  <thead>\n",
       "    <tr style=\"text-align: right;\">\n",
       "      <th></th>\n",
       "      <th>created_on</th>\n",
       "      <th>l3</th>\n",
       "      <th>rooms</th>\n",
       "      <th>bedrooms</th>\n",
       "      <th>bathrooms</th>\n",
       "      <th>surface_total</th>\n",
       "      <th>surface_covered</th>\n",
       "      <th>price</th>\n",
       "      <th>year</th>\n",
       "      <th>month</th>\n",
       "      <th>price_usd_per_m2</th>\n",
       "      <th>COMUNA</th>\n",
       "      <th>target</th>\n",
       "    </tr>\n",
       "  </thead>\n",
       "  <tbody>\n",
       "    <tr>\n",
       "      <th>0</th>\n",
       "      <td>2020-08-22</td>\n",
       "      <td>Retiro</td>\n",
       "      <td>1</td>\n",
       "      <td>0</td>\n",
       "      <td>0</td>\n",
       "      <td>1</td>\n",
       "      <td>0</td>\n",
       "      <td>85.0</td>\n",
       "      <td>2020</td>\n",
       "      <td>8</td>\n",
       "      <td>0.808332</td>\n",
       "      <td>1.0</td>\n",
       "      <td>0</td>\n",
       "    </tr>\n",
       "    <tr>\n",
       "      <th>1</th>\n",
       "      <td>2020-08-22</td>\n",
       "      <td>Almagro</td>\n",
       "      <td>0</td>\n",
       "      <td>0</td>\n",
       "      <td>1</td>\n",
       "      <td>0</td>\n",
       "      <td>0</td>\n",
       "      <td>110.0</td>\n",
       "      <td>2020</td>\n",
       "      <td>8</td>\n",
       "      <td>2.894737</td>\n",
       "      <td>5.0</td>\n",
       "      <td>1</td>\n",
       "    </tr>\n",
       "    <tr>\n",
       "      <th>2</th>\n",
       "      <td>2020-08-22</td>\n",
       "      <td>Palermo</td>\n",
       "      <td>0</td>\n",
       "      <td>0</td>\n",
       "      <td>1</td>\n",
       "      <td>0</td>\n",
       "      <td>0</td>\n",
       "      <td>105.0</td>\n",
       "      <td>2020</td>\n",
       "      <td>8</td>\n",
       "      <td>3.000000</td>\n",
       "      <td>14.0</td>\n",
       "      <td>1</td>\n",
       "    </tr>\n",
       "    <tr>\n",
       "      <th>3</th>\n",
       "      <td>2020-08-22</td>\n",
       "      <td>Palermo</td>\n",
       "      <td>1</td>\n",
       "      <td>0</td>\n",
       "      <td>1</td>\n",
       "      <td>0</td>\n",
       "      <td>0</td>\n",
       "      <td>150.0</td>\n",
       "      <td>2020</td>\n",
       "      <td>8</td>\n",
       "      <td>2.941176</td>\n",
       "      <td>14.0</td>\n",
       "      <td>1</td>\n",
       "    </tr>\n",
       "    <tr>\n",
       "      <th>4</th>\n",
       "      <td>2020-08-22</td>\n",
       "      <td>Palermo</td>\n",
       "      <td>1</td>\n",
       "      <td>0</td>\n",
       "      <td>1</td>\n",
       "      <td>0</td>\n",
       "      <td>0</td>\n",
       "      <td>136.5</td>\n",
       "      <td>2020</td>\n",
       "      <td>8</td>\n",
       "      <td>2.575472</td>\n",
       "      <td>14.0</td>\n",
       "      <td>1</td>\n",
       "    </tr>\n",
       "  </tbody>\n",
       "</table>\n",
       "</div>"
      ],
      "text/plain": [
       "   created_on       l3  rooms  bedrooms  bathrooms  surface_total  \\\n",
       "0  2020-08-22   Retiro      1         0          0              1   \n",
       "1  2020-08-22  Almagro      0         0          1              0   \n",
       "2  2020-08-22  Palermo      0         0          1              0   \n",
       "3  2020-08-22  Palermo      1         0          1              0   \n",
       "4  2020-08-22  Palermo      1         0          1              0   \n",
       "\n",
       "   surface_covered  price  year  month  price_usd_per_m2  COMUNA  target  \n",
       "0                0   85.0  2020      8          0.808332     1.0       0  \n",
       "1                0  110.0  2020      8          2.894737     5.0       1  \n",
       "2                0  105.0  2020      8          3.000000    14.0       1  \n",
       "3                0  150.0  2020      8          2.941176    14.0       1  \n",
       "4                0  136.5  2020      8          2.575472    14.0       1  "
      ]
     },
     "execution_count": 57,
     "metadata": {},
     "output_type": "execute_result"
    }
   ],
   "source": [
    "df_tpfinal_som['surface_covered'] = df_tpfinal_som['surface_covered'].apply(map_surface_total)\n",
    "df_tpfinal_som.head()"
   ]
  },
  {
   "cell_type": "code",
   "execution_count": 58,
   "id": "3e20f042",
   "metadata": {},
   "outputs": [],
   "source": [
    "del df_tpfinal_som['l3']\n",
    "del df_tpfinal_som['created_on']\n",
    "del df_tpfinal_som['year']\n",
    "del df_tpfinal_som['month']\n",
    "del df_tpfinal_som['price_usd_per_m2']"
   ]
  },
  {
   "cell_type": "code",
   "execution_count": 59,
   "id": "e62cbfc1",
   "metadata": {},
   "outputs": [
    {
     "data": {
      "text/html": [
       "<div>\n",
       "<style scoped>\n",
       "    .dataframe tbody tr th:only-of-type {\n",
       "        vertical-align: middle;\n",
       "    }\n",
       "\n",
       "    .dataframe tbody tr th {\n",
       "        vertical-align: top;\n",
       "    }\n",
       "\n",
       "    .dataframe thead th {\n",
       "        text-align: right;\n",
       "    }\n",
       "</style>\n",
       "<table border=\"1\" class=\"dataframe\">\n",
       "  <thead>\n",
       "    <tr style=\"text-align: right;\">\n",
       "      <th></th>\n",
       "      <th>rooms</th>\n",
       "      <th>bedrooms</th>\n",
       "      <th>bathrooms</th>\n",
       "      <th>surface_total</th>\n",
       "      <th>surface_covered</th>\n",
       "      <th>price</th>\n",
       "      <th>COMUNA</th>\n",
       "      <th>target</th>\n",
       "    </tr>\n",
       "  </thead>\n",
       "  <tbody>\n",
       "    <tr>\n",
       "      <th>0</th>\n",
       "      <td>1</td>\n",
       "      <td>0</td>\n",
       "      <td>0</td>\n",
       "      <td>1</td>\n",
       "      <td>0</td>\n",
       "      <td>85.0</td>\n",
       "      <td>1.0</td>\n",
       "      <td>0</td>\n",
       "    </tr>\n",
       "    <tr>\n",
       "      <th>1</th>\n",
       "      <td>0</td>\n",
       "      <td>0</td>\n",
       "      <td>1</td>\n",
       "      <td>0</td>\n",
       "      <td>0</td>\n",
       "      <td>110.0</td>\n",
       "      <td>5.0</td>\n",
       "      <td>1</td>\n",
       "    </tr>\n",
       "    <tr>\n",
       "      <th>2</th>\n",
       "      <td>0</td>\n",
       "      <td>0</td>\n",
       "      <td>1</td>\n",
       "      <td>0</td>\n",
       "      <td>0</td>\n",
       "      <td>105.0</td>\n",
       "      <td>14.0</td>\n",
       "      <td>1</td>\n",
       "    </tr>\n",
       "    <tr>\n",
       "      <th>3</th>\n",
       "      <td>1</td>\n",
       "      <td>0</td>\n",
       "      <td>1</td>\n",
       "      <td>0</td>\n",
       "      <td>0</td>\n",
       "      <td>150.0</td>\n",
       "      <td>14.0</td>\n",
       "      <td>1</td>\n",
       "    </tr>\n",
       "    <tr>\n",
       "      <th>4</th>\n",
       "      <td>1</td>\n",
       "      <td>0</td>\n",
       "      <td>1</td>\n",
       "      <td>0</td>\n",
       "      <td>0</td>\n",
       "      <td>136.5</td>\n",
       "      <td>14.0</td>\n",
       "      <td>1</td>\n",
       "    </tr>\n",
       "  </tbody>\n",
       "</table>\n",
       "</div>"
      ],
      "text/plain": [
       "   rooms  bedrooms  bathrooms  surface_total  surface_covered  price  COMUNA  \\\n",
       "0      1         0          0              1                0   85.0     1.0   \n",
       "1      0         0          1              0                0  110.0     5.0   \n",
       "2      0         0          1              0                0  105.0    14.0   \n",
       "3      1         0          1              0                0  150.0    14.0   \n",
       "4      1         0          1              0                0  136.5    14.0   \n",
       "\n",
       "   target  \n",
       "0       0  \n",
       "1       1  \n",
       "2       1  \n",
       "3       1  \n",
       "4       1  "
      ]
     },
     "execution_count": 59,
     "metadata": {},
     "output_type": "execute_result"
    }
   ],
   "source": [
    "df_tpfinal_som.head()"
   ]
  },
  {
   "cell_type": "code",
   "execution_count": 60,
   "id": "57069417",
   "metadata": {},
   "outputs": [
    {
     "name": "stdout",
     "output_type": "stream",
     "text": [
      "<class 'pandas.core.frame.DataFrame'>\n",
      "RangeIndex: 131720 entries, 0 to 131719\n",
      "Data columns (total 8 columns):\n",
      " #   Column           Non-Null Count   Dtype  \n",
      "---  ------           --------------   -----  \n",
      " 0   rooms            131720 non-null  int64  \n",
      " 1   bedrooms         131720 non-null  int64  \n",
      " 2   bathrooms        131720 non-null  int64  \n",
      " 3   surface_total    131720 non-null  int64  \n",
      " 4   surface_covered  131720 non-null  int64  \n",
      " 5   price            128568 non-null  float64\n",
      " 6   COMUNA           112841 non-null  float64\n",
      " 7   target           131720 non-null  int64  \n",
      "dtypes: float64(2), int64(6)\n",
      "memory usage: 8.0 MB\n"
     ]
    }
   ],
   "source": [
    "df_tpfinal_som.info()"
   ]
  },
  {
   "cell_type": "code",
   "execution_count": 61,
   "id": "5d199c4c",
   "metadata": {},
   "outputs": [],
   "source": [
    "df_tpfinal_som.to_csv('data_caba_to_SOM.csv', index=False)"
   ]
  },
  {
   "cell_type": "code",
   "execution_count": 62,
   "id": "0c9a6af4",
   "metadata": {},
   "outputs": [
    {
     "data": {
      "text/html": [
       "<div>\n",
       "<style scoped>\n",
       "    .dataframe tbody tr th:only-of-type {\n",
       "        vertical-align: middle;\n",
       "    }\n",
       "\n",
       "    .dataframe tbody tr th {\n",
       "        vertical-align: top;\n",
       "    }\n",
       "\n",
       "    .dataframe thead th {\n",
       "        text-align: right;\n",
       "    }\n",
       "</style>\n",
       "<table border=\"1\" class=\"dataframe\">\n",
       "  <thead>\n",
       "    <tr style=\"text-align: right;\">\n",
       "      <th></th>\n",
       "      <th>rooms</th>\n",
       "      <th>bedrooms</th>\n",
       "      <th>bathrooms</th>\n",
       "      <th>surface_total</th>\n",
       "      <th>surface_covered</th>\n",
       "      <th>price</th>\n",
       "      <th>COMUNA</th>\n",
       "      <th>target</th>\n",
       "    </tr>\n",
       "  </thead>\n",
       "  <tbody>\n",
       "    <tr>\n",
       "      <th>0</th>\n",
       "      <td>1</td>\n",
       "      <td>0</td>\n",
       "      <td>0</td>\n",
       "      <td>1</td>\n",
       "      <td>0</td>\n",
       "      <td>85.0</td>\n",
       "      <td>1.0</td>\n",
       "      <td>0</td>\n",
       "    </tr>\n",
       "    <tr>\n",
       "      <th>1</th>\n",
       "      <td>0</td>\n",
       "      <td>0</td>\n",
       "      <td>1</td>\n",
       "      <td>0</td>\n",
       "      <td>0</td>\n",
       "      <td>110.0</td>\n",
       "      <td>5.0</td>\n",
       "      <td>1</td>\n",
       "    </tr>\n",
       "    <tr>\n",
       "      <th>2</th>\n",
       "      <td>0</td>\n",
       "      <td>0</td>\n",
       "      <td>1</td>\n",
       "      <td>0</td>\n",
       "      <td>0</td>\n",
       "      <td>105.0</td>\n",
       "      <td>14.0</td>\n",
       "      <td>1</td>\n",
       "    </tr>\n",
       "    <tr>\n",
       "      <th>3</th>\n",
       "      <td>1</td>\n",
       "      <td>0</td>\n",
       "      <td>1</td>\n",
       "      <td>0</td>\n",
       "      <td>0</td>\n",
       "      <td>150.0</td>\n",
       "      <td>14.0</td>\n",
       "      <td>1</td>\n",
       "    </tr>\n",
       "    <tr>\n",
       "      <th>4</th>\n",
       "      <td>1</td>\n",
       "      <td>0</td>\n",
       "      <td>1</td>\n",
       "      <td>0</td>\n",
       "      <td>0</td>\n",
       "      <td>136.5</td>\n",
       "      <td>14.0</td>\n",
       "      <td>1</td>\n",
       "    </tr>\n",
       "  </tbody>\n",
       "</table>\n",
       "</div>"
      ],
      "text/plain": [
       "   rooms  bedrooms  bathrooms  surface_total  surface_covered  price  COMUNA  \\\n",
       "0      1         0          0              1                0   85.0     1.0   \n",
       "1      0         0          1              0                0  110.0     5.0   \n",
       "2      0         0          1              0                0  105.0    14.0   \n",
       "3      1         0          1              0                0  150.0    14.0   \n",
       "4      1         0          1              0                0  136.5    14.0   \n",
       "\n",
       "   target  \n",
       "0       0  \n",
       "1       1  \n",
       "2       1  \n",
       "3       1  \n",
       "4       1  "
      ]
     },
     "execution_count": 62,
     "metadata": {},
     "output_type": "execute_result"
    }
   ],
   "source": [
    "df_tpfinal_som.head()"
   ]
  }
 ],
 "metadata": {
  "kernelspec": {
   "display_name": "Python 3 (ipykernel)",
   "language": "python",
   "name": "python3"
  },
  "language_info": {
   "codemirror_mode": {
    "name": "ipython",
    "version": 3
   },
   "file_extension": ".py",
   "mimetype": "text/x-python",
   "name": "python",
   "nbconvert_exporter": "python",
   "pygments_lexer": "ipython3",
   "version": "3.9.13"
  }
 },
 "nbformat": 4,
 "nbformat_minor": 5
}
